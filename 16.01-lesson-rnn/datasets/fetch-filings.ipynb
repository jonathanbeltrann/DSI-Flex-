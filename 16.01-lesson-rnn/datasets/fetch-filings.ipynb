{
 "cells": [
  {
   "cell_type": "code",
   "execution_count": 1,
   "metadata": {},
   "outputs": [],
   "source": [
    "import numpy as np\n",
    "import pandas as pd\n",
    "import requests\n",
    "from bs4 import BeautifulSoup\n",
    "import datetime"
   ]
  },
  {
   "cell_type": "code",
   "execution_count": 2,
   "metadata": {},
   "outputs": [],
   "source": [
    "ticker = 'AAPL'"
   ]
  },
  {
   "cell_type": "code",
   "execution_count": 3,
   "metadata": {},
   "outputs": [],
   "source": [
    "def get_soup(url, params = {}):\n",
    "    res = requests.get(url, params)\n",
    "    soup = BeautifulSoup(res.content, \"lxml\")\n",
    "    return soup\n",
    "\n",
    "def parse_filings_list(soup, filing_type):\n",
    "    filings = []\n",
    "    \n",
    "    table = soup.find('table', {'summary': 'Results'})\n",
    "    rows = table.find_all('tr')[1:]\n",
    "    for row in rows:\n",
    "        cells = row.find_all('td')\n",
    "        if filing_type != cells[0].text.strip():\n",
    "            continue\n",
    "        filing = {}\n",
    "        filing['Type'] = cells[0].text\n",
    "        filing['Date'] = cells[3].text\n",
    "        filings.append(filing)\n",
    "        \n",
    "    \n",
    "    df = pd.DataFrame(filings)\n",
    "    return df\n",
    "\n",
    "def get_filings_index(cik):\n",
    "    sec_url = 'https://www.sec.gov/cgi-bin/browse-edgar'\n",
    "    \n",
    "    params = {\n",
    "        'action': 'getcompany',\n",
    "        'CIK': cik,\n",
    "        'owner': 'exclude',\n",
    "        'count': '40'\n",
    "    }\n",
    "    \n",
    "    filings = []\n",
    "    for filing_type in ['10-K', '10-Q', '8-K']:\n",
    "        params['type'] = filing_type\n",
    "        soup = get_soup(sec_url, params)\n",
    "        filings_df = parse_filings_list(soup, filing_type)\n",
    "        filings.append(filings_df)\n",
    "    combined_df = pd.concat(filings)\n",
    "    combined_df['Date'] = pd.to_datetime(combined_df['Date'])\n",
    "    combined_df.sort_values('Date', inplace=True, ascending=False)\n",
    "    combined_df.reset_index(drop=True, inplace=True)\n",
    "    combined_df['Value'] = 1\n",
    "    df = combined_df.pivot(index='Date', columns='Type', values='Value')\n",
    "    df.sort_index(inplace=True)\n",
    "    df.fillna(0, inplace=True)\n",
    "    return df"
   ]
  },
  {
   "cell_type": "code",
   "execution_count": 5,
   "metadata": {},
   "outputs": [],
   "source": [
    "filings = get_filings_index(ticker)\n",
    "\n",
    "filings.head()"
   ]
  },
  {
   "cell_type": "code",
   "execution_count": 6,
   "metadata": {},
   "outputs": [],
   "source": [
    "filings.to_csv('filings.csv')"
   ]
  }
 ],
 "metadata": {
  "kernelspec": {
   "display_name": "Python 3 (ipykernel)",
   "language": "python",
   "name": "python3"
  },
  "language_info": {
   "codemirror_mode": {
    "name": "ipython",
    "version": 3
   },
   "file_extension": ".py",
   "mimetype": "text/x-python",
   "name": "python",
   "nbconvert_exporter": "python",
   "pygments_lexer": "ipython3",
   "version": "3.9.7"
  }
 },
 "nbformat": 4,
 "nbformat_minor": 4
}
