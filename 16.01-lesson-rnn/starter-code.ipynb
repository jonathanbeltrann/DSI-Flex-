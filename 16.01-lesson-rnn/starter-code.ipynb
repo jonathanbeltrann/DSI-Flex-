{
 "cells": [
  {
   "cell_type": "markdown",
   "metadata": {},
   "source": [
    "<img src=\"http://imgur.com/1ZcRyrc.png\" style=\"float: left; margin: 20px; height: 55px\">\n",
    "\n",
    "# Recurrent Neural Networks (RNNs)\n",
    "\n",
    "_Author: Riley Dallas (ATX), Patrick Wales-Dinan (SF), Noah Christiansen_\n",
    "\n",
    "---\n",
    "\n",
    "\n",
    "### Learning Objectives\n",
    "\n",
    "- Learn how to train/test split for sequence data\n",
    "- Use `TimeseriesGenerator` to prep our time series data for modeling\n",
    "- Create a basic RNN model using `keras`"
   ]
  },
  {
   "cell_type": "code",
   "execution_count": 1,
   "metadata": {},
   "outputs": [
    {
     "ename": "KeyboardInterrupt",
     "evalue": "",
     "output_type": "error",
     "traceback": [
      "\u001b[0;31m---------------------------------------------------------------------------\u001b[0m",
      "\u001b[0;31mKeyboardInterrupt\u001b[0m                         Traceback (most recent call last)",
      "\u001b[0;32m/var/folders/85/gfsz06392cx1589spz1jvvtc0000gn/T/ipykernel_824/2015069680.py\u001b[0m in \u001b[0;36m<module>\u001b[0;34m\u001b[0m\n\u001b[0;32m----> 1\u001b[0;31m \u001b[0;32mimport\u001b[0m \u001b[0mnumpy\u001b[0m \u001b[0;32mas\u001b[0m \u001b[0mnp\u001b[0m\u001b[0;34m\u001b[0m\u001b[0;34m\u001b[0m\u001b[0m\n\u001b[0m\u001b[1;32m      2\u001b[0m \u001b[0;32mimport\u001b[0m \u001b[0mpandas\u001b[0m \u001b[0;32mas\u001b[0m \u001b[0mpd\u001b[0m\u001b[0;34m\u001b[0m\u001b[0;34m\u001b[0m\u001b[0m\n\u001b[1;32m      3\u001b[0m \u001b[0;32mimport\u001b[0m \u001b[0mmatplotlib\u001b[0m\u001b[0;34m.\u001b[0m\u001b[0mpyplot\u001b[0m \u001b[0;32mas\u001b[0m \u001b[0mplt\u001b[0m\u001b[0;34m\u001b[0m\u001b[0;34m\u001b[0m\u001b[0m\n\u001b[1;32m      4\u001b[0m \u001b[0;32mimport\u001b[0m \u001b[0mrequests\u001b[0m\u001b[0;34m\u001b[0m\u001b[0;34m\u001b[0m\u001b[0m\n\u001b[1;32m      5\u001b[0m \u001b[0;34m\u001b[0m\u001b[0m\n",
      "\u001b[0;32m~/opt/miniconda3/lib/python3.9/site-packages/numpy/__init__.py\u001b[0m in \u001b[0;36m<module>\u001b[0;34m\u001b[0m\n\u001b[1;32m    148\u001b[0m     \u001b[0;32mfrom\u001b[0m \u001b[0;34m.\u001b[0m \u001b[0;32mimport\u001b[0m \u001b[0m_distributor_init\u001b[0m\u001b[0;34m\u001b[0m\u001b[0;34m\u001b[0m\u001b[0m\n\u001b[1;32m    149\u001b[0m \u001b[0;34m\u001b[0m\u001b[0m\n\u001b[0;32m--> 150\u001b[0;31m     \u001b[0;32mfrom\u001b[0m \u001b[0;34m.\u001b[0m \u001b[0;32mimport\u001b[0m \u001b[0mcore\u001b[0m\u001b[0;34m\u001b[0m\u001b[0;34m\u001b[0m\u001b[0m\n\u001b[0m\u001b[1;32m    151\u001b[0m     \u001b[0;32mfrom\u001b[0m \u001b[0;34m.\u001b[0m\u001b[0mcore\u001b[0m \u001b[0;32mimport\u001b[0m \u001b[0;34m*\u001b[0m\u001b[0;34m\u001b[0m\u001b[0;34m\u001b[0m\u001b[0m\n\u001b[1;32m    152\u001b[0m     \u001b[0;32mfrom\u001b[0m \u001b[0;34m.\u001b[0m \u001b[0;32mimport\u001b[0m \u001b[0mcompat\u001b[0m\u001b[0;34m\u001b[0m\u001b[0;34m\u001b[0m\u001b[0m\n",
      "\u001b[0;32m~/opt/miniconda3/lib/python3.9/site-packages/numpy/core/__init__.py\u001b[0m in \u001b[0;36m<module>\u001b[0;34m\u001b[0m\n\u001b[1;32m     20\u001b[0m \u001b[0;34m\u001b[0m\u001b[0m\n\u001b[1;32m     21\u001b[0m \u001b[0;32mtry\u001b[0m\u001b[0;34m:\u001b[0m\u001b[0;34m\u001b[0m\u001b[0;34m\u001b[0m\u001b[0m\n\u001b[0;32m---> 22\u001b[0;31m     \u001b[0;32mfrom\u001b[0m \u001b[0;34m.\u001b[0m \u001b[0;32mimport\u001b[0m \u001b[0mmultiarray\u001b[0m\u001b[0;34m\u001b[0m\u001b[0;34m\u001b[0m\u001b[0m\n\u001b[0m\u001b[1;32m     23\u001b[0m \u001b[0;32mexcept\u001b[0m \u001b[0mImportError\u001b[0m \u001b[0;32mas\u001b[0m \u001b[0mexc\u001b[0m\u001b[0;34m:\u001b[0m\u001b[0;34m\u001b[0m\u001b[0;34m\u001b[0m\u001b[0m\n\u001b[1;32m     24\u001b[0m     \u001b[0;32mimport\u001b[0m \u001b[0msys\u001b[0m\u001b[0;34m\u001b[0m\u001b[0;34m\u001b[0m\u001b[0m\n",
      "\u001b[0;32m~/opt/miniconda3/lib/python3.9/site-packages/numpy/core/multiarray.py\u001b[0m in \u001b[0;36m<module>\u001b[0;34m\u001b[0m\n\u001b[1;32m     10\u001b[0m \u001b[0;32mimport\u001b[0m \u001b[0mwarnings\u001b[0m\u001b[0;34m\u001b[0m\u001b[0;34m\u001b[0m\u001b[0m\n\u001b[1;32m     11\u001b[0m \u001b[0;34m\u001b[0m\u001b[0m\n\u001b[0;32m---> 12\u001b[0;31m \u001b[0;32mfrom\u001b[0m \u001b[0;34m.\u001b[0m \u001b[0;32mimport\u001b[0m \u001b[0moverrides\u001b[0m\u001b[0;34m\u001b[0m\u001b[0;34m\u001b[0m\u001b[0m\n\u001b[0m\u001b[1;32m     13\u001b[0m \u001b[0;32mfrom\u001b[0m \u001b[0;34m.\u001b[0m \u001b[0;32mimport\u001b[0m \u001b[0m_multiarray_umath\u001b[0m\u001b[0;34m\u001b[0m\u001b[0;34m\u001b[0m\u001b[0m\n\u001b[1;32m     14\u001b[0m \u001b[0;32mfrom\u001b[0m \u001b[0;34m.\u001b[0m\u001b[0m_multiarray_umath\u001b[0m \u001b[0;32mimport\u001b[0m \u001b[0;34m*\u001b[0m  \u001b[0;31m# noqa: F403\u001b[0m\u001b[0;34m\u001b[0m\u001b[0;34m\u001b[0m\u001b[0m\n",
      "\u001b[0;32m~/opt/miniconda3/lib/python3.9/site-packages/numpy/core/overrides.py\u001b[0m in \u001b[0;36m<module>\u001b[0;34m\u001b[0m\n\u001b[1;32m      5\u001b[0m \u001b[0;32mimport\u001b[0m \u001b[0mtextwrap\u001b[0m\u001b[0;34m\u001b[0m\u001b[0;34m\u001b[0m\u001b[0m\n\u001b[1;32m      6\u001b[0m \u001b[0;34m\u001b[0m\u001b[0m\n\u001b[0;32m----> 7\u001b[0;31m from numpy.core._multiarray_umath import (\n\u001b[0m\u001b[1;32m      8\u001b[0m     add_docstring, implement_array_function, _get_implementing_args)\n\u001b[1;32m      9\u001b[0m \u001b[0;32mfrom\u001b[0m \u001b[0mnumpy\u001b[0m\u001b[0;34m.\u001b[0m\u001b[0mcompat\u001b[0m\u001b[0;34m.\u001b[0m\u001b[0m_inspect\u001b[0m \u001b[0;32mimport\u001b[0m \u001b[0mgetargspec\u001b[0m\u001b[0;34m\u001b[0m\u001b[0;34m\u001b[0m\u001b[0m\n",
      "\u001b[0;31mKeyboardInterrupt\u001b[0m: "
     ]
    }
   ],
   "source": [
    "import numpy as np\n",
    "import pandas as pd\n",
    "import matplotlib.pyplot as plt\n",
    "import requests\n",
    "\n",
    "from sklearn.preprocessing import StandardScaler\n",
    "from sklearn.model_selection import train_test_split\n",
    "from sklearn.metrics import accuracy_score\n",
    "\n",
    "from tensorflow.keras.models import Sequential\n",
    "from tensorflow.keras.layers import Dense, Dropout, GRU, LSTM\n",
    "from tensorflow.keras.optimizers import Adam\n",
    "from tensorflow.keras.preprocessing.sequence import TimeseriesGenerator"
   ]
  },
  {
   "cell_type": "markdown",
   "metadata": {},
   "source": [
    "## Load data: AAPL stock prices\n",
    "\n",
    "We will use the [AlphaVantage API](https://www.alphavantage.co/documentation/) to gather Apple stock data for the last 20 years or so. Though you are also welcome to query another stock ticker if you would like.\n",
    "\n",
    "Below is a helper function for querying the API. You can obtain a free API key from AlphaVantage, but we can also use any string in place of one."
   ]
  },
  {
   "cell_type": "code",
   "execution_count": 3,
   "metadata": {},
   "outputs": [],
   "source": [
    "def get_stock_data(symbol,\n",
    "                   function = \"TIME_SERIES_DAILY\",\n",
    "                   interval = \"5min\", ## only used with TIME_SERIES_INTRADAY function\n",
    "                   apikey = \"key\",\n",
    "                   outputsize = \"compact\"):\n",
    "    base_url = \"https://www.alphavantage.co/query\"\n",
    "\n",
    "    res = requests.get(url = base_url, params = {\n",
    "            \"function\":function,\n",
    "            \"symbol\":symbol,\n",
    "            \"interval\":interval,\n",
    "            \"apikey\":apikey,\n",
    "            \"outputsize\":outputsize\n",
    "    })\n",
    "    \n",
    "    data = res.json()\n",
    "    data_key = list(data.keys())[1]\n",
    "    data_df = pd.DataFrame(data[data_key]).T\n",
    "    \n",
    "    data_df.index = pd.to_datetime(data_df.index)\n",
    "    data_df.sort_index(inplace = True)\n",
    "    data_df.rename(columns = {\n",
    "        \"1. open\":\"Open\",\n",
    "        \"2. high\":\"High\",\n",
    "        \"3. low\":\"Low\",\n",
    "        \"4. close\":\"Close\",\n",
    "        \"5. volume\":\"Volume\"}, inplace = True)\n",
    "    \n",
    "    return data_df.astype(float)"
   ]
  },
  {
   "cell_type": "code",
   "execution_count": 6,
   "metadata": {},
   "outputs": [],
   "source": [
    "# Load stock data using the function above\n",
    "prices = get_stock_data(\"AAPL\", outputsize= 'full')"
   ]
  },
  {
   "cell_type": "code",
   "execution_count": 7,
   "metadata": {},
   "outputs": [
    {
     "data": {
      "text/plain": [
       "(5624, 5)"
      ]
     },
     "execution_count": 7,
     "metadata": {},
     "output_type": "execute_result"
    }
   ],
   "source": [
    "prices.shape"
   ]
  },
  {
   "cell_type": "markdown",
   "metadata": {
    "tags": []
   },
   "source": [
    "## `DateTime` Index\n",
    "---\n",
    "\n",
    "Since these are time series datasets, we need the indices to be datetime objects. Let's check our index and convert it to datetime if it isn't already."
   ]
  },
  {
   "cell_type": "code",
   "execution_count": 9,
   "metadata": {},
   "outputs": [
    {
     "name": "stdout",
     "output_type": "stream",
     "text": [
      "<class 'pandas.core.frame.DataFrame'>\n",
      "DatetimeIndex: 5624 entries, 1999-11-01 to 2022-03-08\n",
      "Data columns (total 5 columns):\n",
      " #   Column  Non-Null Count  Dtype  \n",
      "---  ------  --------------  -----  \n",
      " 0   Open    5624 non-null   float64\n",
      " 1   High    5624 non-null   float64\n",
      " 2   Low     5624 non-null   float64\n",
      " 3   Close   5624 non-null   float64\n",
      " 4   Volume  5624 non-null   float64\n",
      "dtypes: float64(5)\n",
      "memory usage: 263.6 KB\n"
     ]
    }
   ],
   "source": [
    "prices.info()"
   ]
  },
  {
   "cell_type": "markdown",
   "metadata": {},
   "source": [
    "## Data cleaning: Prices\n",
    "---\n",
    "\n",
    "For Apple's stock prices, we'll need to do a few things:\n",
    "1. De-trend the dataset using `.pct_change()`\n",
    "2. Drop any `NaN`s that were created from step 1"
   ]
  },
  {
   "cell_type": "code",
   "execution_count": 10,
   "metadata": {},
   "outputs": [
    {
     "data": {
      "text/plain": [
       "<AxesSubplot:>"
      ]
     },
     "execution_count": 10,
     "metadata": {},
     "output_type": "execute_result"
    },
    {
     "data": {
      "image/png": "[encoded data removed]",
      "text/plain": [
       "<Figure size 864x432 with 1 Axes>"
      ]
     },
     "metadata": {
      "needs_background": "light"
     },
     "output_type": "display_data"
    }
   ],
   "source": [
    "# Plot Close column\n",
    "prices['Close'].plot(figsize = (12,6))"
   ]
  },
  {
   "cell_type": "code",
   "execution_count": 11,
   "metadata": {},
   "outputs": [
    {
     "data": {
      "text/html": [
       "<div>\n",
       "<style scoped>\n",
       "    .dataframe tbody tr th:only-of-type {\n",
       "        vertical-align: middle;\n",
       "    }\n",
       "\n",
       "    .dataframe tbody tr th {\n",
       "        vertical-align: top;\n",
       "    }\n",
       "\n",
       "    .dataframe thead th {\n",
       "        text-align: right;\n",
       "    }\n",
       "</style>\n",
       "<table border=\"1\" class=\"dataframe\">\n",
       "  <thead>\n",
       "    <tr style=\"text-align: right;\">\n",
       "      <th></th>\n",
       "      <th>Open</th>\n",
       "      <th>High</th>\n",
       "      <th>Low</th>\n",
       "      <th>Close</th>\n",
       "      <th>Volume</th>\n",
       "    </tr>\n",
       "  </thead>\n",
       "  <tbody>\n",
       "    <tr>\n",
       "      <th>1999-11-01</th>\n",
       "      <td>NaN</td>\n",
       "      <td>NaN</td>\n",
       "      <td>NaN</td>\n",
       "      <td>NaN</td>\n",
       "      <td>NaN</td>\n",
       "    </tr>\n",
       "    <tr>\n",
       "      <th>1999-11-02</th>\n",
       "      <td>-0.025000</td>\n",
       "      <td>0.012393</td>\n",
       "      <td>-0.000775</td>\n",
       "      <td>0.033883</td>\n",
       "      <td>0.433120</td>\n",
       "    </tr>\n",
       "    <tr>\n",
       "      <th>1999-11-03</th>\n",
       "      <td>0.046410</td>\n",
       "      <td>0.019097</td>\n",
       "      <td>0.047730</td>\n",
       "      <td>0.015576</td>\n",
       "      <td>-0.177271</td>\n",
       "    </tr>\n",
       "    <tr>\n",
       "      <th>1999-11-04</th>\n",
       "      <td>0.005391</td>\n",
       "      <td>0.025465</td>\n",
       "      <td>-0.004691</td>\n",
       "      <td>0.026012</td>\n",
       "      <td>0.154124</td>\n",
       "    </tr>\n",
       "    <tr>\n",
       "      <th>1999-11-05</th>\n",
       "      <td>0.031197</td>\n",
       "      <td>0.035141</td>\n",
       "      <td>0.041925</td>\n",
       "      <td>0.056087</td>\n",
       "      <td>0.099507</td>\n",
       "    </tr>\n",
       "  </tbody>\n",
       "</table>\n",
       "</div>"
      ],
      "text/plain": [
       "                Open      High       Low     Close    Volume\n",
       "1999-11-01       NaN       NaN       NaN       NaN       NaN\n",
       "1999-11-02 -0.025000  0.012393 -0.000775  0.033883  0.433120\n",
       "1999-11-03  0.046410  0.019097  0.047730  0.015576 -0.177271\n",
       "1999-11-04  0.005391  0.025465 -0.004691  0.026012  0.154124\n",
       "1999-11-05  0.031197  0.035141  0.041925  0.056087  0.099507"
      ]
     },
     "execution_count": 11,
     "metadata": {},
     "output_type": "execute_result"
    }
   ],
   "source": [
    "# Convert prices to be percent changes from prior row\n",
    "prices = prices.pct_change()\n",
    "prices.head()"
   ]
  },
  {
   "cell_type": "code",
   "execution_count": 12,
   "metadata": {},
   "outputs": [],
   "source": [
    "# Drop nulls\n",
    "prices.dropna(inplace = True)"
   ]
  },
  {
   "cell_type": "code",
   "execution_count": 13,
   "metadata": {},
   "outputs": [
    {
     "data": {
      "image/png": "[encoded data removed]",
      "text/plain": [
       "<Figure size 864x432 with 1 Axes>"
      ]
     },
     "metadata": {
      "needs_background": "light"
     },
     "output_type": "display_data"
    }
   ],
   "source": [
    "# Plot Close column again\n",
    "prices['Close'].plot(figsize = (12,6));"
   ]
  },
  {
   "cell_type": "markdown",
   "metadata": {},
   "source": [
    "## Create `Target` column\n",
    "---\n",
    "\n",
    "Our column of interest is the `Close` prices. We could build a regression model, where we predict the actual percentage change, or we could set this up as a binary classification problem:\n",
    "- 1: The `Close` price was greater than or equal to the previous day\n",
    "- 0: The `Close` price was lower than the previous day\n",
    "\n",
    "We'll go with the latter option. In the cell below, let's create our binary `Target` column."
   ]
  },
  {
   "cell_type": "code",
   "execution_count": 16,
   "metadata": {},
   "outputs": [],
   "source": [
    "# Create Target column\n",
    "prices['target'] = (prices['Close'] >= 0).astype(int)"
   ]
  },
  {
   "cell_type": "code",
   "execution_count": 17,
   "metadata": {},
   "outputs": [
    {
     "data": {
      "text/plain": [
       "1    0.525165\n",
       "0    0.474835\n",
       "Name: target, dtype: float64"
      ]
     },
     "execution_count": 17,
     "metadata": {},
     "output_type": "execute_result"
    }
   ],
   "source": [
    "prices['target'].value_counts(normalize= True)"
   ]
  },
  {
   "cell_type": "code",
   "execution_count": 18,
   "metadata": {},
   "outputs": [
    {
     "data": {
      "text/html": [
       "<div>\n",
       "<style scoped>\n",
       "    .dataframe tbody tr th:only-of-type {\n",
       "        vertical-align: middle;\n",
       "    }\n",
       "\n",
       "    .dataframe tbody tr th {\n",
       "        vertical-align: top;\n",
       "    }\n",
       "\n",
       "    .dataframe thead th {\n",
       "        text-align: right;\n",
       "    }\n",
       "</style>\n",
       "<table border=\"1\" class=\"dataframe\">\n",
       "  <thead>\n",
       "    <tr style=\"text-align: right;\">\n",
       "      <th></th>\n",
       "      <th>Open</th>\n",
       "      <th>High</th>\n",
       "      <th>Low</th>\n",
       "      <th>Close</th>\n",
       "      <th>Volume</th>\n",
       "      <th>target</th>\n",
       "    </tr>\n",
       "  </thead>\n",
       "  <tbody>\n",
       "    <tr>\n",
       "      <th>1999-11-02</th>\n",
       "      <td>-0.025000</td>\n",
       "      <td>0.012393</td>\n",
       "      <td>-0.000775</td>\n",
       "      <td>0.033883</td>\n",
       "      <td>0.433120</td>\n",
       "      <td>1</td>\n",
       "    </tr>\n",
       "    <tr>\n",
       "      <th>1999-11-03</th>\n",
       "      <td>0.046410</td>\n",
       "      <td>0.019097</td>\n",
       "      <td>0.047730</td>\n",
       "      <td>0.015576</td>\n",
       "      <td>-0.177271</td>\n",
       "      <td>1</td>\n",
       "    </tr>\n",
       "    <tr>\n",
       "      <th>1999-11-04</th>\n",
       "      <td>0.005391</td>\n",
       "      <td>0.025465</td>\n",
       "      <td>-0.004691</td>\n",
       "      <td>0.026012</td>\n",
       "      <td>0.154124</td>\n",
       "      <td>1</td>\n",
       "    </tr>\n",
       "    <tr>\n",
       "      <th>1999-11-05</th>\n",
       "      <td>0.031197</td>\n",
       "      <td>0.035141</td>\n",
       "      <td>0.041925</td>\n",
       "      <td>0.056087</td>\n",
       "      <td>0.099507</td>\n",
       "      <td>1</td>\n",
       "    </tr>\n",
       "    <tr>\n",
       "      <th>1999-11-08</th>\n",
       "      <td>0.036989</td>\n",
       "      <td>0.105918</td>\n",
       "      <td>0.032738</td>\n",
       "      <td>0.091269</td>\n",
       "      <td>1.281446</td>\n",
       "      <td>1</td>\n",
       "    </tr>\n",
       "  </tbody>\n",
       "</table>\n",
       "</div>"
      ],
      "text/plain": [
       "                Open      High       Low     Close    Volume  target\n",
       "1999-11-02 -0.025000  0.012393 -0.000775  0.033883  0.433120       1\n",
       "1999-11-03  0.046410  0.019097  0.047730  0.015576 -0.177271       1\n",
       "1999-11-04  0.005391  0.025465 -0.004691  0.026012  0.154124       1\n",
       "1999-11-05  0.031197  0.035141  0.041925  0.056087  0.099507       1\n",
       "1999-11-08  0.036989  0.105918  0.032738  0.091269  1.281446       1"
      ]
     },
     "execution_count": 18,
     "metadata": {},
     "output_type": "execute_result"
    }
   ],
   "source": [
    "prices.head()"
   ]
  },
  {
   "cell_type": "code",
   "execution_count": null,
   "metadata": {},
   "outputs": [],
   "source": [
    "# Check value_counts"
   ]
  },
  {
   "cell_type": "markdown",
   "metadata": {},
   "source": [
    "## Train/Test Split\n",
    "---\n",
    "\n",
    "Since we're dealing with time series data, we don't want the model to be able to see the future. "
   ]
  },
  {
   "cell_type": "markdown",
   "metadata": {},
   "source": [
    "<details><summary>What do we need to do in train_test_split?</summary>\n",
    "\n",
    "- set `shuffle=False` so that the order is maintained\n",
    "</details>"
   ]
  },
  {
   "cell_type": "code",
   "execution_count": 19,
   "metadata": {},
   "outputs": [],
   "source": [
    "# Create X and y\n",
    "X = prices.drop(columns=['target'])\n",
    "y = prices['target']"
   ]
  },
  {
   "cell_type": "code",
   "execution_count": 21,
   "metadata": {},
   "outputs": [
    {
     "data": {
      "text/plain": [
       "((5341, 5), (282, 5))"
      ]
     },
     "execution_count": 21,
     "metadata": {},
     "output_type": "execute_result"
    }
   ],
   "source": [
    "# Train/Test Split\n",
    "X_train, X_test, y_train, y_test = train_test_split(X, y, test_size= 0.05, shuffle= False)\n",
    "X_train.shape, X_test.shape"
   ]
  },
  {
   "cell_type": "code",
   "execution_count": 22,
   "metadata": {},
   "outputs": [
    {
     "data": {
      "text/plain": [
       "(0.526305935218124, 0.5035460992907801)"
      ]
     },
     "execution_count": 22,
     "metadata": {},
     "output_type": "execute_result"
    }
   ],
   "source": [
    "# Check target mean for both train and test\n",
    "y_train.mean(), y_test.mean()"
   ]
  },
  {
   "cell_type": "markdown",
   "metadata": {},
   "source": [
    "## Scaling\n",
    "---\n",
    "\n",
    "You want to scale your data for any model that uses gradient descent, which includes neural networks."
   ]
  },
  {
   "cell_type": "code",
   "execution_count": 23,
   "metadata": {},
   "outputs": [],
   "source": [
    "# Scale training and testing data\n",
    "sc = StandardScaler()\n",
    "\n",
    "X_train_sc = sc.fit_transform(X_train)\n",
    "X_test_sc = sc.transform(X_test)"
   ]
  },
  {
   "cell_type": "markdown",
   "metadata": {},
   "source": [
    "## `TimeseriesGenerator`\n",
    "---\n",
    "\n",
    "We'll now convert our data into series' using [`TimeseriesGenerator`](https://www.tensorflow.org/api_docs/python/tf/keras/preprocessing/sequence/TimeseriesGenerator). The `length` parameter dictates how many rows will constitute a sample. The generator also creates our batches.\n",
    "\n",
    "```python\n",
    "train_sequences = TimeseriesGenerator(X_train_sc, y_train, length=3, batch_size=64)\n",
    "```\n",
    "\n",
    "In the cells below, convert your training and validation data into sequences."
   ]
  },
  {
   "cell_type": "code",
   "execution_count": 24,
   "metadata": {},
   "outputs": [],
   "source": [
    "# Create training sequences\n",
    "train_seq = TimeseriesGenerator(X_train_sc, y_train, length= 3, batch_size= 64)"
   ]
  },
  {
   "cell_type": "code",
   "execution_count": 68,
   "metadata": {},
   "outputs": [
    {
     "data": {
      "text/plain": [
       "(64, 3, 5)"
      ]
     },
     "execution_count": 68,
     "metadata": {},
     "output_type": "execute_result"
    }
   ],
   "source": [
    "# First batch of sequences\n",
    "\n",
    "train_seq[0][0].shape"
   ]
  },
  {
   "cell_type": "code",
   "execution_count": 28,
   "metadata": {},
   "outputs": [
    {
     "data": {
      "text/plain": [
       "(64,)"
      ]
     },
     "execution_count": 28,
     "metadata": {},
     "output_type": "execute_result"
    }
   ],
   "source": [
    "# first batch of target values\n",
    "train_seq[0][1].shape"
   ]
  },
  {
   "cell_type": "code",
   "execution_count": 29,
   "metadata": {},
   "outputs": [],
   "source": [
    "# Create test sequences\n",
    "test_seq = TimeseriesGenerator(X_test_sc, y_test, length= 3, batch_size= 64)"
   ]
  },
  {
   "cell_type": "markdown",
   "metadata": {},
   "source": [
    "## Modeling time!\n",
    "---\n",
    "\n",
    "Now it's time to design our RNN model. We'll have:\n",
    "\n",
    "- 2 [`GRU`](https://www.tensorflow.org/api_docs/python/tf/keras/layers/GRU) layers\n",
    "- 1 `Dense` output layer\n",
    "\n",
    "We're doing a binary classification problem."
   ]
  },
  {
   "cell_type": "code",
   "execution_count": 30,
   "metadata": {},
   "outputs": [
    {
     "data": {
      "text/plain": [
       "(3, 5)"
      ]
     },
     "execution_count": 30,
     "metadata": {},
     "output_type": "execute_result"
    }
   ],
   "source": [
    "## Check shape of a single sequence of data (this will be the input shape for our model)\n",
    "train_seq[0][0][0].shape"
   ]
  },
  {
   "cell_type": "code",
   "execution_count": 31,
   "metadata": {},
   "outputs": [
    {
     "data": {
      "text/plain": [
       "84"
      ]
     },
     "execution_count": 31,
     "metadata": {},
     "output_type": "execute_result"
    }
   ],
   "source": [
    "len(train_seq)"
   ]
  },
  {
   "cell_type": "code",
   "execution_count": 32,
   "metadata": {},
   "outputs": [
    {
     "data": {
      "text/plain": [
       "5"
      ]
     },
     "execution_count": 32,
     "metadata": {},
     "output_type": "execute_result"
    }
   ],
   "source": [
    "# how many batches in the whole testing df\n",
    "len(test_seq)"
   ]
  },
  {
   "cell_type": "code",
   "execution_count": 33,
   "metadata": {},
   "outputs": [
    {
     "data": {
      "text/plain": [
       "(64, 3, 5)"
      ]
     },
     "execution_count": 33,
     "metadata": {},
     "output_type": "execute_result"
    }
   ],
   "source": [
    "## First batch of testing sequences (64 sequences per batch, 3 observations per sequence, 5 columns per observation)\n",
    "test_seq[0][0].shape"
   ]
  },
  {
   "cell_type": "markdown",
   "metadata": {},
   "source": [
    "<details><summary>What should our output layer look like?</summary>\n",
    "\n",
    "- 1 neuron\n",
    "- sigmoid activation function\n",
    "- this way, our model predicts a probability\n",
    "</details>"
   ]
  },
  {
   "cell_type": "code",
   "execution_count": 35,
   "metadata": {},
   "outputs": [
    {
     "name": "stderr",
     "output_type": "stream",
     "text": [
      "2022-03-08 20:32:52.860851: I tensorflow/core/platform/cpu_feature_guard.cc:151] This TensorFlow binary is optimized with oneAPI Deep Neural Network Library (oneDNN) to use the following CPU instructions in performance-critical operations:  AVX2 FMA\n",
      "To enable them in other operations, rebuild TensorFlow with the appropriate compiler flags.\n"
     ]
    }
   ],
   "source": [
    "# Design RNN\n",
    "model = Sequential()\n",
    "\n",
    "model.add(GRU(16, input_shape = train_seq[0][0][0].shape,\n",
    "             return_sequences = True))  ## First GRU layer returns hidden state, passes back into self\n",
    "model.add(GRU(8, return_sequences = False))## Second GRU layer passes outputs forward to next layer\n",
    "\n",
    "model.add(Dense(8, activation = 'relu'))\n",
    "\n",
    "model.add(Dense(1, activation = 'sigmoid'))\n",
    "# Fit to training sequences, validate with test sequences\n",
    "model.compile(optimizer= Adam(0.01), loss = 'bce', metrics= ['accuracy'])"
   ]
  },
  {
   "cell_type": "code",
   "execution_count": 36,
   "metadata": {},
   "outputs": [
    {
     "name": "stdout",
     "output_type": "stream",
     "text": [
      "Model: \"sequential\"\n",
      "_________________________________________________________________\n",
      " Layer (type)                Output Shape              Param #   \n",
      "=================================================================\n",
      " gru (GRU)                   (None, 3, 16)             1104      \n",
      "                                                                 \n",
      " gru_1 (GRU)                 (None, 8)                 624       \n",
      "                                                                 \n",
      " dense (Dense)               (None, 8)                 72        \n",
      "                                                                 \n",
      " dense_1 (Dense)             (None, 1)                 9         \n",
      "                                                                 \n",
      "=================================================================\n",
      "Total params: 1,809\n",
      "Trainable params: 1,809\n",
      "Non-trainable params: 0\n",
      "_________________________________________________________________\n"
     ]
    }
   ],
   "source": [
    "model.summary()"
   ]
  },
  {
   "cell_type": "code",
   "execution_count": 37,
   "metadata": {},
   "outputs": [
    {
     "name": "stdout",
     "output_type": "stream",
     "text": [
      "Epoch 1/50\n",
      "84/84 [==============================] - 5s 14ms/step - loss: 0.6923 - accuracy: 0.5260 - val_loss: 0.6931 - val_accuracy: 0.5018\n",
      "Epoch 2/50\n",
      "84/84 [==============================] - 0s 4ms/step - loss: 0.6895 - accuracy: 0.5367 - val_loss: 0.6919 - val_accuracy: 0.5161\n",
      "Epoch 3/50\n",
      "84/84 [==============================] - 0s 4ms/step - loss: 0.6882 - accuracy: 0.5386 - val_loss: 0.6929 - val_accuracy: 0.5161\n",
      "Epoch 4/50\n",
      "84/84 [==============================] - 0s 4ms/step - loss: 0.6877 - accuracy: 0.5369 - val_loss: 0.6922 - val_accuracy: 0.4946\n",
      "Epoch 5/50\n",
      "84/84 [==============================] - 0s 4ms/step - loss: 0.6863 - accuracy: 0.5451 - val_loss: 0.6927 - val_accuracy: 0.5054\n",
      "Epoch 6/50\n",
      "84/84 [==============================] - 0s 4ms/step - loss: 0.6851 - accuracy: 0.5465 - val_loss: 0.6971 - val_accuracy: 0.5125\n",
      "Epoch 7/50\n",
      "84/84 [==============================] - 0s 4ms/step - loss: 0.6837 - accuracy: 0.5502 - val_loss: 0.7023 - val_accuracy: 0.4910\n",
      "Epoch 8/50\n",
      "84/84 [==============================] - 0s 4ms/step - loss: 0.6805 - accuracy: 0.5607 - val_loss: 0.6950 - val_accuracy: 0.5090\n",
      "Epoch 9/50\n",
      "84/84 [==============================] - 0s 4ms/step - loss: 0.6821 - accuracy: 0.5523 - val_loss: 0.7044 - val_accuracy: 0.5090\n",
      "Epoch 10/50\n",
      "84/84 [==============================] - 0s 4ms/step - loss: 0.6790 - accuracy: 0.5581 - val_loss: 0.7015 - val_accuracy: 0.4982\n",
      "Epoch 11/50\n",
      "84/84 [==============================] - 0s 4ms/step - loss: 0.6765 - accuracy: 0.5609 - val_loss: 0.7026 - val_accuracy: 0.5090\n",
      "Epoch 12/50\n",
      "84/84 [==============================] - 0s 4ms/step - loss: 0.6738 - accuracy: 0.5712 - val_loss: 0.7139 - val_accuracy: 0.5054\n",
      "Epoch 13/50\n",
      "84/84 [==============================] - 0s 4ms/step - loss: 0.6704 - accuracy: 0.5744 - val_loss: 0.7073 - val_accuracy: 0.5018\n",
      "Epoch 14/50\n",
      "84/84 [==============================] - 0s 4ms/step - loss: 0.6680 - accuracy: 0.5759 - val_loss: 0.7079 - val_accuracy: 0.4946\n",
      "Epoch 15/50\n",
      "84/84 [==============================] - 0s 4ms/step - loss: 0.6656 - accuracy: 0.5789 - val_loss: 0.7120 - val_accuracy: 0.4946\n",
      "Epoch 16/50\n",
      "84/84 [==============================] - 0s 5ms/step - loss: 0.6627 - accuracy: 0.5817 - val_loss: 0.7130 - val_accuracy: 0.5125\n",
      "Epoch 17/50\n",
      "84/84 [==============================] - 0s 5ms/step - loss: 0.6589 - accuracy: 0.5815 - val_loss: 0.7163 - val_accuracy: 0.5125\n",
      "Epoch 18/50\n",
      "84/84 [==============================] - 0s 5ms/step - loss: 0.6540 - accuracy: 0.5905 - val_loss: 0.7061 - val_accuracy: 0.5305\n",
      "Epoch 19/50\n",
      "84/84 [==============================] - 0s 5ms/step - loss: 0.6533 - accuracy: 0.5931 - val_loss: 0.7240 - val_accuracy: 0.4803\n",
      "Epoch 20/50\n",
      "84/84 [==============================] - 0s 5ms/step - loss: 0.6480 - accuracy: 0.5903 - val_loss: 0.7221 - val_accuracy: 0.5161\n",
      "Epoch 21/50\n",
      "84/84 [==============================] - 0s 5ms/step - loss: 0.6445 - accuracy: 0.6043 - val_loss: 0.7373 - val_accuracy: 0.4659\n",
      "Epoch 22/50\n",
      "84/84 [==============================] - 0s 4ms/step - loss: 0.6376 - accuracy: 0.6053 - val_loss: 0.7490 - val_accuracy: 0.4910\n",
      "Epoch 23/50\n",
      "84/84 [==============================] - 0s 4ms/step - loss: 0.6341 - accuracy: 0.6062 - val_loss: 0.7434 - val_accuracy: 0.4982\n",
      "Epoch 24/50\n",
      "84/84 [==============================] - 0s 4ms/step - loss: 0.6297 - accuracy: 0.6103 - val_loss: 0.7594 - val_accuracy: 0.4839\n",
      "Epoch 25/50\n",
      "84/84 [==============================] - 0s 4ms/step - loss: 0.6320 - accuracy: 0.6068 - val_loss: 0.7545 - val_accuracy: 0.4839\n",
      "Epoch 26/50\n",
      "84/84 [==============================] - 0s 4ms/step - loss: 0.6232 - accuracy: 0.6128 - val_loss: 0.7440 - val_accuracy: 0.4910\n",
      "Epoch 27/50\n",
      "84/84 [==============================] - 0s 4ms/step - loss: 0.6118 - accuracy: 0.6231 - val_loss: 0.7669 - val_accuracy: 0.4946\n",
      "Epoch 28/50\n",
      "84/84 [==============================] - 0s 4ms/step - loss: 0.6106 - accuracy: 0.6336 - val_loss: 0.7611 - val_accuracy: 0.4946\n",
      "Epoch 29/50\n",
      "84/84 [==============================] - 0s 4ms/step - loss: 0.6083 - accuracy: 0.6309 - val_loss: 0.7847 - val_accuracy: 0.4946\n",
      "Epoch 30/50\n",
      "84/84 [==============================] - 0s 4ms/step - loss: 0.6034 - accuracy: 0.6324 - val_loss: 0.7724 - val_accuracy: 0.4982\n",
      "Epoch 31/50\n",
      "84/84 [==============================] - 0s 4ms/step - loss: 0.6077 - accuracy: 0.6334 - val_loss: 0.7954 - val_accuracy: 0.4624\n",
      "Epoch 32/50\n",
      "84/84 [==============================] - 0s 4ms/step - loss: 0.6039 - accuracy: 0.6398 - val_loss: 0.7850 - val_accuracy: 0.5090\n",
      "Epoch 33/50\n",
      "84/84 [==============================] - 0s 4ms/step - loss: 0.5925 - accuracy: 0.6459 - val_loss: 0.7767 - val_accuracy: 0.5054\n",
      "Epoch 34/50\n",
      "84/84 [==============================] - 0s 4ms/step - loss: 0.5842 - accuracy: 0.6448 - val_loss: 0.8181 - val_accuracy: 0.4767\n",
      "Epoch 35/50\n",
      "84/84 [==============================] - 0s 4ms/step - loss: 0.5871 - accuracy: 0.6489 - val_loss: 0.7903 - val_accuracy: 0.5018\n",
      "Epoch 36/50\n",
      "84/84 [==============================] - 0s 4ms/step - loss: 0.5828 - accuracy: 0.6521 - val_loss: 0.8386 - val_accuracy: 0.4910\n",
      "Epoch 37/50\n",
      "84/84 [==============================] - 0s 4ms/step - loss: 0.5763 - accuracy: 0.6587 - val_loss: 0.8464 - val_accuracy: 0.4803\n",
      "Epoch 38/50\n",
      "84/84 [==============================] - 0s 4ms/step - loss: 0.5726 - accuracy: 0.6570 - val_loss: 0.8063 - val_accuracy: 0.4910\n",
      "Epoch 39/50\n",
      "84/84 [==============================] - 0s 4ms/step - loss: 0.5724 - accuracy: 0.6538 - val_loss: 0.7999 - val_accuracy: 0.5018\n",
      "Epoch 40/50\n",
      "84/84 [==============================] - 0s 4ms/step - loss: 0.5686 - accuracy: 0.6598 - val_loss: 0.9141 - val_accuracy: 0.4803\n",
      "Epoch 41/50\n",
      "84/84 [==============================] - 0s 4ms/step - loss: 0.5601 - accuracy: 0.6634 - val_loss: 0.8385 - val_accuracy: 0.5054\n",
      "Epoch 42/50\n",
      "84/84 [==============================] - 0s 4ms/step - loss: 0.5525 - accuracy: 0.6750 - val_loss: 0.8458 - val_accuracy: 0.4982\n",
      "Epoch 43/50\n",
      "84/84 [==============================] - 0s 4ms/step - loss: 0.5469 - accuracy: 0.6744 - val_loss: 0.8520 - val_accuracy: 0.4946\n",
      "Epoch 44/50\n",
      "84/84 [==============================] - 0s 4ms/step - loss: 0.5611 - accuracy: 0.6677 - val_loss: 0.8457 - val_accuracy: 0.4982\n",
      "Epoch 45/50\n",
      "84/84 [==============================] - 0s 4ms/step - loss: 0.5645 - accuracy: 0.6577 - val_loss: 0.8153 - val_accuracy: 0.5197\n",
      "Epoch 46/50\n",
      "84/84 [==============================] - 0s 4ms/step - loss: 0.5452 - accuracy: 0.6740 - val_loss: 0.8936 - val_accuracy: 0.4982\n",
      "Epoch 47/50\n",
      "84/84 [==============================] - 0s 4ms/step - loss: 0.5431 - accuracy: 0.6783 - val_loss: 0.8210 - val_accuracy: 0.5161\n",
      "Epoch 48/50\n",
      "84/84 [==============================] - 0s 5ms/step - loss: 0.5516 - accuracy: 0.6733 - val_loss: 0.8672 - val_accuracy: 0.4946\n",
      "Epoch 49/50\n",
      "84/84 [==============================] - 0s 5ms/step - loss: 0.5401 - accuracy: 0.6776 - val_loss: 0.8806 - val_accuracy: 0.5018\n",
      "Epoch 50/50\n",
      "84/84 [==============================] - 0s 5ms/step - loss: 0.5317 - accuracy: 0.6813 - val_loss: 0.8939 - val_accuracy: 0.5018\n"
     ]
    }
   ],
   "source": [
    "## Plot Training & Validation Loss\n",
    "history = model.fit(train_seq, epochs= 50, verbose= 1, validation_data= test_seq)"
   ]
  },
  {
   "cell_type": "code",
   "execution_count": 38,
   "metadata": {},
   "outputs": [
    {
     "data": {
      "image/png": "[encoded data removed]",
      "text/plain": [
       "<Figure size 432x288 with 1 Axes>"
      ]
     },
     "metadata": {
      "needs_background": "light"
     },
     "output_type": "display_data"
    }
   ],
   "source": [
    "## Plot Training & Validation Accuracy\n",
    "plt.plot(history.history['loss'], label = \"Training Loss\")\n",
    "plt.plot(history.history['val_loss'], label = \"Testing Loss\")\n",
    "plt.legend();"
   ]
  },
  {
   "cell_type": "code",
   "execution_count": 39,
   "metadata": {},
   "outputs": [
    {
     "data": {
      "image/png": "[encoded data removed]",
      "text/plain": [
       "<Figure size 432x288 with 1 Axes>"
      ]
     },
     "metadata": {
      "needs_background": "light"
     },
     "output_type": "display_data"
    }
   ],
   "source": [
    "plt.plot(history.history['accuracy'], label = \"Training Accuracy\")\n",
    "plt.plot(history.history['val_accuracy'], label = \"Testing Accuracy\")\n",
    "plt.legend();"
   ]
  },
  {
   "cell_type": "code",
   "execution_count": 43,
   "metadata": {},
   "outputs": [],
   "source": [
    "# Design RNN\n",
    "model_2 = Sequential()\n",
    "\n",
    "model_2.add(LSTM(16, input_shape = train_seq[0][0][0].shape,\n",
    "             return_sequences = True))  ## First GRU layer returns hidden state, passes back into self\n",
    "model_2.add(LSTM(8, return_sequences = False))## Second GRU layer passes outputs forward to next layer\n",
    "\n",
    "model_2.add(Dense(8, activation = 'relu'))\n",
    "\n",
    "model_2.add(Dense(1, activation = 'sigmoid'))\n",
    "# Fit to training sequences, validate with test sequences\n",
    "model_2.compile(optimizer= Adam(0.01), loss = 'bce', metrics= ['accuracy'])"
   ]
  },
  {
   "cell_type": "code",
   "execution_count": 44,
   "metadata": {},
   "outputs": [
    {
     "name": "stdout",
     "output_type": "stream",
     "text": [
      "Model: \"sequential_2\"\n",
      "_________________________________________________________________\n",
      " Layer (type)                Output Shape              Param #   \n",
      "=================================================================\n",
      " lstm (LSTM)                 (None, 3, 16)             1408      \n",
      "                                                                 \n",
      " lstm_1 (LSTM)               (None, 8)                 800       \n",
      "                                                                 \n",
      " dense_2 (Dense)             (None, 8)                 72        \n",
      "                                                                 \n",
      " dense_3 (Dense)             (None, 1)                 9         \n",
      "                                                                 \n",
      "=================================================================\n",
      "Total params: 2,289\n",
      "Trainable params: 2,289\n",
      "Non-trainable params: 0\n",
      "_________________________________________________________________\n"
     ]
    }
   ],
   "source": [
    "model_2.summary()"
   ]
  },
  {
   "cell_type": "code",
   "execution_count": 46,
   "metadata": {},
   "outputs": [
    {
     "name": "stdout",
     "output_type": "stream",
     "text": [
      "Epoch 1/50\n",
      "84/84 [==============================] - 4s 14ms/step - loss: 0.6916 - accuracy: 0.5260 - val_loss: 0.6972 - val_accuracy: 0.4839\n",
      "Epoch 2/50\n",
      "84/84 [==============================] - 0s 5ms/step - loss: 0.6901 - accuracy: 0.5303 - val_loss: 0.6954 - val_accuracy: 0.5125\n",
      "Epoch 3/50\n",
      "84/84 [==============================] - 0s 4ms/step - loss: 0.6888 - accuracy: 0.5341 - val_loss: 0.6928 - val_accuracy: 0.5054\n",
      "Epoch 4/50\n",
      "84/84 [==============================] - 0s 4ms/step - loss: 0.6875 - accuracy: 0.5363 - val_loss: 0.6904 - val_accuracy: 0.5305\n",
      "Epoch 5/50\n",
      "84/84 [==============================] - 0s 4ms/step - loss: 0.6866 - accuracy: 0.5444 - val_loss: 0.6913 - val_accuracy: 0.5376\n",
      "Epoch 6/50\n",
      "84/84 [==============================] - 0s 4ms/step - loss: 0.6845 - accuracy: 0.5427 - val_loss: 0.6931 - val_accuracy: 0.5018\n",
      "Epoch 7/50\n",
      "84/84 [==============================] - 0s 4ms/step - loss: 0.6841 - accuracy: 0.5513 - val_loss: 0.6940 - val_accuracy: 0.5054\n",
      "Epoch 8/50\n",
      "84/84 [==============================] - 0s 4ms/step - loss: 0.6815 - accuracy: 0.5457 - val_loss: 0.6955 - val_accuracy: 0.5269\n",
      "Epoch 9/50\n",
      "84/84 [==============================] - 0s 4ms/step - loss: 0.6798 - accuracy: 0.5566 - val_loss: 0.6931 - val_accuracy: 0.5054\n",
      "Epoch 10/50\n",
      "84/84 [==============================] - 0s 4ms/step - loss: 0.6787 - accuracy: 0.5601 - val_loss: 0.6990 - val_accuracy: 0.5090\n",
      "Epoch 11/50\n",
      "84/84 [==============================] - 0s 5ms/step - loss: 0.6723 - accuracy: 0.5676 - val_loss: 0.7090 - val_accuracy: 0.4767\n",
      "Epoch 12/50\n",
      "84/84 [==============================] - 0s 5ms/step - loss: 0.6697 - accuracy: 0.5747 - val_loss: 0.7103 - val_accuracy: 0.5161\n",
      "Epoch 13/50\n",
      "84/84 [==============================] - 0s 5ms/step - loss: 0.6642 - accuracy: 0.5729 - val_loss: 0.7125 - val_accuracy: 0.4659\n",
      "Epoch 14/50\n",
      "84/84 [==============================] - 0s 5ms/step - loss: 0.6600 - accuracy: 0.5744 - val_loss: 0.7154 - val_accuracy: 0.4803\n",
      "Epoch 15/50\n",
      "84/84 [==============================] - 0s 5ms/step - loss: 0.6540 - accuracy: 0.5873 - val_loss: 0.7196 - val_accuracy: 0.5054\n",
      "Epoch 16/50\n",
      "84/84 [==============================] - 0s 4ms/step - loss: 0.6475 - accuracy: 0.5948 - val_loss: 0.7199 - val_accuracy: 0.5090\n",
      "Epoch 17/50\n",
      "84/84 [==============================] - 0s 4ms/step - loss: 0.6420 - accuracy: 0.5999 - val_loss: 0.7307 - val_accuracy: 0.4731\n",
      "Epoch 18/50\n",
      "84/84 [==============================] - 0s 4ms/step - loss: 0.6332 - accuracy: 0.6124 - val_loss: 0.7432 - val_accuracy: 0.4624\n",
      "Epoch 19/50\n",
      "84/84 [==============================] - 0s 4ms/step - loss: 0.6281 - accuracy: 0.6126 - val_loss: 0.7158 - val_accuracy: 0.5018\n",
      "Epoch 20/50\n",
      "84/84 [==============================] - 0s 4ms/step - loss: 0.6207 - accuracy: 0.6294 - val_loss: 0.7641 - val_accuracy: 0.4695\n",
      "Epoch 21/50\n",
      "84/84 [==============================] - 0s 4ms/step - loss: 0.6101 - accuracy: 0.6401 - val_loss: 0.7396 - val_accuracy: 0.4659\n",
      "Epoch 22/50\n",
      "84/84 [==============================] - 0s 4ms/step - loss: 0.5998 - accuracy: 0.6411 - val_loss: 0.7519 - val_accuracy: 0.5090\n",
      "Epoch 23/50\n",
      "84/84 [==============================] - 0s 4ms/step - loss: 0.5973 - accuracy: 0.6379 - val_loss: 0.8000 - val_accuracy: 0.4588\n",
      "Epoch 24/50\n",
      "84/84 [==============================] - 0s 5ms/step - loss: 0.5852 - accuracy: 0.6538 - val_loss: 0.7718 - val_accuracy: 0.4695\n",
      "Epoch 25/50\n",
      "84/84 [==============================] - 0s 5ms/step - loss: 0.5789 - accuracy: 0.6527 - val_loss: 0.7842 - val_accuracy: 0.4695\n",
      "Epoch 26/50\n",
      "84/84 [==============================] - 0s 5ms/step - loss: 0.5706 - accuracy: 0.6622 - val_loss: 0.7739 - val_accuracy: 0.4875\n",
      "Epoch 27/50\n",
      "84/84 [==============================] - 0s 4ms/step - loss: 0.5604 - accuracy: 0.6656 - val_loss: 0.8220 - val_accuracy: 0.4337\n",
      "Epoch 28/50\n",
      "84/84 [==============================] - 0s 4ms/step - loss: 0.5520 - accuracy: 0.6740 - val_loss: 0.7890 - val_accuracy: 0.4803\n",
      "Epoch 29/50\n",
      "84/84 [==============================] - 0s 4ms/step - loss: 0.5500 - accuracy: 0.6797 - val_loss: 0.8095 - val_accuracy: 0.4875\n",
      "Epoch 30/50\n",
      "84/84 [==============================] - 0s 4ms/step - loss: 0.5449 - accuracy: 0.6812 - val_loss: 0.8130 - val_accuracy: 0.4839\n",
      "Epoch 31/50\n",
      "84/84 [==============================] - 0s 4ms/step - loss: 0.5386 - accuracy: 0.6808 - val_loss: 0.8457 - val_accuracy: 0.4946\n",
      "Epoch 32/50\n",
      "84/84 [==============================] - 0s 4ms/step - loss: 0.5211 - accuracy: 0.6935 - val_loss: 0.8267 - val_accuracy: 0.4695\n",
      "Epoch 33/50\n",
      "84/84 [==============================] - 0s 4ms/step - loss: 0.5141 - accuracy: 0.7038 - val_loss: 0.7873 - val_accuracy: 0.4695\n",
      "Epoch 34/50\n",
      "84/84 [==============================] - 0s 5ms/step - loss: 0.5124 - accuracy: 0.7089 - val_loss: 0.8483 - val_accuracy: 0.4839\n",
      "Epoch 35/50\n",
      "84/84 [==============================] - 0s 4ms/step - loss: 0.5060 - accuracy: 0.7098 - val_loss: 0.9319 - val_accuracy: 0.4839\n",
      "Epoch 36/50\n",
      "84/84 [==============================] - 0s 4ms/step - loss: 0.4995 - accuracy: 0.7182 - val_loss: 0.8167 - val_accuracy: 0.5054\n",
      "Epoch 37/50\n",
      "84/84 [==============================] - 0s 5ms/step - loss: 0.4866 - accuracy: 0.7209 - val_loss: 0.9548 - val_accuracy: 0.5161\n",
      "Epoch 38/50\n",
      "84/84 [==============================] - 0s 5ms/step - loss: 0.4901 - accuracy: 0.7218 - val_loss: 0.8837 - val_accuracy: 0.4982\n",
      "Epoch 39/50\n",
      "84/84 [==============================] - 0s 5ms/step - loss: 0.4821 - accuracy: 0.7344 - val_loss: 0.9870 - val_accuracy: 0.5018\n",
      "Epoch 40/50\n",
      "84/84 [==============================] - 0s 5ms/step - loss: 0.4700 - accuracy: 0.7396 - val_loss: 0.9952 - val_accuracy: 0.4516\n",
      "Epoch 41/50\n",
      "84/84 [==============================] - 0s 5ms/step - loss: 0.4659 - accuracy: 0.7432 - val_loss: 0.9126 - val_accuracy: 0.4731\n",
      "Epoch 42/50\n",
      "84/84 [==============================] - 0s 5ms/step - loss: 0.4588 - accuracy: 0.7415 - val_loss: 0.9864 - val_accuracy: 0.4695\n",
      "Epoch 43/50\n",
      "84/84 [==============================] - 0s 4ms/step - loss: 0.4568 - accuracy: 0.7445 - val_loss: 1.0449 - val_accuracy: 0.4767\n",
      "Epoch 44/50\n",
      "84/84 [==============================] - 0s 5ms/step - loss: 0.4462 - accuracy: 0.7501 - val_loss: 0.9644 - val_accuracy: 0.4731\n",
      "Epoch 45/50\n",
      "84/84 [==============================] - 0s 5ms/step - loss: 0.4517 - accuracy: 0.7510 - val_loss: 1.0985 - val_accuracy: 0.4695\n",
      "Epoch 46/50\n",
      "84/84 [==============================] - 0s 5ms/step - loss: 0.4425 - accuracy: 0.7535 - val_loss: 1.1162 - val_accuracy: 0.4731\n",
      "Epoch 47/50\n",
      "84/84 [==============================] - 0s 5ms/step - loss: 0.4421 - accuracy: 0.7589 - val_loss: 1.2008 - val_accuracy: 0.4910\n",
      "Epoch 48/50\n",
      "84/84 [==============================] - 0s 4ms/step - loss: 0.4350 - accuracy: 0.7583 - val_loss: 1.2099 - val_accuracy: 0.4767\n",
      "Epoch 49/50\n",
      "84/84 [==============================] - 0s 4ms/step - loss: 0.4261 - accuracy: 0.7664 - val_loss: 1.0837 - val_accuracy: 0.4839\n",
      "Epoch 50/50\n",
      "84/84 [==============================] - 0s 4ms/step - loss: 0.4351 - accuracy: 0.7559 - val_loss: 1.0664 - val_accuracy: 0.4803\n"
     ]
    }
   ],
   "source": [
    "history_2 = model_2.fit(train_seq, epochs = 50, verbose = 1, validation_data = test_seq)"
   ]
  },
  {
   "cell_type": "code",
   "execution_count": 47,
   "metadata": {},
   "outputs": [
    {
     "data": {
      "image/png": "[encoded data removed]",
      "text/plain": [
       "<Figure size 432x288 with 1 Axes>"
      ]
     },
     "metadata": {
      "needs_background": "light"
     },
     "output_type": "display_data"
    }
   ],
   "source": [
    "## Plot Training & Validation Accuracy\n",
    "plt.plot(history_2.history['loss'], label = \"Training Loss\")\n",
    "plt.plot(history_2.history['val_loss'], label = \"Testing Loss\")\n",
    "plt.legend();"
   ]
  },
  {
   "cell_type": "code",
   "execution_count": 48,
   "metadata": {},
   "outputs": [
    {
     "data": {
      "image/png": "[encoded data removed]",
      "text/plain": [
       "<Figure size 432x288 with 1 Axes>"
      ]
     },
     "metadata": {
      "needs_background": "light"
     },
     "output_type": "display_data"
    }
   ],
   "source": [
    "plt.plot(history_2.history['accuracy'], label = \"Training Accuracy\")\n",
    "plt.plot(history_2.history['val_accuracy'], label = \"Testing Accuracy\")\n",
    "plt.legend();"
   ]
  },
  {
   "cell_type": "code",
   "execution_count": 49,
   "metadata": {},
   "outputs": [],
   "source": [
    "from tensorflow.keras.regularizers import l2"
   ]
  },
  {
   "cell_type": "code",
   "execution_count": 52,
   "metadata": {
    "tags": []
   },
   "outputs": [
    {
     "name": "stdout",
     "output_type": "stream",
     "text": [
      "Model: \"sequential_5\"\n",
      "_________________________________________________________________\n",
      " Layer (type)                Output Shape              Param #   \n",
      "=================================================================\n",
      " lstm_4 (LSTM)               (None, 3, 16)             1408      \n",
      "                                                                 \n",
      " lstm_5 (LSTM)               (None, 8)                 800       \n",
      "                                                                 \n",
      " dense_4 (Dense)             (None, 8)                 72        \n",
      "                                                                 \n",
      " dropout (Dropout)           (None, 8)                 0         \n",
      "                                                                 \n",
      " dense_5 (Dense)             (None, 1)                 9         \n",
      "                                                                 \n",
      "=================================================================\n",
      "Total params: 2,289\n",
      "Trainable params: 2,289\n",
      "Non-trainable params: 0\n",
      "_________________________________________________________________\n"
     ]
    }
   ],
   "source": [
    "\n",
    "# Design RNN - Using LSTM layers & Regularization\n",
    "model_3 = Sequential()\n",
    "\n",
    "model_3.add(LSTM(16, input_shape = train_seq[0][0][0].shape,\n",
    "              return_sequences=True)) ## First LSTM layer returns hidden state, passes back into self\n",
    "model_3.add(LSTM(8, return_sequences=False)) ## Second LSTM layer passes outputs forward to next layer\n",
    "\n",
    "model_3.add(Dense(8, activation = 'relu', kernel_regularizer=l2(0.001)))\n",
    "model_3.add(Dropout(0.2))\n",
    "model_3.add(Dense(1, activation = 'sigmoid'))\n",
    "\n",
    "model_3.compile(optimizer = Adam(0.01), loss = 'bce', metrics = ['accuracy'])\n",
    "model_3.summary()"
   ]
  },
  {
   "cell_type": "code",
   "execution_count": 53,
   "metadata": {},
   "outputs": [
    {
     "name": "stdout",
     "output_type": "stream",
     "text": [
      "Epoch 1/50\n",
      "84/84 [==============================] - 5s 15ms/step - loss: 0.6939 - accuracy: 0.5249 - val_loss: 0.6934 - val_accuracy: 0.5054\n",
      "Epoch 2/50\n",
      "84/84 [==============================] - 0s 4ms/step - loss: 0.6918 - accuracy: 0.5260 - val_loss: 0.6932 - val_accuracy: 0.5054\n",
      "Epoch 3/50\n",
      "84/84 [==============================] - 0s 4ms/step - loss: 0.6922 - accuracy: 0.5260 - val_loss: 0.6934 - val_accuracy: 0.5054\n",
      "Epoch 4/50\n",
      "84/84 [==============================] - 0s 4ms/step - loss: 0.6918 - accuracy: 0.5260 - val_loss: 0.6936 - val_accuracy: 0.5054\n",
      "Epoch 5/50\n",
      "84/84 [==============================] - 0s 5ms/step - loss: 0.6907 - accuracy: 0.5260 - val_loss: 0.6921 - val_accuracy: 0.5054\n",
      "Epoch 6/50\n",
      "84/84 [==============================] - 0s 4ms/step - loss: 0.6908 - accuracy: 0.5260 - val_loss: 0.6914 - val_accuracy: 0.5054\n",
      "Epoch 7/50\n",
      "84/84 [==============================] - 0s 5ms/step - loss: 0.6900 - accuracy: 0.5223 - val_loss: 0.6910 - val_accuracy: 0.5054\n",
      "Epoch 8/50\n",
      "84/84 [==============================] - 0s 4ms/step - loss: 0.6900 - accuracy: 0.5242 - val_loss: 0.6926 - val_accuracy: 0.5054\n",
      "Epoch 9/50\n",
      "84/84 [==============================] - 0s 5ms/step - loss: 0.6888 - accuracy: 0.5247 - val_loss: 0.6905 - val_accuracy: 0.5090\n",
      "Epoch 10/50\n",
      "84/84 [==============================] - 0s 5ms/step - loss: 0.6885 - accuracy: 0.5290 - val_loss: 0.6916 - val_accuracy: 0.5018\n",
      "Epoch 11/50\n",
      "84/84 [==============================] - 0s 4ms/step - loss: 0.6880 - accuracy: 0.5260 - val_loss: 0.6921 - val_accuracy: 0.5233\n",
      "Epoch 12/50\n",
      "84/84 [==============================] - 0s 4ms/step - loss: 0.6879 - accuracy: 0.5290 - val_loss: 0.6956 - val_accuracy: 0.5054\n",
      "Epoch 13/50\n",
      "84/84 [==============================] - 0s 4ms/step - loss: 0.6857 - accuracy: 0.5363 - val_loss: 0.6954 - val_accuracy: 0.4875\n",
      "Epoch 14/50\n",
      "84/84 [==============================] - 0s 4ms/step - loss: 0.6844 - accuracy: 0.5461 - val_loss: 0.6987 - val_accuracy: 0.4659\n",
      "Epoch 15/50\n",
      "84/84 [==============================] - 0s 4ms/step - loss: 0.6850 - accuracy: 0.5350 - val_loss: 0.6956 - val_accuracy: 0.4767\n",
      "Epoch 16/50\n",
      "84/84 [==============================] - 0s 4ms/step - loss: 0.6838 - accuracy: 0.5448 - val_loss: 0.6969 - val_accuracy: 0.4695\n",
      "Epoch 17/50\n",
      "84/84 [==============================] - 0s 4ms/step - loss: 0.6823 - accuracy: 0.5476 - val_loss: 0.7102 - val_accuracy: 0.4695\n",
      "Epoch 18/50\n",
      "84/84 [==============================] - 0s 4ms/step - loss: 0.6792 - accuracy: 0.5599 - val_loss: 0.7015 - val_accuracy: 0.4731\n",
      "Epoch 19/50\n",
      "84/84 [==============================] - 0s 4ms/step - loss: 0.6783 - accuracy: 0.5618 - val_loss: 0.6925 - val_accuracy: 0.4982\n",
      "Epoch 20/50\n",
      "84/84 [==============================] - 0s 4ms/step - loss: 0.6760 - accuracy: 0.5622 - val_loss: 0.7084 - val_accuracy: 0.4409\n",
      "Epoch 21/50\n",
      "84/84 [==============================] - 0s 4ms/step - loss: 0.6716 - accuracy: 0.5691 - val_loss: 0.7042 - val_accuracy: 0.4731\n",
      "Epoch 22/50\n",
      "84/84 [==============================] - 0s 5ms/step - loss: 0.6744 - accuracy: 0.5592 - val_loss: 0.6993 - val_accuracy: 0.4839\n",
      "Epoch 23/50\n",
      "84/84 [==============================] - 0s 5ms/step - loss: 0.6690 - accuracy: 0.5676 - val_loss: 0.7091 - val_accuracy: 0.5018\n",
      "Epoch 24/50\n",
      "84/84 [==============================] - 0s 4ms/step - loss: 0.6669 - accuracy: 0.5719 - val_loss: 0.7139 - val_accuracy: 0.4767\n",
      "Epoch 25/50\n",
      "84/84 [==============================] - 0s 5ms/step - loss: 0.6630 - accuracy: 0.5802 - val_loss: 0.7054 - val_accuracy: 0.4803\n",
      "Epoch 26/50\n",
      "84/84 [==============================] - 0s 5ms/step - loss: 0.6633 - accuracy: 0.5832 - val_loss: 0.7120 - val_accuracy: 0.4731\n",
      "Epoch 27/50\n",
      "84/84 [==============================] - 0s 5ms/step - loss: 0.6563 - accuracy: 0.5901 - val_loss: 0.7326 - val_accuracy: 0.4480\n",
      "Epoch 28/50\n",
      "84/84 [==============================] - 0s 4ms/step - loss: 0.6538 - accuracy: 0.5965 - val_loss: 0.7186 - val_accuracy: 0.4659\n",
      "Epoch 29/50\n",
      "84/84 [==============================] - 0s 5ms/step - loss: 0.6454 - accuracy: 0.6051 - val_loss: 0.7452 - val_accuracy: 0.4516\n",
      "Epoch 30/50\n",
      "84/84 [==============================] - 0s 4ms/step - loss: 0.6463 - accuracy: 0.6032 - val_loss: 0.7240 - val_accuracy: 0.4588\n",
      "Epoch 31/50\n",
      "84/84 [==============================] - 0s 4ms/step - loss: 0.6392 - accuracy: 0.6111 - val_loss: 0.7443 - val_accuracy: 0.4552\n",
      "Epoch 32/50\n",
      "84/84 [==============================] - 0s 5ms/step - loss: 0.6392 - accuracy: 0.6107 - val_loss: 0.7335 - val_accuracy: 0.4731\n",
      "Epoch 33/50\n",
      "84/84 [==============================] - 0s 5ms/step - loss: 0.6343 - accuracy: 0.6156 - val_loss: 0.7393 - val_accuracy: 0.4875\n",
      "Epoch 34/50\n",
      "84/84 [==============================] - 0s 5ms/step - loss: 0.6308 - accuracy: 0.6173 - val_loss: 0.7300 - val_accuracy: 0.4803\n",
      "Epoch 35/50\n",
      "84/84 [==============================] - 0s 5ms/step - loss: 0.6289 - accuracy: 0.6208 - val_loss: 0.7216 - val_accuracy: 0.5197\n",
      "Epoch 36/50\n",
      "84/84 [==============================] - 0s 5ms/step - loss: 0.6228 - accuracy: 0.6321 - val_loss: 0.7652 - val_accuracy: 0.4659\n",
      "Epoch 37/50\n",
      "84/84 [==============================] - 0s 5ms/step - loss: 0.6195 - accuracy: 0.6302 - val_loss: 0.7592 - val_accuracy: 0.4659\n",
      "Epoch 38/50\n",
      "84/84 [==============================] - 0s 5ms/step - loss: 0.6132 - accuracy: 0.6405 - val_loss: 0.7357 - val_accuracy: 0.5233\n",
      "Epoch 39/50\n",
      "84/84 [==============================] - 0s 5ms/step - loss: 0.6172 - accuracy: 0.6300 - val_loss: 0.7586 - val_accuracy: 0.4803\n",
      "Epoch 40/50\n",
      "84/84 [==============================] - 0s 5ms/step - loss: 0.6033 - accuracy: 0.6486 - val_loss: 0.7911 - val_accuracy: 0.4910\n",
      "Epoch 41/50\n",
      "84/84 [==============================] - 0s 5ms/step - loss: 0.6012 - accuracy: 0.6547 - val_loss: 0.7940 - val_accuracy: 0.4731\n",
      "Epoch 42/50\n",
      "84/84 [==============================] - 0s 5ms/step - loss: 0.6038 - accuracy: 0.6472 - val_loss: 0.8114 - val_accuracy: 0.4767\n",
      "Epoch 43/50\n",
      "84/84 [==============================] - 0s 5ms/step - loss: 0.5913 - accuracy: 0.6547 - val_loss: 0.8097 - val_accuracy: 0.4659\n",
      "Epoch 44/50\n",
      "84/84 [==============================] - 0s 5ms/step - loss: 0.5938 - accuracy: 0.6572 - val_loss: 0.8349 - val_accuracy: 0.5054\n",
      "Epoch 45/50\n",
      "84/84 [==============================] - 0s 4ms/step - loss: 0.5929 - accuracy: 0.6600 - val_loss: 0.8300 - val_accuracy: 0.4910\n",
      "Epoch 46/50\n",
      "84/84 [==============================] - 0s 5ms/step - loss: 0.5900 - accuracy: 0.6574 - val_loss: 0.8441 - val_accuracy: 0.4839\n",
      "Epoch 47/50\n",
      "84/84 [==============================] - 0s 5ms/step - loss: 0.5868 - accuracy: 0.6630 - val_loss: 0.8311 - val_accuracy: 0.4946\n",
      "Epoch 48/50\n",
      "84/84 [==============================] - 0s 5ms/step - loss: 0.5824 - accuracy: 0.6679 - val_loss: 0.8383 - val_accuracy: 0.4982\n",
      "Epoch 49/50\n",
      "84/84 [==============================] - 0s 5ms/step - loss: 0.5832 - accuracy: 0.6658 - val_loss: 0.8517 - val_accuracy: 0.4588\n",
      "Epoch 50/50\n",
      "84/84 [==============================] - 0s 5ms/step - loss: 0.5798 - accuracy: 0.6682 - val_loss: 0.8698 - val_accuracy: 0.4839\n"
     ]
    }
   ],
   "source": [
    "history_3 = model_3.fit(train_seq, epochs= 50, verbose=1, validation_data= test_seq)"
   ]
  },
  {
   "cell_type": "code",
   "execution_count": 54,
   "metadata": {},
   "outputs": [
    {
     "data": {
      "image/png": "[encoded data removed]",
      "text/plain": [
       "<Figure size 432x288 with 1 Axes>"
      ]
     },
     "metadata": {
      "needs_background": "light"
     },
     "output_type": "display_data"
    }
   ],
   "source": [
    "## Plot Training & Validation Accuracy\n",
    "plt.plot(history_3.history['loss'], label = \"Training Loss\")\n",
    "plt.plot(history_3.history['val_loss'], label = \"Testing Loss\")\n",
    "plt.legend();"
   ]
  },
  {
   "cell_type": "code",
   "execution_count": 55,
   "metadata": {},
   "outputs": [
    {
     "data": {
      "image/png": "[encoded data removed]",
      "text/plain": [
       "<Figure size 432x288 with 1 Axes>"
      ]
     },
     "metadata": {
      "needs_background": "light"
     },
     "output_type": "display_data"
    }
   ],
   "source": [
    "plt.plot(history_3.history['accuracy'], label = \"Training Accuracy\")\n",
    "plt.plot(history_3.history['val_accuracy'], label = \"Testing Accuracy\")\n",
    "plt.legend();"
   ]
  },
  {
   "cell_type": "code",
   "execution_count": 56,
   "metadata": {},
   "outputs": [],
   "source": [
    "from tensorflow.keras.callbacks import EarlyStopping"
   ]
  },
  {
   "cell_type": "markdown",
   "metadata": {
    "tags": []
   },
   "source": [
    "## Your turn!\n",
    "---\n",
    "\n",
    "Can you improve this model? Try to build a model that minimizes the testing loss even more!"
   ]
  },
  {
   "cell_type": "code",
   "execution_count": 59,
   "metadata": {},
   "outputs": [],
   "source": [
    "# Create training sequences\n",
    "train_seq1 = TimeseriesGenerator(X_train_sc, y_train, length= 10, batch_size= 64)"
   ]
  },
  {
   "cell_type": "code",
   "execution_count": 60,
   "metadata": {},
   "outputs": [],
   "source": [
    "# Create test sequences\n",
    "test_seq1 = TimeseriesGenerator(X_test_sc, y_test, length= 10, batch_size= 64)"
   ]
  },
  {
   "cell_type": "code",
   "execution_count": 83,
   "metadata": {
    "tags": []
   },
   "outputs": [
    {
     "name": "stdout",
     "output_type": "stream",
     "text": [
      "Model: \"sequential_10\"\n",
      "_________________________________________________________________\n",
      " Layer (type)                Output Shape              Param #   \n",
      "=================================================================\n",
      " lstm_14 (LSTM)              (None, 10, 16)            1408      \n",
      "                                                                 \n",
      " lstm_15 (LSTM)              (None, 8)                 800       \n",
      "                                                                 \n",
      " dense_14 (Dense)            (None, 8)                 72        \n",
      "                                                                 \n",
      " dropout_5 (Dropout)         (None, 8)                 0         \n",
      "                                                                 \n",
      " dense_15 (Dense)            (None, 1)                 9         \n",
      "                                                                 \n",
      "=================================================================\n",
      "Total params: 2,289\n",
      "Trainable params: 2,289\n",
      "Non-trainable params: 0\n",
      "_________________________________________________________________\n"
     ]
    }
   ],
   "source": [
    "# Design RNN - Using LSTM layers & Regularization\n",
    "model_4 = Sequential()\n",
    "\n",
    "model_4.add(LSTM(16, input_shape = train_seq1[0][0][0].shape,\n",
    "              return_sequences=True)) ## First LSTM layer returns hidden state, passes back into self\n",
    "model_4.add(LSTM(8, return_sequences=False)) ## Second LSTM layer passes outputs forward to next layer\n",
    "\n",
    "model_4.add(Dense(8, activation = 'relu', kernel_regularizer=l2(0.001)))\n",
    "model_4.add(Dropout(0.2))\n",
    "# model_4.add(Dense(8, activation = 'relu')\n",
    "#model_4.add(Dropout(0.2))\n",
    "model_4.add(Dense(1, activation = 'sigmoid'))\n",
    "\n",
    "model_4.compile(optimizer = Adam(0.008), loss = 'bce', metrics = ['accuracy'])\n",
    "model_4.summary()"
   ]
  },
  {
   "cell_type": "code",
   "execution_count": 84,
   "metadata": {},
   "outputs": [
    {
     "name": "stdout",
     "output_type": "stream",
     "text": [
      "Epoch 1/50\n",
      "84/84 [==============================] - 5s 19ms/step - loss: 0.6974 - accuracy: 0.5192 - val_loss: 0.6948 - val_accuracy: 0.5037\n",
      "Epoch 2/50\n",
      "84/84 [==============================] - 1s 7ms/step - loss: 0.6927 - accuracy: 0.5260 - val_loss: 0.6937 - val_accuracy: 0.5037\n",
      "Epoch 3/50\n",
      "84/84 [==============================] - 1s 8ms/step - loss: 0.6919 - accuracy: 0.5260 - val_loss: 0.6939 - val_accuracy: 0.5037\n",
      "Epoch 4/50\n",
      "84/84 [==============================] - 1s 8ms/step - loss: 0.6919 - accuracy: 0.5260 - val_loss: 0.6937 - val_accuracy: 0.5037\n",
      "Epoch 5/50\n",
      "84/84 [==============================] - 1s 8ms/step - loss: 0.6919 - accuracy: 0.5260 - val_loss: 0.6958 - val_accuracy: 0.5037\n",
      "Epoch 6/50\n",
      "84/84 [==============================] - 1s 8ms/step - loss: 0.6917 - accuracy: 0.5260 - val_loss: 0.6941 - val_accuracy: 0.5037\n",
      "Epoch 7/50\n",
      "84/84 [==============================] - 1s 8ms/step - loss: 0.6912 - accuracy: 0.5260 - val_loss: 0.6916 - val_accuracy: 0.5037\n",
      "Epoch 8/50\n",
      "84/84 [==============================] - 1s 7ms/step - loss: 0.6912 - accuracy: 0.5260 - val_loss: 0.6932 - val_accuracy: 0.5037\n",
      "Epoch 9/50\n",
      "84/84 [==============================] - 1s 8ms/step - loss: 0.6906 - accuracy: 0.5260 - val_loss: 0.6947 - val_accuracy: 0.5037\n",
      "Epoch 10/50\n",
      "84/84 [==============================] - 1s 8ms/step - loss: 0.6917 - accuracy: 0.5123 - val_loss: 0.6938 - val_accuracy: 0.5037\n",
      "Epoch 11/50\n",
      "84/84 [==============================] - 1s 8ms/step - loss: 0.6921 - accuracy: 0.5260 - val_loss: 0.6947 - val_accuracy: 0.5037\n",
      "Epoch 12/50\n",
      "84/84 [==============================] - 1s 8ms/step - loss: 0.6913 - accuracy: 0.5260 - val_loss: 0.6939 - val_accuracy: 0.5037\n",
      "Epoch 13/50\n",
      "84/84 [==============================] - 1s 8ms/step - loss: 0.6899 - accuracy: 0.5260 - val_loss: 0.6914 - val_accuracy: 0.5037\n",
      "Epoch 14/50\n",
      "84/84 [==============================] - 1s 8ms/step - loss: 0.6899 - accuracy: 0.5260 - val_loss: 0.6915 - val_accuracy: 0.5037\n",
      "Epoch 15/50\n",
      "84/84 [==============================] - 1s 8ms/step - loss: 0.6886 - accuracy: 0.5175 - val_loss: 0.6891 - val_accuracy: 0.5037\n",
      "Epoch 16/50\n",
      "84/84 [==============================] - 1s 8ms/step - loss: 0.6879 - accuracy: 0.5245 - val_loss: 0.6909 - val_accuracy: 0.4963\n",
      "Epoch 17/50\n",
      "84/84 [==============================] - 1s 8ms/step - loss: 0.6859 - accuracy: 0.5337 - val_loss: 0.6912 - val_accuracy: 0.4890\n",
      "Epoch 18/50\n",
      "84/84 [==============================] - 1s 8ms/step - loss: 0.6851 - accuracy: 0.5355 - val_loss: 0.6913 - val_accuracy: 0.5037\n",
      "Epoch 19/50\n",
      "84/84 [==============================] - 1s 8ms/step - loss: 0.6828 - accuracy: 0.5352 - val_loss: 0.6946 - val_accuracy: 0.5147\n",
      "Epoch 20/50\n",
      "84/84 [==============================] - 1s 8ms/step - loss: 0.6799 - accuracy: 0.5444 - val_loss: 0.7017 - val_accuracy: 0.5147\n",
      "Epoch 21/50\n",
      "84/84 [==============================] - 1s 9ms/step - loss: 0.6798 - accuracy: 0.5489 - val_loss: 0.6999 - val_accuracy: 0.4779\n",
      "Epoch 22/50\n",
      "84/84 [==============================] - 1s 8ms/step - loss: 0.6768 - accuracy: 0.5543 - val_loss: 0.6910 - val_accuracy: 0.5257\n",
      "Epoch 23/50\n",
      "84/84 [==============================] - 1s 8ms/step - loss: 0.6747 - accuracy: 0.5624 - val_loss: 0.7054 - val_accuracy: 0.5000\n",
      "Epoch 24/50\n",
      "84/84 [==============================] - 1s 9ms/step - loss: 0.6687 - accuracy: 0.5693 - val_loss: 0.6993 - val_accuracy: 0.5221\n",
      "Epoch 25/50\n",
      "84/84 [==============================] - 1s 8ms/step - loss: 0.6639 - accuracy: 0.5789 - val_loss: 0.6957 - val_accuracy: 0.5588\n",
      "Epoch 26/50\n",
      "84/84 [==============================] - 1s 8ms/step - loss: 0.6618 - accuracy: 0.5779 - val_loss: 0.6961 - val_accuracy: 0.5294\n",
      "Epoch 27/50\n",
      "84/84 [==============================] - 1s 8ms/step - loss: 0.6578 - accuracy: 0.5838 - val_loss: 0.7057 - val_accuracy: 0.5184\n",
      "Epoch 28/50\n",
      "84/84 [==============================] - 1s 8ms/step - loss: 0.6524 - accuracy: 0.5941 - val_loss: 0.7316 - val_accuracy: 0.4816\n",
      "Epoch 29/50\n",
      "84/84 [==============================] - 1s 8ms/step - loss: 0.6503 - accuracy: 0.5989 - val_loss: 0.7480 - val_accuracy: 0.4926\n",
      "Epoch 30/50\n",
      "84/84 [==============================] - 1s 8ms/step - loss: 0.6466 - accuracy: 0.5980 - val_loss: 0.7112 - val_accuracy: 0.4926\n",
      "Epoch 31/50\n",
      "84/84 [==============================] - 1s 8ms/step - loss: 0.6420 - accuracy: 0.6036 - val_loss: 0.7162 - val_accuracy: 0.5074\n",
      "Epoch 32/50\n",
      "84/84 [==============================] - 1s 8ms/step - loss: 0.6334 - accuracy: 0.6185 - val_loss: 0.7246 - val_accuracy: 0.5368\n",
      "Epoch 33/50\n",
      "84/84 [==============================] - 1s 8ms/step - loss: 0.6331 - accuracy: 0.6121 - val_loss: 0.7186 - val_accuracy: 0.4963\n",
      "Epoch 34/50\n",
      "84/84 [==============================] - 1s 8ms/step - loss: 0.6277 - accuracy: 0.6254 - val_loss: 0.7266 - val_accuracy: 0.5221\n",
      "Epoch 35/50\n",
      "84/84 [==============================] - 1s 8ms/step - loss: 0.6214 - accuracy: 0.6224 - val_loss: 0.7256 - val_accuracy: 0.5368\n",
      "Epoch 36/50\n",
      "84/84 [==============================] - 1s 8ms/step - loss: 0.6215 - accuracy: 0.6303 - val_loss: 0.7614 - val_accuracy: 0.5000\n",
      "Epoch 37/50\n",
      "84/84 [==============================] - 1s 9ms/step - loss: 0.6148 - accuracy: 0.6337 - val_loss: 0.7405 - val_accuracy: 0.4926\n",
      "Epoch 38/50\n",
      "84/84 [==============================] - 1s 9ms/step - loss: 0.6105 - accuracy: 0.6387 - val_loss: 0.7364 - val_accuracy: 0.4853\n",
      "Epoch 39/50\n",
      "84/84 [==============================] - 1s 9ms/step - loss: 0.6074 - accuracy: 0.6391 - val_loss: 0.7629 - val_accuracy: 0.5147\n",
      "Epoch 40/50\n",
      "84/84 [==============================] - 1s 8ms/step - loss: 0.6047 - accuracy: 0.6483 - val_loss: 0.7351 - val_accuracy: 0.5221\n",
      "Epoch 41/50\n",
      "84/84 [==============================] - 1s 8ms/step - loss: 0.6064 - accuracy: 0.6412 - val_loss: 0.7474 - val_accuracy: 0.4963\n",
      "Epoch 42/50\n",
      "84/84 [==============================] - 1s 9ms/step - loss: 0.6064 - accuracy: 0.6410 - val_loss: 0.7628 - val_accuracy: 0.5294\n",
      "Epoch 43/50\n",
      "84/84 [==============================] - 1s 8ms/step - loss: 0.5926 - accuracy: 0.6582 - val_loss: 0.7689 - val_accuracy: 0.5257\n",
      "Epoch 44/50\n",
      "84/84 [==============================] - 1s 8ms/step - loss: 0.5953 - accuracy: 0.6532 - val_loss: 0.7794 - val_accuracy: 0.5331\n",
      "Epoch 45/50\n",
      "84/84 [==============================] - 1s 8ms/step - loss: 0.5817 - accuracy: 0.6659 - val_loss: 0.8203 - val_accuracy: 0.5000\n",
      "Epoch 46/50\n",
      "84/84 [==============================] - 1s 8ms/step - loss: 0.5763 - accuracy: 0.6710 - val_loss: 0.7715 - val_accuracy: 0.4963\n",
      "Epoch 47/50\n",
      "84/84 [==============================] - 1s 8ms/step - loss: 0.5827 - accuracy: 0.6676 - val_loss: 0.8139 - val_accuracy: 0.4632\n",
      "Epoch 48/50\n",
      "84/84 [==============================] - 1s 9ms/step - loss: 0.5813 - accuracy: 0.6700 - val_loss: 0.8025 - val_accuracy: 0.5110\n",
      "Epoch 49/50\n",
      "84/84 [==============================] - 1s 9ms/step - loss: 0.5732 - accuracy: 0.6762 - val_loss: 0.7888 - val_accuracy: 0.5110\n",
      "Epoch 50/50\n",
      "84/84 [==============================] - 1s 9ms/step - loss: 0.5819 - accuracy: 0.6620 - val_loss: 0.7886 - val_accuracy: 0.5294\n"
     ]
    }
   ],
   "source": [
    "## Plot Training & Validation Loss\n",
    "history_4 = model_4.fit(train_seq1, epochs= 50, verbose= 1, validation_data= test_seq1)"
   ]
  },
  {
   "cell_type": "code",
   "execution_count": 87,
   "metadata": {},
   "outputs": [
    {
     "data": {
      "image/png": "[encoded data removed]",
      "text/plain": [
       "<Figure size 432x288 with 1 Axes>"
      ]
     },
     "metadata": {
      "needs_background": "light"
     },
     "output_type": "display_data"
    }
   ],
   "source": [
    "## Plot Training & Validation Accuracy\n",
    "plt.plot(history_4.history['loss'], label = \"Training Loss\")\n",
    "plt.plot(history_4.history['val_loss'], label = \"Testing Loss\")\n",
    "plt.legend();"
   ]
  },
  {
   "cell_type": "code",
   "execution_count": 89,
   "metadata": {},
   "outputs": [
    {
     "data": {
      "image/png": "[encoded data removed]",
      "text/plain": [
       "<Figure size 432x288 with 1 Axes>"
      ]
     },
     "metadata": {
      "needs_background": "light"
     },
     "output_type": "display_data"
    }
   ],
   "source": [
    "plt.plot(history_4.history['accuracy'], label = \"Training Accuracy\")\n",
    "plt.plot(history_4.history['val_accuracy'], label = \"Testing Accuracy\")\n",
    "plt.legend();"
   ]
  },
  {
   "cell_type": "code",
   "execution_count": 90,
   "metadata": {},
   "outputs": [
    {
     "name": "stdout",
     "output_type": "stream",
     "text": [
      "5/5 [==============================] - 0s 2ms/step - loss: 0.7886 - accuracy: 0.5294\n"
     ]
    },
    {
     "data": {
      "text/plain": [
       "[0.7885934710502625, 0.529411792755127]"
      ]
     },
     "execution_count": 90,
     "metadata": {},
     "output_type": "execute_result"
    }
   ],
   "source": [
    "model_4.evaluate(test_seq1)"
   ]
  },
  {
   "cell_type": "code",
   "execution_count": null,
   "metadata": {},
   "outputs": [],
   "source": []
  }
 ],
 "metadata": {
  "kernelspec": {
   "display_name": "Python 3 (ipykernel)",
   "language": "python",
   "name": "python3"
  },
  "language_info": {
   "codemirror_mode": {
    "name": "ipython",
    "version": 3
   },
   "file_extension": ".py",
   "mimetype": "text/x-python",
   "name": "python",
   "nbconvert_exporter": "python",
   "pygments_lexer": "ipython3",
   "version": "3.9.5"
  }
 },
 "nbformat": 4,
 "nbformat_minor": 4
}
