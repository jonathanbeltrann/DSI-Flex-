{
 "cells": [
  {
   "cell_type": "markdown",
   "metadata": {},
   "source": [
    "<img src=\"http://imgur.com/1ZcRyrc.png\" style=\"float: left; margin: 20px; height: 55px\">\n",
    "\n",
    "# Linear Time Series Modeling\n",
    "\n",
    "_Author: Matt Brems, Matthew Garton_\n",
    "\n",
    "---\n",
    "\n",
    "### Learning Objectives \n",
    "_By the end of the lesson, students should be able to:_\n",
    "- Define forecasting.\n",
    "- Define and identify trend and seasonality in time series data.\n",
    "- Define and calculate autocorrelation manually.\n",
    "- Generate and interpret a seasonal decomposition plot.\n",
    "- Generate and interpret an autocorrelation plot.\n",
    "- Generate and interpret a partial autocorrelation plot.\n",
    "- Properly fit, generate predictions from, and evaluate a linear time series model."
   ]
  },
  {
   "cell_type": "code",
   "execution_count": 2,
   "metadata": {},
   "outputs": [],
   "source": [
    "import pandas as pd\n",
    "import numpy as np\n",
    "import matplotlib.pyplot as plt\n",
    "from sklearn.model_selection import train_test_split\n",
    "\n",
    "# Uncomment the code below to avoid a FutureWarning when plotting (or upgrade to matplotlib>=3.3.4)\n",
    "# from pandas.plotting import register_matplotlib_converters\n",
    "# register_matplotlib_converters()"
   ]
  },
  {
   "cell_type": "markdown",
   "metadata": {},
   "source": [
    "## Forecasting\n",
    "\n",
    "Our main focus during time series week is not to conduct inference, but to generate forecasts for future values of one or more variables."
   ]
  },
  {
   "cell_type": "markdown",
   "metadata": {},
   "source": [
    "<details><summary>What do you think forecasting is?</summary>\n",
    "\n",
    "- Forecasting is predicting the future as accurately as possible.\n",
    "</details>"
   ]
  },
  {
   "cell_type": "markdown",
   "metadata": {},
   "source": [
    "**We should first determine whether or not we want to forecast.**\n",
    "- Our model's performance will depend on many things:\n",
    "    - How much data is available.\n",
    "    - How well we understand factors that contribute to the thing we want to predict. (a.k.a. how predictable is the thing we want to predict!)\n",
    "    - Whether forecasts can affect what we want to forecast.\n",
    "\n",
    "### Notation\n",
    "\n",
    "Imagine a dataset that looks like this:\n",
    "\n",
    "|  **time**  | $Y_t$ | $Y_{t-1}$ | $Y_{t-2}$ | $Y_{t-3}$ | $X_{t}$ |\n",
    "|-------|-------|-----------|-----------|-----------|---------|\n",
    "| **1** | $y_1$ | NaN       | NaN       | NaN       | $x_1$   |\n",
    "| **2** | $y_2$ | $y_1$     | NaN       | NaN       | $x_2$   |\n",
    "| **3** | $y_3$ | $y_2$     | $y_1$     | NaN       | $x_3$   |\n",
    "| **4** | $y_4$ | $y_3$     | $y_2$     | $y_1$     | $x_4$   |\n",
    "\n",
    "We'll fit models that can help us forecast time series.\n",
    "- **The thing we want to predict is** $Y_t$.\n",
    "- We may use $X_t$ to predict $Y_t$.\n",
    "- We may use $Y_{t-1}$, the value of $Y$ at time $t-1$, to predict $Y_t$."
   ]
  },
  {
   "cell_type": "code",
   "execution_count": 6,
   "metadata": {},
   "outputs": [
    {
     "data": {
      "text/plain": [
       "DatetimeIndex(['2017-01-01', '2017-01-02', '2017-01-03', '2017-01-04',\n",
       "               '2017-01-05', '2017-01-06', '2017-01-07', '2017-01-08',\n",
       "               '2017-01-09', '2017-01-10',\n",
       "               ...\n",
       "               '2019-12-22', '2019-12-23', '2019-12-24', '2019-12-25',\n",
       "               '2019-12-26', '2019-12-27', '2019-12-28', '2019-12-29',\n",
       "               '2019-12-30', '2019-12-31'],\n",
       "              dtype='datetime64[ns]', length=1095, freq='D')"
      ]
     },
     "execution_count": 6,
     "metadata": {},
     "output_type": "execute_result"
    }
   ],
   "source": [
    "pd.date_range(start=\"01/01/2017\", end=\"12-31-2019\")"
   ]
  },
  {
   "cell_type": "code",
   "execution_count": 7,
   "metadata": {},
   "outputs": [
    {
     "data": {
      "text/plain": [
       "0.5627313777519763"
      ]
     },
     "execution_count": 7,
     "metadata": {},
     "output_type": "execute_result"
    }
   ],
   "source": [
    "# mean = 0, std = 1\n",
    "np.random.normal()"
   ]
  },
  {
   "cell_type": "code",
   "execution_count": 8,
   "metadata": {},
   "outputs": [],
   "source": [
    "# Instantiate dataframe with index.\n",
    "df = pd.DataFrame(index= pd.date_range(start=\"2017-01-01\", end=\"2019-12-31\"))\n",
    "\n",
    "# Set seed.\n",
    "np.random.seed(42)\n",
    "\n",
    "# Generate data.\n",
    "data = [52.4]\n",
    "for i in range(1,df.shape[0]):\n",
    "    data.append(data[i-1] + np.random.normal())\n",
    "    \n",
    "# Put data in DataFrame.\n",
    "df['co2'] = data"
   ]
  },
  {
   "cell_type": "code",
   "execution_count": 9,
   "metadata": {},
   "outputs": [
    {
     "data": {
      "text/html": [
       "<div>\n",
       "<style scoped>\n",
       "    .dataframe tbody tr th:only-of-type {\n",
       "        vertical-align: middle;\n",
       "    }\n",
       "\n",
       "    .dataframe tbody tr th {\n",
       "        vertical-align: top;\n",
       "    }\n",
       "\n",
       "    .dataframe thead th {\n",
       "        text-align: right;\n",
       "    }\n",
       "</style>\n",
       "<table border=\"1\" class=\"dataframe\">\n",
       "  <thead>\n",
       "    <tr style=\"text-align: right;\">\n",
       "      <th></th>\n",
       "      <th>co2</th>\n",
       "    </tr>\n",
       "  </thead>\n",
       "  <tbody>\n",
       "    <tr>\n",
       "      <th>2017-01-01</th>\n",
       "      <td>52.400000</td>\n",
       "    </tr>\n",
       "    <tr>\n",
       "      <th>2017-01-02</th>\n",
       "      <td>52.896714</td>\n",
       "    </tr>\n",
       "    <tr>\n",
       "      <th>2017-01-03</th>\n",
       "      <td>52.758450</td>\n",
       "    </tr>\n",
       "    <tr>\n",
       "      <th>2017-01-04</th>\n",
       "      <td>53.406138</td>\n",
       "    </tr>\n",
       "    <tr>\n",
       "      <th>2017-01-05</th>\n",
       "      <td>54.929168</td>\n",
       "    </tr>\n",
       "  </tbody>\n",
       "</table>\n",
       "</div>"
      ],
      "text/plain": [
       "                  co2\n",
       "2017-01-01  52.400000\n",
       "2017-01-02  52.896714\n",
       "2017-01-03  52.758450\n",
       "2017-01-04  53.406138\n",
       "2017-01-05  54.929168"
      ]
     },
     "execution_count": 9,
     "metadata": {},
     "output_type": "execute_result"
    }
   ],
   "source": [
    "df.head()"
   ]
  },
  {
   "cell_type": "code",
   "execution_count": 10,
   "metadata": {},
   "outputs": [
    {
     "data": {
      "text/html": [
       "<div>\n",
       "<style scoped>\n",
       "    .dataframe tbody tr th:only-of-type {\n",
       "        vertical-align: middle;\n",
       "    }\n",
       "\n",
       "    .dataframe tbody tr th {\n",
       "        vertical-align: top;\n",
       "    }\n",
       "\n",
       "    .dataframe thead th {\n",
       "        text-align: right;\n",
       "    }\n",
       "</style>\n",
       "<table border=\"1\" class=\"dataframe\">\n",
       "  <thead>\n",
       "    <tr style=\"text-align: right;\">\n",
       "      <th></th>\n",
       "      <th>co2</th>\n",
       "    </tr>\n",
       "  </thead>\n",
       "  <tbody>\n",
       "    <tr>\n",
       "      <th>2019-12-27</th>\n",
       "      <td>87.083571</td>\n",
       "    </tr>\n",
       "    <tr>\n",
       "      <th>2019-12-28</th>\n",
       "      <td>87.011970</td>\n",
       "    </tr>\n",
       "    <tr>\n",
       "      <th>2019-12-29</th>\n",
       "      <td>86.974747</td>\n",
       "    </tr>\n",
       "    <tr>\n",
       "      <th>2019-12-30</th>\n",
       "      <td>87.702377</td>\n",
       "    </tr>\n",
       "    <tr>\n",
       "      <th>2019-12-31</th>\n",
       "      <td>87.754323</td>\n",
       "    </tr>\n",
       "  </tbody>\n",
       "</table>\n",
       "</div>"
      ],
      "text/plain": [
       "                  co2\n",
       "2019-12-27  87.083571\n",
       "2019-12-28  87.011970\n",
       "2019-12-29  86.974747\n",
       "2019-12-30  87.702377\n",
       "2019-12-31  87.754323"
      ]
     },
     "execution_count": 10,
     "metadata": {},
     "output_type": "execute_result"
    }
   ],
   "source": [
    "df.tail()"
   ]
  },
  {
   "cell_type": "markdown",
   "metadata": {},
   "source": [
    "## Describing the Behavior of a Time Series through Plots\n",
    "\n",
    "When attempting to forecast time series data, it is critical for us to describe the behavior of the data. (*This is going to tell us how to model our data!*)\n",
    "\n",
    "We generally plot the data, then identify whether or not a few things are exhibited: trends, seasonality, and autocorrelation.\n",
    "\n",
    "The most common type of plot is called a **time plot**.\n",
    "\n",
    "<img src=\"./images/airlines.png\" alt=\"drawing\" width=\"500\"/>\n",
    "\n",
    "- A time plot is a line plot with time on the horizontal axis and the value of our series on the vertical axis.\n",
    "\n",
    "To make things easier, we're going to write a function that will generate plots for us."
   ]
  },
  {
   "cell_type": "code",
   "execution_count": 11,
   "metadata": {},
   "outputs": [],
   "source": [
    "# Write function called plot_series that takes in \n",
    "# a dataframe, a list of column names to plot, the \n",
    "# plot title and the axis labels as arguments,\n",
    "# then displays the line plot with a figure size\n",
    "# of 18 horizontal inches by 9 vertical inches.\n",
    "\n",
    "# Matthew Garton - BOS\n",
    "\n",
    "def plot_series(df, cols=None, title='Title', xlab=None, ylab=None):\n",
    "    \n",
    "    # Set figure size to be (18, 9).\n",
    "    plt.figure(figsize=(18,9))\n",
    "    \n",
    "    # Iterate through each column name.\n",
    "    for col in cols:\n",
    "        \n",
    "        # Generate a line plot of the column name.\n",
    "        # You only have to specify Y, since our\n",
    "        # index will be a datetime index.\n",
    "        plt.plot(df[col])\n",
    "        \n",
    "    # Generate title and labels.\n",
    "    plt.title(title, fontsize=26)\n",
    "    plt.xlabel(xlab, fontsize=20)\n",
    "    plt.ylabel(ylab, fontsize=20)\n",
    "    \n",
    "    # Enlarge tick marks.\n",
    "    plt.xticks(fontsize=18)\n",
    "    plt.yticks(fontsize=18);"
   ]
  },
  {
   "cell_type": "code",
   "execution_count": 15,
   "metadata": {},
   "outputs": [
    {
     "data": {
      "image/png": "[encoded data removed]",
      "text/plain": [
       "<Figure size 1296x648 with 1 Axes>"
      ]
     },
     "metadata": {
      "needs_background": "light"
     },
     "output_type": "display_data"
    }
   ],
   "source": [
    "plot_series(df, cols=['co2'], title=\"Carbon Dioxide Output Over Time\", xlab='Time', ylab='CO2_Output')"
   ]
  },
  {
   "cell_type": "markdown",
   "metadata": {},
   "source": [
    "<details><summary>How would you describe this plot?</summary>\n",
    "    \n",
    "    <i>(Answers will vary.)</i>\n",
    "\n",
    "- Across the full range of time, the value of $Y$ increases.\n",
    "- There is a sharp jump upward around July 2019.\n",
    "- $Y$ increases and decreases over time, but in irregular patterns.\n",
    "- The values of $Y_t$ and $Y_{t-1}$ are highly correlated with one another.\n",
    "</details>"
   ]
  },
  {
   "cell_type": "markdown",
   "metadata": {},
   "source": [
    "### Trends\n",
    "\n",
    "In time series data, a **trend** is the long-term increase or decrease in the data.\n",
    "\n",
    "The two most common types of trends will be **linear (straight line) trends** and **exponential trends**.\n",
    "\n",
    "<img src=\"./images/column_1_small.png\" alt=\"drawing\" width=\"550\"/>"
   ]
  },
  {
   "cell_type": "markdown",
   "metadata": {},
   "source": [
    "<details><summary>Is there a trend in the carbon dioxide output? If so, is it increasing or decreasing? Do you think it's a straight line trend or an exponential trend?</summary>\n",
    "\n",
    "- Yes, there is a trend in the graph. There appears to be a long-term increase over time.\n",
    "- The trend could be either linear or exponential!\n",
    "</details>"
   ]
  },
  {
   "cell_type": "markdown",
   "metadata": {},
   "source": [
    "We'll decide how to model the above shortly.\n",
    "\n",
    "### Seasonality\n",
    "\n",
    "In time series data, **seasonality** describes when a time series is affected by factors that take on a **fixed and known frequency**.\n",
    "\n",
    "Seasonality does not have to explicitly refer to seasons of the year (and from an inclusivity standpoint, different regions of the world have different seasons), but seasonality almost always **will** be tied to some meaning on the calendar!"
   ]
  },
  {
   "cell_type": "markdown",
   "metadata": {},
   "source": [
    "<details><summary>Can you think of examples of time series data that exhibit seasonality?</summary>\n",
    "\n",
    "    \n",
    "- Sales data for many products likely exhibits seasonality. Purchases of heavier coats will probably peak in colder times of the year, which will occur roughly every twelve months.\n",
    "- Restaurant sales likely exhibits seasonality with a peak every week (usually Friday or Saturday).\n",
    "- Temperature itself would exhibit seasonality! We expect temperature to fluctuate up and down in a relatively consistent pattern every twelve months or so.\n",
    "    - Note that temperature also has an increasing trend... so trends and seasonality can occur together!\n",
    "</details>"
   ]
  },
  {
   "cell_type": "markdown",
   "metadata": {},
   "source": [
    "<img src=\"./images/column_1_small.png\" alt=\"drawing\" width=\"550\"/>"
   ]
  },
  {
   "cell_type": "markdown",
   "metadata": {},
   "source": [
    "<details><summary>Is there seasonality in the carbon dioxide output? If so, about how frequently?</summary>\n",
    "\n",
    "- No, there does not appear to be seasonality.\n",
    "- While $Y$ does fluctuate up and down, it does not appear to fluctuate with some fixed and known frequency.\n",
    "</details>"
   ]
  },
  {
   "cell_type": "markdown",
   "metadata": {},
   "source": [
    "One tool that _can_ be helpful is the `seasonal_decompose` tool from `statsmodels`. However, we have to be careful!"
   ]
  },
  {
   "cell_type": "code",
   "execution_count": 16,
   "metadata": {},
   "outputs": [],
   "source": [
    "from statsmodels.tsa.seasonal import seasonal_decompose"
   ]
  },
  {
   "cell_type": "code",
   "execution_count": 17,
   "metadata": {},
   "outputs": [
    {
     "data": {
      "image/png": "[encoded data removed]",
      "text/plain": [
       "<Figure size 432x288 with 4 Axes>"
      ]
     },
     "metadata": {
      "needs_background": "light"
     },
     "output_type": "display_data"
    }
   ],
   "source": [
    "# Decompose time series into trend, seasonal, and residual components.\n",
    "decomp = seasonal_decompose(df['co2'])\n",
    "\n",
    "# Plot the decomposed time series.\n",
    "decomp.plot();"
   ]
  },
  {
   "cell_type": "markdown",
   "metadata": {},
   "source": [
    "By default, the decomposition will assume there is a linear trend. If you believe there is an exponential trend, you should change the argument `model` to be `multiplicative`, but this will fail with values that are less than or equal to 0.\n",
    "\n",
    "The plot will **always** pull out a seasonal component... even if there isn't a seasonal component in our data! In short, this is sometimes a helpful tool, but it's not a substitute for plotting your data with a time plot and examining it first."
   ]
  },
  {
   "cell_type": "markdown",
   "metadata": {},
   "source": [
    "### Autocorrelation\n",
    "\n",
    "In time series data, autocorrelation refers to the **correlation of one variable with lagged versions of itself**. (You may also hear the term **serial correlation**.)\n",
    "\n",
    "You might imagine a dataset that looks like this:\n",
    "\n",
    "|  **time**  | $Y_t$ | $Y_{t-1}$ | $Y_{t-2}$ | $Y_{t-3}$ | $X_{t}$ |\n",
    "|-------|-------|-----------|-----------|-----------|---------|\n",
    "| **1** | $y_1$ | NaN       | NaN       | NaN       | $x_1$   |\n",
    "| **2** | $y_2$ | $y_1$     | NaN       | NaN       | $x_2$   |\n",
    "| **3** | $y_3$ | $y_2$     | $y_1$     | NaN       | $x_3$   |\n",
    "| **4** | $y_4$ | $y_3$     | $y_2$     | $y_1$     | $x_4$   |"
   ]
  },
  {
   "cell_type": "code",
   "execution_count": 18,
   "metadata": {},
   "outputs": [],
   "source": [
    "# Generate a dataframe with our CO2 data that\n",
    "# looks like the above dataframe.\n",
    "\n",
    "df['co2_lag_1'] = df['co2'].shift(1)\n",
    "df['co2_lag_2'] = df['co2'].shift(2)\n",
    "df['co2_lag_3'] = df['co2'].shift(3)"
   ]
  },
  {
   "cell_type": "code",
   "execution_count": 19,
   "metadata": {},
   "outputs": [
    {
     "data": {
      "text/html": [
       "<div>\n",
       "<style scoped>\n",
       "    .dataframe tbody tr th:only-of-type {\n",
       "        vertical-align: middle;\n",
       "    }\n",
       "\n",
       "    .dataframe tbody tr th {\n",
       "        vertical-align: top;\n",
       "    }\n",
       "\n",
       "    .dataframe thead th {\n",
       "        text-align: right;\n",
       "    }\n",
       "</style>\n",
       "<table border=\"1\" class=\"dataframe\">\n",
       "  <thead>\n",
       "    <tr style=\"text-align: right;\">\n",
       "      <th></th>\n",
       "      <th>co2</th>\n",
       "      <th>co2_lag_1</th>\n",
       "      <th>co2_lag_2</th>\n",
       "      <th>co2_lag_3</th>\n",
       "    </tr>\n",
       "  </thead>\n",
       "  <tbody>\n",
       "    <tr>\n",
       "      <th>2017-01-01</th>\n",
       "      <td>52.400000</td>\n",
       "      <td>NaN</td>\n",
       "      <td>NaN</td>\n",
       "      <td>NaN</td>\n",
       "    </tr>\n",
       "    <tr>\n",
       "      <th>2017-01-02</th>\n",
       "      <td>52.896714</td>\n",
       "      <td>52.400000</td>\n",
       "      <td>NaN</td>\n",
       "      <td>NaN</td>\n",
       "    </tr>\n",
       "    <tr>\n",
       "      <th>2017-01-03</th>\n",
       "      <td>52.758450</td>\n",
       "      <td>52.896714</td>\n",
       "      <td>52.400000</td>\n",
       "      <td>NaN</td>\n",
       "    </tr>\n",
       "    <tr>\n",
       "      <th>2017-01-04</th>\n",
       "      <td>53.406138</td>\n",
       "      <td>52.758450</td>\n",
       "      <td>52.896714</td>\n",
       "      <td>52.400000</td>\n",
       "    </tr>\n",
       "    <tr>\n",
       "      <th>2017-01-05</th>\n",
       "      <td>54.929168</td>\n",
       "      <td>53.406138</td>\n",
       "      <td>52.758450</td>\n",
       "      <td>52.896714</td>\n",
       "    </tr>\n",
       "  </tbody>\n",
       "</table>\n",
       "</div>"
      ],
      "text/plain": [
       "                  co2  co2_lag_1  co2_lag_2  co2_lag_3\n",
       "2017-01-01  52.400000        NaN        NaN        NaN\n",
       "2017-01-02  52.896714  52.400000        NaN        NaN\n",
       "2017-01-03  52.758450  52.896714  52.400000        NaN\n",
       "2017-01-04  53.406138  52.758450  52.896714  52.400000\n",
       "2017-01-05  54.929168  53.406138  52.758450  52.896714"
      ]
     },
     "execution_count": 19,
     "metadata": {},
     "output_type": "execute_result"
    }
   ],
   "source": [
    "df.head()"
   ]
  },
  {
   "cell_type": "markdown",
   "metadata": {},
   "source": [
    "We can calculate the correlation between $Y_t$ and $Y_{t-1}$, which tells us how highly correlated values of $Y$ are with the immediately previous value of $Y$."
   ]
  },
  {
   "cell_type": "markdown",
   "metadata": {},
   "source": [
    "<details><summary>BONUS: If you want to see the formula for autocorrelation, check here.</summary>\n",
    "    \n",
    "$$\n",
    "\\begin{eqnarray*}\n",
    "Corr(Y_t, Y_{t-k}) = \\frac{Cov(Y_t,Y_{t-k})}{Var(Y_t)Var(Y_{t-k})}\n",
    "\\end{eqnarray*}\n",
    "$$\n",
    "</details> "
   ]
  },
  {
   "cell_type": "code",
   "execution_count": 20,
   "metadata": {},
   "outputs": [
    {
     "data": {
      "text/html": [
       "<div>\n",
       "<style scoped>\n",
       "    .dataframe tbody tr th:only-of-type {\n",
       "        vertical-align: middle;\n",
       "    }\n",
       "\n",
       "    .dataframe tbody tr th {\n",
       "        vertical-align: top;\n",
       "    }\n",
       "\n",
       "    .dataframe thead th {\n",
       "        text-align: right;\n",
       "    }\n",
       "</style>\n",
       "<table border=\"1\" class=\"dataframe\">\n",
       "  <thead>\n",
       "    <tr style=\"text-align: right;\">\n",
       "      <th></th>\n",
       "      <th>co2</th>\n",
       "      <th>co2_lag_1</th>\n",
       "      <th>co2_lag_2</th>\n",
       "      <th>co2_lag_3</th>\n",
       "    </tr>\n",
       "  </thead>\n",
       "  <tbody>\n",
       "    <tr>\n",
       "      <th>co2</th>\n",
       "      <td>1.000000</td>\n",
       "      <td>0.997065</td>\n",
       "      <td>0.994184</td>\n",
       "      <td>0.991275</td>\n",
       "    </tr>\n",
       "    <tr>\n",
       "      <th>co2_lag_1</th>\n",
       "      <td>0.997065</td>\n",
       "      <td>1.000000</td>\n",
       "      <td>0.997046</td>\n",
       "      <td>0.994150</td>\n",
       "    </tr>\n",
       "    <tr>\n",
       "      <th>co2_lag_2</th>\n",
       "      <td>0.994184</td>\n",
       "      <td>0.997046</td>\n",
       "      <td>1.000000</td>\n",
       "      <td>0.997030</td>\n",
       "    </tr>\n",
       "    <tr>\n",
       "      <th>co2_lag_3</th>\n",
       "      <td>0.991275</td>\n",
       "      <td>0.994150</td>\n",
       "      <td>0.997030</td>\n",
       "      <td>1.000000</td>\n",
       "    </tr>\n",
       "  </tbody>\n",
       "</table>\n",
       "</div>"
      ],
      "text/plain": [
       "                co2  co2_lag_1  co2_lag_2  co2_lag_3\n",
       "co2        1.000000   0.997065   0.994184   0.991275\n",
       "co2_lag_1  0.997065   1.000000   0.997046   0.994150\n",
       "co2_lag_2  0.994184   0.997046   1.000000   0.997030\n",
       "co2_lag_3  0.991275   0.994150   0.997030   1.000000"
      ]
     },
     "execution_count": 20,
     "metadata": {},
     "output_type": "execute_result"
    }
   ],
   "source": [
    "# Calculate the correlations among these columns.\n",
    "df.corr()"
   ]
  },
  {
   "cell_type": "markdown",
   "metadata": {},
   "source": [
    "<details><summary>Why do you think it's useful to look at the correlation between our $Y$ variable and lagged versions of itself?</summary>\n",
    "\n",
    "    \n",
    "- It can inform us which lagged values of $Y$ to put into our model!\n",
    "</details>"
   ]
  },
  {
   "cell_type": "markdown",
   "metadata": {},
   "source": [
    "We can also calculate the correlation between $Y_t$ and $Y_{t-2}$, $Y_t$ and $Y_{t-3}$, and so on. But this can be tedious to do by hand, so we generally use a function to generate an **autocorrelation plot** that visualizes this all at once!"
   ]
  },
  {
   "cell_type": "code",
   "execution_count": 21,
   "metadata": {},
   "outputs": [],
   "source": [
    "# Import the autocorrelation function (ACF) plot.\n",
    "from statsmodels.graphics.tsaplots import plot_acf"
   ]
  },
  {
   "cell_type": "code",
   "execution_count": 22,
   "metadata": {},
   "outputs": [],
   "source": [
    "# Get the autocorrelation values\n",
    "from statsmodels.tsa.stattools import acf"
   ]
  },
  {
   "cell_type": "code",
   "execution_count": 23,
   "metadata": {},
   "outputs": [
    {
     "data": {
      "image/png": "[encoded data removed]",
      "text/plain": [
       "<Figure size 432x288 with 1 Axes>"
      ]
     },
     "metadata": {
      "needs_background": "light"
     },
     "output_type": "display_data"
    }
   ],
   "source": [
    "# Generate the ACF plot on co2 data\n",
    "# up to 20 time periods.\n",
    "plot_acf(df['co2'], lags=20);"
   ]
  },
  {
   "cell_type": "code",
   "execution_count": 24,
   "metadata": {},
   "outputs": [
    {
     "data": {
      "text/plain": [
       "array([1.        , 0.99399171, 0.9880563 , 0.98222603, 0.97630857,\n",
       "       0.97064156, 0.96472758, 0.95873184, 0.952716  , 0.94717361,\n",
       "       0.94152986, 0.93586012, 0.93037091, 0.92469857, 0.9189881 ,\n",
       "       0.91320041, 0.90762303, 0.90221942, 0.89693269, 0.89113587,\n",
       "       0.88530715])"
      ]
     },
     "execution_count": 24,
     "metadata": {},
     "output_type": "execute_result"
    }
   ],
   "source": [
    "acf(df['co2'], nlags=20)"
   ]
  },
  {
   "cell_type": "markdown",
   "metadata": {},
   "source": [
    "### Reading an Autocorrelation Plot\n",
    "\n",
    "The **horizontal axis** tells us which lag of $Y_t$ we are comparing to the main time series $Y_t$.\n",
    "\n",
    "The **vertical axis** tells us the value of the autocorrelation between $Y_t$ and the lagged version, $Y_{t-lag}$.\n",
    "\n",
    "- The left-most value, $lag = 0$ of the autocorrelation plot is $Corr(Y_t, Y_t)$. \n",
    "    - This should always be 1!\n",
    "- The next value, $lag = 1$ of the autocorrelation plot is $Corr(Y_t, Y_{t-1})$.\n",
    "- The next value of the autocorrelation plot visualizes $Corr(Y_t, Y_{t-2})$.\n",
    "\n",
    "\n",
    "\n",
    "\n",
    "#### Interpretation\n",
    "\n",
    "The autocorrelation plot is an important tool for a few reasons:\n",
    "- **We can use it to detect trends**: When the autocorrelation plot has large and positive values for small lags (e.g. lags 1, 2, 3), this is evidence that a trend exists.\n",
    "- **We can use it to detect seasonality**: Recall that seasonality means we have fluctuations in our $Y$ variable that occur with a fixed and known frequency. When the autocorrelation plot has larger values for the seasonal lags than other lags, this is evidence that seasonality exists. (Visually, this might look like a scalloped shape.)\n",
    "- **We can use this plot to inform our modeling choices**, along with a related plot - the partial autocorrelation function plot.\n",
    "\n",
    "### Partial Autocorrelation\n",
    "\n",
    "Based on the autocorrelation plot above, we might try to fit a model that looks like this:\n",
    "\n",
    "$$\n",
    "\\begin{eqnarray*}\n",
    "Y_t &=& \\beta_0 + \\beta_1Y_{t-1} + \\beta_2Y_{t-2} + \\cdots + \\beta_{20}Y_{t-20} \\\\\n",
    "&=& \\beta_0 + \\sum_{k=1}^{20}\\beta_kY_{t-k}\n",
    "\\end{eqnarray*}\n",
    "$$\n",
    "\n"
   ]
  },
  {
   "cell_type": "markdown",
   "metadata": {},
   "source": [
    "<details><summary>However, this can run into many problems!</summary>\n",
    "\n",
    "- The more variables we have, the likelier we are to overfit our model to the data.\n",
    "- $Y_{t-1}$ and $Y_{t-2}$ and $Y_{t-3}$ are all highly correlated with one another, so the inputs to our model in this case aren't independent of one another.\n",
    "- When we use a variable like $Y_{t-20}$, we effectively decrease our sample size by 20. (If our data are measured year over year, discarding 20 years of data is **a lot of data** to exclude from our model.)\n",
    "</details>"
   ]
  },
  {
   "cell_type": "markdown",
   "metadata": {},
   "source": [
    "To avoid this problem, we use the **partial autocorrelation function**.\n",
    "- The partial autocorrelation is like the autocorrelation in that it checks for the correlation between $Y_t$ and lagged versions of itself.\n",
    "- However, the partial autocorrelation **controls for all lower-lag autocorrelations**.\n",
    "    - That is, the partial autocorrelation between $Y_t$ and $Y_{t-2}$ is the correlation between $Y_t$ and $Y_{t-2}$  that has already taken into account the autocorrelation between $Y_t$ and $Y_{t-1}$.\n",
    "    \n",
    "    \n",
    "<details><summary>BONUS: If you want to see the formula for partial autocorrelation, check here.</summary>\n",
    "    \n",
    "$$\n",
    "\\begin{eqnarray*}\n",
    "PartialCorr(Y_t, Y_{t-k}) = \\frac{Cov(Y_t,Y_{t-k}|Y_{t-1},Y_{t-2},\\ldots,Y_{t-(k-1)})}{Var(Y_t|Y_{t-1},Y_{t-2},\\ldots,Y_{t-(k-1)})Var(Y_{t-k}|Y_{t-1},Y_{t-2},\\ldots,Y_{t-(k-1)})}\n",
    "\\end{eqnarray*}\n",
    "$$\n",
    "</details>     "
   ]
  },
  {
   "cell_type": "code",
   "execution_count": 28,
   "metadata": {},
   "outputs": [],
   "source": [
    "# Import the partial autocorrelation function (PACF) plot.\n",
    "from statsmodels.graphics.tsaplots import plot_pacf"
   ]
  },
  {
   "cell_type": "code",
   "execution_count": 31,
   "metadata": {},
   "outputs": [
    {
     "name": "stderr",
     "output_type": "stream",
     "text": [
      "/Users/jonathanbeltran/opt/miniconda3/lib/python3.9/site-packages/statsmodels/graphics/tsaplots.py:348: FutureWarning: The default method 'yw' can produce PACF values outside of the [-1,1] interval. After 0.13, the default will change tounadjusted Yule-Walker ('ywm'). You can use this method now by setting method='ywm'.\n",
      "  warnings.warn(\n"
     ]
    },
    {
     "data": {
      "image/png": "[encoded data removed]",
      "text/plain": [
       "<Figure size 432x288 with 1 Axes>"
      ]
     },
     "metadata": {
      "needs_background": "light"
     },
     "output_type": "display_data"
    }
   ],
   "source": [
    "# Generate the PACF plot on CO2 data\n",
    "# up to 20 time periods.\n",
    "plot_pacf(df['co2'], lags=20);"
   ]
  },
  {
   "cell_type": "markdown",
   "metadata": {},
   "source": [
    "### Reading a Partial Autocorrelation Plot\n",
    "\n",
    "The **horizontal axis** still tells us which lag of $Y_t$ we are comparing to the main time series $Y_t$.\n",
    "\n",
    "The **vertical axis** tells us the value of the **partial autocorrelation** between $Y_t$ and the lagged version, $Y_{t-lag}$.\n",
    "\n",
    "The blue band represents a 95% confidence interval. If the value of the partial autocorrelation goes outside the blue band, that means that correlation is statistically significant.\n",
    "\n",
    "#### Interpretation\n",
    "\n",
    "The partial autocorrelation plot is an important tool for a few reasons:\n",
    "- **We can use it to detect seasonality**: Recall that seasonality means we have fluctuations in our $Y$ variable that occur with a fixed and known frequency. When the partial autocorrelation plot has significant values for the seasonal lags, this is evidence that seasonality exists.\n",
    "- **We can use this plot to inform our modeling choices**: Here, we see that by using $Y_{t-1}$ as a predictor for $Y_t$, we probably won't get much important information if we were to also include $Y_{t-2}$ (or higher order lags) as a predictor."
   ]
  },
  {
   "cell_type": "code",
   "execution_count": 32,
   "metadata": {},
   "outputs": [],
   "source": [
    "# Import the PACF \n",
    "from statsmodels.tsa.stattools import pacf"
   ]
  },
  {
   "cell_type": "code",
   "execution_count": 33,
   "metadata": {},
   "outputs": [
    {
     "data": {
      "text/plain": [
       "array([ 1.        ,  0.9949003 ,  0.00370283,  0.00696439, -0.01186286,\n",
       "        0.02125529, -0.0276096 , -0.01132167, -0.00657577,  0.04424644,\n",
       "       -0.01393762, -0.0048874 ,  0.01373872, -0.01871198, -0.00988272,\n",
       "       -0.01225839,  0.01856993,  0.01473974,  0.00850168, -0.05456675,\n",
       "       -0.00414816])"
      ]
     },
     "execution_count": 33,
     "metadata": {},
     "output_type": "execute_result"
    }
   ],
   "source": [
    "# Get the partial autocorrelation function (values)\n",
    "pacf(df['co2'], nlags=20)"
   ]
  },
  {
   "cell_type": "markdown",
   "metadata": {},
   "source": [
    "## Recap\n",
    "\n",
    "When you look at a new time series, you should:\n",
    "- generate a time plot.\n",
    "- generate the autocorrelation plot.\n",
    "- generate the partial autocorrelation plot.\n",
    "\n",
    "Use these plots to determine:\n",
    "- is there a trend?\n",
    "- is there seasonality?\n",
    "\n",
    "Once we answer these questions, we can begin to model.\n",
    "\n",
    "## Practice\n",
    "\n",
    "On your own, take some time to read in the following data and answer the following questions.\n",
    "1. Based on the time plot, is there evidence of a trend? If so, describe the trend. How can you tell?\n",
    "2. Based on the time plot, is there evidence of seasonality? If so, estimate the frequency of the seasonality. How can you tell?\n",
    "3. Based on the ACF plot, is there evidence of a trend? If so, describe the trend. How can you tell?\n",
    "4. Based on the ACF and PACF plots, is there evidence of seasonality? If so, estimate the frequency of the seasonality. How can you tell?"
   ]
  },
  {
   "cell_type": "code",
   "execution_count": 34,
   "metadata": {},
   "outputs": [],
   "source": [
    "# Read in airline data.\n",
    "air = pd.read_csv('./data/airline-passengers.csv', parse_dates=['Month'])\n",
    "\n",
    "# Set the index to be month over month."
   ]
  },
  {
   "cell_type": "code",
   "execution_count": 35,
   "metadata": {},
   "outputs": [
    {
     "data": {
      "text/html": [
       "<div>\n",
       "<style scoped>\n",
       "    .dataframe tbody tr th:only-of-type {\n",
       "        vertical-align: middle;\n",
       "    }\n",
       "\n",
       "    .dataframe tbody tr th {\n",
       "        vertical-align: top;\n",
       "    }\n",
       "\n",
       "    .dataframe thead th {\n",
       "        text-align: right;\n",
       "    }\n",
       "</style>\n",
       "<table border=\"1\" class=\"dataframe\">\n",
       "  <thead>\n",
       "    <tr style=\"text-align: right;\">\n",
       "      <th></th>\n",
       "      <th>Month</th>\n",
       "      <th>Passengers</th>\n",
       "    </tr>\n",
       "  </thead>\n",
       "  <tbody>\n",
       "    <tr>\n",
       "      <th>0</th>\n",
       "      <td>1949-01-01</td>\n",
       "      <td>112</td>\n",
       "    </tr>\n",
       "    <tr>\n",
       "      <th>1</th>\n",
       "      <td>1949-02-01</td>\n",
       "      <td>118</td>\n",
       "    </tr>\n",
       "    <tr>\n",
       "      <th>2</th>\n",
       "      <td>1949-03-01</td>\n",
       "      <td>132</td>\n",
       "    </tr>\n",
       "    <tr>\n",
       "      <th>3</th>\n",
       "      <td>1949-04-01</td>\n",
       "      <td>129</td>\n",
       "    </tr>\n",
       "    <tr>\n",
       "      <th>4</th>\n",
       "      <td>1949-05-01</td>\n",
       "      <td>121</td>\n",
       "    </tr>\n",
       "  </tbody>\n",
       "</table>\n",
       "</div>"
      ],
      "text/plain": [
       "       Month  Passengers\n",
       "0 1949-01-01         112\n",
       "1 1949-02-01         118\n",
       "2 1949-03-01         132\n",
       "3 1949-04-01         129\n",
       "4 1949-05-01         121"
      ]
     },
     "execution_count": 35,
     "metadata": {},
     "output_type": "execute_result"
    }
   ],
   "source": [
    "air.head()"
   ]
  },
  {
   "cell_type": "code",
   "execution_count": 36,
   "metadata": {},
   "outputs": [],
   "source": [
    "air = air.set_index(\"Month\")"
   ]
  },
  {
   "cell_type": "code",
   "execution_count": 38,
   "metadata": {},
   "outputs": [
    {
     "data": {
      "text/html": [
       "<div>\n",
       "<style scoped>\n",
       "    .dataframe tbody tr th:only-of-type {\n",
       "        vertical-align: middle;\n",
       "    }\n",
       "\n",
       "    .dataframe tbody tr th {\n",
       "        vertical-align: top;\n",
       "    }\n",
       "\n",
       "    .dataframe thead th {\n",
       "        text-align: right;\n",
       "    }\n",
       "</style>\n",
       "<table border=\"1\" class=\"dataframe\">\n",
       "  <thead>\n",
       "    <tr style=\"text-align: right;\">\n",
       "      <th></th>\n",
       "      <th>Passengers</th>\n",
       "    </tr>\n",
       "    <tr>\n",
       "      <th>Month</th>\n",
       "      <th></th>\n",
       "    </tr>\n",
       "  </thead>\n",
       "  <tbody>\n",
       "    <tr>\n",
       "      <th>1949-01-01</th>\n",
       "      <td>112</td>\n",
       "    </tr>\n",
       "    <tr>\n",
       "      <th>1949-02-01</th>\n",
       "      <td>118</td>\n",
       "    </tr>\n",
       "    <tr>\n",
       "      <th>1949-03-01</th>\n",
       "      <td>132</td>\n",
       "    </tr>\n",
       "    <tr>\n",
       "      <th>1949-04-01</th>\n",
       "      <td>129</td>\n",
       "    </tr>\n",
       "    <tr>\n",
       "      <th>1949-05-01</th>\n",
       "      <td>121</td>\n",
       "    </tr>\n",
       "  </tbody>\n",
       "</table>\n",
       "</div>"
      ],
      "text/plain": [
       "            Passengers\n",
       "Month                 \n",
       "1949-01-01         112\n",
       "1949-02-01         118\n",
       "1949-03-01         132\n",
       "1949-04-01         129\n",
       "1949-05-01         121"
      ]
     },
     "execution_count": 38,
     "metadata": {},
     "output_type": "execute_result"
    }
   ],
   "source": [
    "air.head()"
   ]
  },
  {
   "cell_type": "code",
   "execution_count": 39,
   "metadata": {},
   "outputs": [
    {
     "data": {
      "image/png": "[encoded data removed]",
      "text/plain": [
       "<Figure size 1296x648 with 1 Axes>"
      ]
     },
     "metadata": {
      "needs_background": "light"
     },
     "output_type": "display_data"
    }
   ],
   "source": [
    "# Generate a time plot of the airline passengers data.\n",
    "plot_series(air, ['Passengers'], title='Airline Passengers Over Time', \n",
    "            xlab='Time', ylab='Number of Passengers (in Thousands)')"
   ]
  },
  {
   "cell_type": "code",
   "execution_count": 40,
   "metadata": {},
   "outputs": [
    {
     "data": {
      "image/png": "[encoded data removed]",
      "text/plain": [
       "<Figure size 432x288 with 4 Axes>"
      ]
     },
     "metadata": {
      "needs_background": "light"
     },
     "output_type": "display_data"
    }
   ],
   "source": [
    "# Generate a decomposition plot of the airline passengers data.\n",
    "decomp = seasonal_decompose(air['Passengers'])\n",
    "\n",
    "# Plot the decomposed time series.\n",
    "decomp.plot();"
   ]
  },
  {
   "cell_type": "code",
   "execution_count": 41,
   "metadata": {},
   "outputs": [
    {
     "data": {
      "image/png": "[encoded data removed]",
      "text/plain": [
       "<Figure size 432x288 with 1 Axes>"
      ]
     },
     "metadata": {
      "needs_background": "light"
     },
     "output_type": "display_data"
    }
   ],
   "source": [
    "# Generate an ACF plot of the airline passengers data with 30 time periods.\n",
    "plot_acf(air['Passengers'], lags=30);"
   ]
  },
  {
   "cell_type": "code",
   "execution_count": 42,
   "metadata": {},
   "outputs": [
    {
     "name": "stderr",
     "output_type": "stream",
     "text": [
      "/Users/jonathanbeltran/opt/miniconda3/lib/python3.9/site-packages/statsmodels/graphics/tsaplots.py:348: FutureWarning: The default method 'yw' can produce PACF values outside of the [-1,1] interval. After 0.13, the default will change tounadjusted Yule-Walker ('ywm'). You can use this method now by setting method='ywm'.\n",
      "  warnings.warn(\n"
     ]
    },
    {
     "data": {
      "image/png": "[encoded data removed]",
      "text/plain": [
       "<Figure size 432x288 with 1 Axes>"
      ]
     },
     "execution_count": 42,
     "metadata": {},
     "output_type": "execute_result"
    },
    {
     "data": {
      "image/png": "[encoded data removed]",
      "text/plain": [
       "<Figure size 432x288 with 1 Axes>"
      ]
     },
     "metadata": {
      "needs_background": "light"
     },
     "output_type": "display_data"
    }
   ],
   "source": [
    "# Generate an PACF plot of the airline passengers data with 30 time periods.\n",
    "plot_pacf(air['Passengers'], lags=30)"
   ]
  },
  {
   "cell_type": "markdown",
   "metadata": {},
   "source": [
    "<details><summary>1. Based on the time plot, is there evidence of a trend? If so, describe the trend. How can you tell?</summary>\n",
    "\n",
    "    \n",
    "- There is a trend. It seems to be increasing and pretty linear.\n",
    "</details>"
   ]
  },
  {
   "cell_type": "markdown",
   "metadata": {},
   "source": [
    "<details><summary>2. Based on the time plot, is there evidence of seasonality? If so, estimate the frequency of the seasonality. How can you tell?</summary>\n",
    "\n",
    "    \n",
    "- There is evidence of seasonality. There appear to be peaks in the data about every twelve months. This makes sense, because the number of people flying on planes in a given month may peak when there's more travel (e.g. summer) and it might die down in other months.\n",
    "- This evidence is strongest in the later years, where from 1954-1961 there's obviously one peak every year. (Note that there are two peaks between 1956 and 1958, two peaks between 1958 and 1960, etc.)\n",
    "</details>"
   ]
  },
  {
   "cell_type": "markdown",
   "metadata": {},
   "source": [
    "<details><summary>3. Based on the ACF plot, is there evidence of a trend? If so, describe the trend. How can you tell?</summary>\n",
    "\n",
    "- Yes, there is a trend. In the ACF plot, the small lag values have large, positive autocorrelations.\n",
    "</details>"
   ]
  },
  {
   "cell_type": "markdown",
   "metadata": {},
   "source": [
    "<details><summary>4. Based on the ACF and PACF plots, is there evidence of seasonality? If so, estimate the frequency of the seasonality. How can you tell?</summary>\n",
    "\n",
    "    \n",
    "- Yes, there is seasonality. In the ACF plot, there is a \"scalloped\" shape, where we see ACF values peak roughly every 12 months.\n",
    "- In the PACF plot, we see significant values every 12 months or so. We also see some positive and some negative significant partial autocorrelations, which usually indicates strong seasonal fluctuations.\n",
    "</details>"
   ]
  },
  {
   "cell_type": "markdown",
   "metadata": {},
   "source": [
    "<details><summary>Based on the above plots, we might conclude:</summary>\n",
    "\n",
    "- The last two values are highly informative in predicting future values.\n",
    "- There is a linear trend in our data.\n",
    "- There is seasonality that occurs roughly every twelve months.\n",
    "\n",
    "Let's fit the following model:\n",
    "$$\n",
    "\\begin{eqnarray*}\n",
    "Y_t &=& \\beta_0 + \\beta_1Y_{t-1} + \\beta_2Y_{t-2} + \\beta_3Y_{t-12} + \\beta_4t\n",
    "\\end{eqnarray*}\n",
    "$$\n",
    "</details>"
   ]
  },
  {
   "cell_type": "code",
   "execution_count": 43,
   "metadata": {},
   "outputs": [
    {
     "data": {
      "text/html": [
       "<div>\n",
       "<style scoped>\n",
       "    .dataframe tbody tr th:only-of-type {\n",
       "        vertical-align: middle;\n",
       "    }\n",
       "\n",
       "    .dataframe tbody tr th {\n",
       "        vertical-align: top;\n",
       "    }\n",
       "\n",
       "    .dataframe thead th {\n",
       "        text-align: right;\n",
       "    }\n",
       "</style>\n",
       "<table border=\"1\" class=\"dataframe\">\n",
       "  <thead>\n",
       "    <tr style=\"text-align: right;\">\n",
       "      <th></th>\n",
       "      <th>Passengers</th>\n",
       "    </tr>\n",
       "    <tr>\n",
       "      <th>Month</th>\n",
       "      <th></th>\n",
       "    </tr>\n",
       "  </thead>\n",
       "  <tbody>\n",
       "    <tr>\n",
       "      <th>1949-01-01</th>\n",
       "      <td>112</td>\n",
       "    </tr>\n",
       "    <tr>\n",
       "      <th>1949-02-01</th>\n",
       "      <td>118</td>\n",
       "    </tr>\n",
       "    <tr>\n",
       "      <th>1949-03-01</th>\n",
       "      <td>132</td>\n",
       "    </tr>\n",
       "    <tr>\n",
       "      <th>1949-04-01</th>\n",
       "      <td>129</td>\n",
       "    </tr>\n",
       "    <tr>\n",
       "      <th>1949-05-01</th>\n",
       "      <td>121</td>\n",
       "    </tr>\n",
       "  </tbody>\n",
       "</table>\n",
       "</div>"
      ],
      "text/plain": [
       "            Passengers\n",
       "Month                 \n",
       "1949-01-01         112\n",
       "1949-02-01         118\n",
       "1949-03-01         132\n",
       "1949-04-01         129\n",
       "1949-05-01         121"
      ]
     },
     "execution_count": 43,
     "metadata": {},
     "output_type": "execute_result"
    }
   ],
   "source": [
    "air.head()"
   ]
  },
  {
   "cell_type": "code",
   "execution_count": 47,
   "metadata": {},
   "outputs": [],
   "source": [
    "# Create a column called `lag_1` that lags Passengers by one month.\n",
    "air['lag_1'] = air['Passengers'].shift(1)\n",
    "\n",
    "# Create a column called `lag_2` that lags Passengers by two months.\n",
    "air['lag_2'] = air['Passengers'].shift(2)\n",
    "\n",
    "# Create a column called `seasonal_12` that lags Passengers by one year.\n",
    "air['seasonal_12'] = air['Passengers'].shift(12)\n",
    "\n",
    "# Create a variable called `time` that takes on a value of 0 in January 1949,\n",
    "# then increases by 1 each month until the end of the dataframe.\n",
    "air['time'] = range(0, air.shape[0])"
   ]
  },
  {
   "cell_type": "code",
   "execution_count": 50,
   "metadata": {},
   "outputs": [
    {
     "data": {
      "text/html": [
       "<div>\n",
       "<style scoped>\n",
       "    .dataframe tbody tr th:only-of-type {\n",
       "        vertical-align: middle;\n",
       "    }\n",
       "\n",
       "    .dataframe tbody tr th {\n",
       "        vertical-align: top;\n",
       "    }\n",
       "\n",
       "    .dataframe thead th {\n",
       "        text-align: right;\n",
       "    }\n",
       "</style>\n",
       "<table border=\"1\" class=\"dataframe\">\n",
       "  <thead>\n",
       "    <tr style=\"text-align: right;\">\n",
       "      <th></th>\n",
       "      <th>Passengers</th>\n",
       "      <th>lag_1</th>\n",
       "      <th>lag_2</th>\n",
       "      <th>seasonal_12</th>\n",
       "      <th>time</th>\n",
       "    </tr>\n",
       "    <tr>\n",
       "      <th>Month</th>\n",
       "      <th></th>\n",
       "      <th></th>\n",
       "      <th></th>\n",
       "      <th></th>\n",
       "      <th></th>\n",
       "    </tr>\n",
       "  </thead>\n",
       "  <tbody>\n",
       "    <tr>\n",
       "      <th>1949-01-01</th>\n",
       "      <td>112</td>\n",
       "      <td>NaN</td>\n",
       "      <td>NaN</td>\n",
       "      <td>NaN</td>\n",
       "      <td>0</td>\n",
       "    </tr>\n",
       "    <tr>\n",
       "      <th>1949-02-01</th>\n",
       "      <td>118</td>\n",
       "      <td>112.0</td>\n",
       "      <td>NaN</td>\n",
       "      <td>NaN</td>\n",
       "      <td>1</td>\n",
       "    </tr>\n",
       "    <tr>\n",
       "      <th>1949-03-01</th>\n",
       "      <td>132</td>\n",
       "      <td>118.0</td>\n",
       "      <td>112.0</td>\n",
       "      <td>NaN</td>\n",
       "      <td>2</td>\n",
       "    </tr>\n",
       "    <tr>\n",
       "      <th>1949-04-01</th>\n",
       "      <td>129</td>\n",
       "      <td>132.0</td>\n",
       "      <td>118.0</td>\n",
       "      <td>NaN</td>\n",
       "      <td>3</td>\n",
       "    </tr>\n",
       "    <tr>\n",
       "      <th>1949-05-01</th>\n",
       "      <td>121</td>\n",
       "      <td>129.0</td>\n",
       "      <td>132.0</td>\n",
       "      <td>NaN</td>\n",
       "      <td>4</td>\n",
       "    </tr>\n",
       "    <tr>\n",
       "      <th>1949-06-01</th>\n",
       "      <td>135</td>\n",
       "      <td>121.0</td>\n",
       "      <td>129.0</td>\n",
       "      <td>NaN</td>\n",
       "      <td>5</td>\n",
       "    </tr>\n",
       "    <tr>\n",
       "      <th>1949-07-01</th>\n",
       "      <td>148</td>\n",
       "      <td>135.0</td>\n",
       "      <td>121.0</td>\n",
       "      <td>NaN</td>\n",
       "      <td>6</td>\n",
       "    </tr>\n",
       "    <tr>\n",
       "      <th>1949-08-01</th>\n",
       "      <td>148</td>\n",
       "      <td>148.0</td>\n",
       "      <td>135.0</td>\n",
       "      <td>NaN</td>\n",
       "      <td>7</td>\n",
       "    </tr>\n",
       "    <tr>\n",
       "      <th>1949-09-01</th>\n",
       "      <td>136</td>\n",
       "      <td>148.0</td>\n",
       "      <td>148.0</td>\n",
       "      <td>NaN</td>\n",
       "      <td>8</td>\n",
       "    </tr>\n",
       "    <tr>\n",
       "      <th>1949-10-01</th>\n",
       "      <td>119</td>\n",
       "      <td>136.0</td>\n",
       "      <td>148.0</td>\n",
       "      <td>NaN</td>\n",
       "      <td>9</td>\n",
       "    </tr>\n",
       "    <tr>\n",
       "      <th>1949-11-01</th>\n",
       "      <td>104</td>\n",
       "      <td>119.0</td>\n",
       "      <td>136.0</td>\n",
       "      <td>NaN</td>\n",
       "      <td>10</td>\n",
       "    </tr>\n",
       "    <tr>\n",
       "      <th>1949-12-01</th>\n",
       "      <td>118</td>\n",
       "      <td>104.0</td>\n",
       "      <td>119.0</td>\n",
       "      <td>NaN</td>\n",
       "      <td>11</td>\n",
       "    </tr>\n",
       "    <tr>\n",
       "      <th>1950-01-01</th>\n",
       "      <td>115</td>\n",
       "      <td>118.0</td>\n",
       "      <td>104.0</td>\n",
       "      <td>112.0</td>\n",
       "      <td>12</td>\n",
       "    </tr>\n",
       "    <tr>\n",
       "      <th>1950-02-01</th>\n",
       "      <td>126</td>\n",
       "      <td>115.0</td>\n",
       "      <td>118.0</td>\n",
       "      <td>118.0</td>\n",
       "      <td>13</td>\n",
       "    </tr>\n",
       "    <tr>\n",
       "      <th>1950-03-01</th>\n",
       "      <td>141</td>\n",
       "      <td>126.0</td>\n",
       "      <td>115.0</td>\n",
       "      <td>132.0</td>\n",
       "      <td>14</td>\n",
       "    </tr>\n",
       "  </tbody>\n",
       "</table>\n",
       "</div>"
      ],
      "text/plain": [
       "            Passengers  lag_1  lag_2  seasonal_12  time\n",
       "Month                                                  \n",
       "1949-01-01         112    NaN    NaN          NaN     0\n",
       "1949-02-01         118  112.0    NaN          NaN     1\n",
       "1949-03-01         132  118.0  112.0          NaN     2\n",
       "1949-04-01         129  132.0  118.0          NaN     3\n",
       "1949-05-01         121  129.0  132.0          NaN     4\n",
       "1949-06-01         135  121.0  129.0          NaN     5\n",
       "1949-07-01         148  135.0  121.0          NaN     6\n",
       "1949-08-01         148  148.0  135.0          NaN     7\n",
       "1949-09-01         136  148.0  148.0          NaN     8\n",
       "1949-10-01         119  136.0  148.0          NaN     9\n",
       "1949-11-01         104  119.0  136.0          NaN    10\n",
       "1949-12-01         118  104.0  119.0          NaN    11\n",
       "1950-01-01         115  118.0  104.0        112.0    12\n",
       "1950-02-01         126  115.0  118.0        118.0    13\n",
       "1950-03-01         141  126.0  115.0        132.0    14"
      ]
     },
     "execution_count": 50,
     "metadata": {},
     "output_type": "execute_result"
    }
   ],
   "source": [
    "# Confirm the top of our dataframe looks good.\n",
    "air.head(15)"
   ]
  },
  {
   "cell_type": "code",
   "execution_count": 52,
   "metadata": {},
   "outputs": [
    {
     "data": {
      "text/html": [
       "<div>\n",
       "<style scoped>\n",
       "    .dataframe tbody tr th:only-of-type {\n",
       "        vertical-align: middle;\n",
       "    }\n",
       "\n",
       "    .dataframe tbody tr th {\n",
       "        vertical-align: top;\n",
       "    }\n",
       "\n",
       "    .dataframe thead th {\n",
       "        text-align: right;\n",
       "    }\n",
       "</style>\n",
       "<table border=\"1\" class=\"dataframe\">\n",
       "  <thead>\n",
       "    <tr style=\"text-align: right;\">\n",
       "      <th></th>\n",
       "      <th>Passengers</th>\n",
       "      <th>lag_1</th>\n",
       "      <th>lag_2</th>\n",
       "      <th>seasonal_12</th>\n",
       "      <th>time</th>\n",
       "    </tr>\n",
       "    <tr>\n",
       "      <th>Month</th>\n",
       "      <th></th>\n",
       "      <th></th>\n",
       "      <th></th>\n",
       "      <th></th>\n",
       "      <th></th>\n",
       "    </tr>\n",
       "  </thead>\n",
       "  <tbody>\n",
       "    <tr>\n",
       "      <th>1959-10-01</th>\n",
       "      <td>407</td>\n",
       "      <td>463.0</td>\n",
       "      <td>559.0</td>\n",
       "      <td>359.0</td>\n",
       "      <td>129</td>\n",
       "    </tr>\n",
       "    <tr>\n",
       "      <th>1959-11-01</th>\n",
       "      <td>362</td>\n",
       "      <td>407.0</td>\n",
       "      <td>463.0</td>\n",
       "      <td>310.0</td>\n",
       "      <td>130</td>\n",
       "    </tr>\n",
       "    <tr>\n",
       "      <th>1959-12-01</th>\n",
       "      <td>405</td>\n",
       "      <td>362.0</td>\n",
       "      <td>407.0</td>\n",
       "      <td>337.0</td>\n",
       "      <td>131</td>\n",
       "    </tr>\n",
       "    <tr>\n",
       "      <th>1960-01-01</th>\n",
       "      <td>417</td>\n",
       "      <td>405.0</td>\n",
       "      <td>362.0</td>\n",
       "      <td>360.0</td>\n",
       "      <td>132</td>\n",
       "    </tr>\n",
       "    <tr>\n",
       "      <th>1960-02-01</th>\n",
       "      <td>391</td>\n",
       "      <td>417.0</td>\n",
       "      <td>405.0</td>\n",
       "      <td>342.0</td>\n",
       "      <td>133</td>\n",
       "    </tr>\n",
       "    <tr>\n",
       "      <th>1960-03-01</th>\n",
       "      <td>419</td>\n",
       "      <td>391.0</td>\n",
       "      <td>417.0</td>\n",
       "      <td>406.0</td>\n",
       "      <td>134</td>\n",
       "    </tr>\n",
       "    <tr>\n",
       "      <th>1960-04-01</th>\n",
       "      <td>461</td>\n",
       "      <td>419.0</td>\n",
       "      <td>391.0</td>\n",
       "      <td>396.0</td>\n",
       "      <td>135</td>\n",
       "    </tr>\n",
       "    <tr>\n",
       "      <th>1960-05-01</th>\n",
       "      <td>472</td>\n",
       "      <td>461.0</td>\n",
       "      <td>419.0</td>\n",
       "      <td>420.0</td>\n",
       "      <td>136</td>\n",
       "    </tr>\n",
       "    <tr>\n",
       "      <th>1960-06-01</th>\n",
       "      <td>535</td>\n",
       "      <td>472.0</td>\n",
       "      <td>461.0</td>\n",
       "      <td>472.0</td>\n",
       "      <td>137</td>\n",
       "    </tr>\n",
       "    <tr>\n",
       "      <th>1960-07-01</th>\n",
       "      <td>622</td>\n",
       "      <td>535.0</td>\n",
       "      <td>472.0</td>\n",
       "      <td>548.0</td>\n",
       "      <td>138</td>\n",
       "    </tr>\n",
       "    <tr>\n",
       "      <th>1960-08-01</th>\n",
       "      <td>606</td>\n",
       "      <td>622.0</td>\n",
       "      <td>535.0</td>\n",
       "      <td>559.0</td>\n",
       "      <td>139</td>\n",
       "    </tr>\n",
       "    <tr>\n",
       "      <th>1960-09-01</th>\n",
       "      <td>508</td>\n",
       "      <td>606.0</td>\n",
       "      <td>622.0</td>\n",
       "      <td>463.0</td>\n",
       "      <td>140</td>\n",
       "    </tr>\n",
       "    <tr>\n",
       "      <th>1960-10-01</th>\n",
       "      <td>461</td>\n",
       "      <td>508.0</td>\n",
       "      <td>606.0</td>\n",
       "      <td>407.0</td>\n",
       "      <td>141</td>\n",
       "    </tr>\n",
       "    <tr>\n",
       "      <th>1960-11-01</th>\n",
       "      <td>390</td>\n",
       "      <td>461.0</td>\n",
       "      <td>508.0</td>\n",
       "      <td>362.0</td>\n",
       "      <td>142</td>\n",
       "    </tr>\n",
       "    <tr>\n",
       "      <th>1960-12-01</th>\n",
       "      <td>432</td>\n",
       "      <td>390.0</td>\n",
       "      <td>461.0</td>\n",
       "      <td>405.0</td>\n",
       "      <td>143</td>\n",
       "    </tr>\n",
       "  </tbody>\n",
       "</table>\n",
       "</div>"
      ],
      "text/plain": [
       "            Passengers  lag_1  lag_2  seasonal_12  time\n",
       "Month                                                  \n",
       "1959-10-01         407  463.0  559.0        359.0   129\n",
       "1959-11-01         362  407.0  463.0        310.0   130\n",
       "1959-12-01         405  362.0  407.0        337.0   131\n",
       "1960-01-01         417  405.0  362.0        360.0   132\n",
       "1960-02-01         391  417.0  405.0        342.0   133\n",
       "1960-03-01         419  391.0  417.0        406.0   134\n",
       "1960-04-01         461  419.0  391.0        396.0   135\n",
       "1960-05-01         472  461.0  419.0        420.0   136\n",
       "1960-06-01         535  472.0  461.0        472.0   137\n",
       "1960-07-01         622  535.0  472.0        548.0   138\n",
       "1960-08-01         606  622.0  535.0        559.0   139\n",
       "1960-09-01         508  606.0  622.0        463.0   140\n",
       "1960-10-01         461  508.0  606.0        407.0   141\n",
       "1960-11-01         390  461.0  508.0        362.0   142\n",
       "1960-12-01         432  390.0  461.0        405.0   143"
      ]
     },
     "execution_count": 52,
     "metadata": {},
     "output_type": "execute_result"
    }
   ],
   "source": [
    "# Confirm the bottom of our dataframe looks good.\n",
    "air.tail(15)"
   ]
  },
  {
   "cell_type": "markdown",
   "metadata": {},
   "source": [
    "## Train-Test Split\n",
    "\n",
    "Before building a model, we should split our data up into a training and testing set.\n",
    "\n",
    "Since our goal with time series models is almost always to forecast values forward in time, the idea with a time series train/test split is to train on earlier data and test/evaluate on later data.\n",
    "\n",
    "Most commonly, we'll set our:\n",
    "- training set to be the \"first\" 67% - 80% of our data timewise.\n",
    "- test set be the \"last\" 20% - 33% timewise.\n",
    "\n",
    "Let's split our dataframe by taking the first 80% of rows for training and the rest for testing."
   ]
  },
  {
   "cell_type": "code",
   "execution_count": null,
   "metadata": {},
   "outputs": [],
   "source": [
    "y.val"
   ]
  },
  {
   "cell_type": "code",
   "execution_count": 55,
   "metadata": {},
   "outputs": [],
   "source": [
    "X = air.drop(columns=[\"Passengers\"])\n",
    "y = air[\"Passengers\"]\n",
    "\n",
    "# Generate train/test split.\n",
    "# We don't want our data to be randomly shuffled - we want to keep the order!\n",
    "X_train, X_test, y_train, y_test = train_test_split(X, y, shuffle=False,\n",
    "                                    test_size = 0.2)"
   ]
  },
  {
   "cell_type": "code",
   "execution_count": 58,
   "metadata": {},
   "outputs": [
    {
     "name": "stdout",
     "output_type": "stream",
     "text": [
      "(115, 4)\n",
      "(29, 4)\n",
      "(115,)\n",
      "(29,)\n"
     ]
    }
   ],
   "source": [
    "# Check shape to confirm we did this properly.\n",
    "print(X_train.shape)\n",
    "print(X_test.shape)\n",
    "print(y_train.shape)\n",
    "print(y_test.shape)"
   ]
  },
  {
   "cell_type": "markdown",
   "metadata": {},
   "source": [
    "## Fit a linear model."
   ]
  },
  {
   "cell_type": "code",
   "execution_count": 59,
   "metadata": {},
   "outputs": [],
   "source": [
    "# Import statsmodels.\n",
    "import statsmodels.api as sm"
   ]
  },
  {
   "cell_type": "code",
   "execution_count": 63,
   "metadata": {},
   "outputs": [
    {
     "data": {
      "text/html": [
       "<div>\n",
       "<style scoped>\n",
       "    .dataframe tbody tr th:only-of-type {\n",
       "        vertical-align: middle;\n",
       "    }\n",
       "\n",
       "    .dataframe tbody tr th {\n",
       "        vertical-align: top;\n",
       "    }\n",
       "\n",
       "    .dataframe thead th {\n",
       "        text-align: right;\n",
       "    }\n",
       "</style>\n",
       "<table border=\"1\" class=\"dataframe\">\n",
       "  <thead>\n",
       "    <tr style=\"text-align: right;\">\n",
       "      <th></th>\n",
       "      <th>const</th>\n",
       "      <th>lag_1</th>\n",
       "      <th>lag_2</th>\n",
       "      <th>seasonal_12</th>\n",
       "      <th>time</th>\n",
       "    </tr>\n",
       "    <tr>\n",
       "      <th>Month</th>\n",
       "      <th></th>\n",
       "      <th></th>\n",
       "      <th></th>\n",
       "      <th></th>\n",
       "      <th></th>\n",
       "    </tr>\n",
       "  </thead>\n",
       "  <tbody>\n",
       "    <tr>\n",
       "      <th>1950-01-01</th>\n",
       "      <td>1.0</td>\n",
       "      <td>118.0</td>\n",
       "      <td>104.0</td>\n",
       "      <td>112.0</td>\n",
       "      <td>12</td>\n",
       "    </tr>\n",
       "    <tr>\n",
       "      <th>1950-02-01</th>\n",
       "      <td>1.0</td>\n",
       "      <td>115.0</td>\n",
       "      <td>118.0</td>\n",
       "      <td>118.0</td>\n",
       "      <td>13</td>\n",
       "    </tr>\n",
       "    <tr>\n",
       "      <th>1950-03-01</th>\n",
       "      <td>1.0</td>\n",
       "      <td>126.0</td>\n",
       "      <td>115.0</td>\n",
       "      <td>132.0</td>\n",
       "      <td>14</td>\n",
       "    </tr>\n",
       "    <tr>\n",
       "      <th>1950-04-01</th>\n",
       "      <td>1.0</td>\n",
       "      <td>141.0</td>\n",
       "      <td>126.0</td>\n",
       "      <td>129.0</td>\n",
       "      <td>15</td>\n",
       "    </tr>\n",
       "    <tr>\n",
       "      <th>1950-05-01</th>\n",
       "      <td>1.0</td>\n",
       "      <td>135.0</td>\n",
       "      <td>141.0</td>\n",
       "      <td>121.0</td>\n",
       "      <td>16</td>\n",
       "    </tr>\n",
       "  </tbody>\n",
       "</table>\n",
       "</div>"
      ],
      "text/plain": [
       "            const  lag_1  lag_2  seasonal_12  time\n",
       "Month                                             \n",
       "1950-01-01    1.0  118.0  104.0        112.0    12\n",
       "1950-02-01    1.0  115.0  118.0        118.0    13\n",
       "1950-03-01    1.0  126.0  115.0        132.0    14\n",
       "1950-04-01    1.0  141.0  126.0        129.0    15\n",
       "1950-05-01    1.0  135.0  141.0        121.0    16"
      ]
     },
     "execution_count": 63,
     "metadata": {},
     "output_type": "execute_result"
    }
   ],
   "source": [
    "# Before fitting a model in statsmodels, what do we need\n",
    "# to do? (Hint: Think intercept.)\n",
    "X_train = sm.add_constant(X_train)\n",
    "\n",
    "# Confirm.\n",
    "X_train.head()"
   ]
  },
  {
   "cell_type": "code",
   "execution_count": 64,
   "metadata": {},
   "outputs": [
    {
     "name": "stdout",
     "output_type": "stream",
     "text": [
      "(103, 5)\n"
     ]
    }
   ],
   "source": [
    "# statsmodels won't be able to handle missing values.\n",
    "## Drop NAs from X_train\n",
    "\n",
    "\n",
    "## Change y_train to match the remaining X_train indices\n",
    "\n",
    "X_train = X_train.dropna()\n",
    "\n",
    "y_train = y_train[X_train.index]\n",
    "# This way we subset y_train to keep only indices from X_train.\n",
    "\n",
    "\n",
    "print(X_train.shape)"
   ]
  },
  {
   "cell_type": "code",
   "execution_count": 67,
   "metadata": {},
   "outputs": [],
   "source": [
    "# Remember that, in statsmodels, we pass our data \n",
    "# in when we instantiate the model!\n",
    "\n",
    "lm = sm.OLS(y_train, X_train)"
   ]
  },
  {
   "cell_type": "code",
   "execution_count": 71,
   "metadata": {},
   "outputs": [],
   "source": [
    "# Then we fit our model.\n",
    "lm_results = lm.fit()"
   ]
  },
  {
   "cell_type": "code",
   "execution_count": 72,
   "metadata": {},
   "outputs": [
    {
     "name": "stdout",
     "output_type": "stream",
     "text": [
      "                            OLS Regression Results                            \n",
      "==============================================================================\n",
      "Dep. Variable:             Passengers   R-squared:                       0.978\n",
      "Model:                            OLS   Adj. R-squared:                  0.977\n",
      "Method:                 Least Squares   F-statistic:                     1099.\n",
      "Date:                Sat, 26 Mar 2022   Prob (F-statistic):           1.88e-80\n",
      "Time:                        16:08:17   Log-Likelihood:                -408.95\n",
      "No. Observations:                 103   AIC:                             827.9\n",
      "Df Residuals:                      98   BIC:                             841.1\n",
      "Df Model:                           4                                         \n",
      "Covariance Type:            nonrobust                                         \n",
      "===============================================================================\n",
      "                  coef    std err          t      P>|t|      [0.025      0.975]\n",
      "-------------------------------------------------------------------------------\n",
      "const           7.5457      4.913      1.536      0.128      -2.204      17.295\n",
      "lag_1           0.3183      0.073      4.381      0.000       0.174       0.462\n",
      "lag_2          -0.0740      0.059     -1.258      0.211      -0.191       0.043\n",
      "seasonal_12     0.8381      0.057     14.798      0.000       0.726       0.951\n",
      "time           -0.0534      0.135     -0.395      0.694      -0.322       0.215\n",
      "==============================================================================\n",
      "Omnibus:                        0.977   Durbin-Watson:                   0.972\n",
      "Prob(Omnibus):                  0.614   Jarque-Bera (JB):                0.546\n",
      "Skew:                          -0.137   Prob(JB):                        0.761\n",
      "Kurtosis:                       3.229   Cond. No.                     1.68e+03\n",
      "==============================================================================\n",
      "\n",
      "Notes:\n",
      "[1] Standard Errors assume that the covariance matrix of the errors is correctly specified.\n",
      "[2] The condition number is large, 1.68e+03. This might indicate that there are\n",
      "strong multicollinearity or other numerical problems.\n"
     ]
    }
   ],
   "source": [
    "# Display our summary!\n",
    "print(lm_results.summary())"
   ]
  },
  {
   "cell_type": "code",
   "execution_count": 79,
   "metadata": {},
   "outputs": [],
   "source": [
    "# Add an intercept to X_test\n",
    "X_test = sm.add_constant(X_test)"
   ]
  },
  {
   "cell_type": "code",
   "execution_count": 81,
   "metadata": {},
   "outputs": [],
   "source": [
    "# Generate predicted test values.\n",
    "preds = lm.predict(X_test, y_test)"
   ]
  },
  {
   "cell_type": "code",
   "execution_count": 82,
   "metadata": {},
   "outputs": [],
   "source": [
    "# Import R2 score and MSE.\n",
    "from sklearn.metrics import r2_score, mean_squared_error"
   ]
  },
  {
   "cell_type": "code",
   "execution_count": 83,
   "metadata": {},
   "outputs": [
    {
     "ename": "ValueError",
     "evalue": "Found input variables with inconsistent numbers of samples: [29, 5]",
     "output_type": "error",
     "traceback": [
      "\u001b[0;31m---------------------------------------------------------------------------\u001b[0m",
      "\u001b[0;31mValueError\u001b[0m                                Traceback (most recent call last)",
      "\u001b[0;32m/var/folders/85/gfsz06392cx1589spz1jvvtc0000gn/T/ipykernel_8602/2184689774.py\u001b[0m in \u001b[0;36m<module>\u001b[0;34m\u001b[0m\n\u001b[1;32m      1\u001b[0m \u001b[0;31m# Calculate R2 score.\u001b[0m\u001b[0;34m\u001b[0m\u001b[0;34m\u001b[0m\u001b[0;34m\u001b[0m\u001b[0m\n\u001b[0;32m----> 2\u001b[0;31m \u001b[0mr2_score\u001b[0m\u001b[0;34m(\u001b[0m\u001b[0my_test\u001b[0m\u001b[0;34m,\u001b[0m \u001b[0mpreds\u001b[0m\u001b[0;34m)\u001b[0m\u001b[0;34m\u001b[0m\u001b[0;34m\u001b[0m\u001b[0m\n\u001b[0m",
      "\u001b[0;32m~/opt/miniconda3/lib/python3.9/site-packages/sklearn/metrics/_regression.py\u001b[0m in \u001b[0;36mr2_score\u001b[0;34m(y_true, y_pred, sample_weight, multioutput)\u001b[0m\n\u001b[1;32m    772\u001b[0m     \u001b[0;34m-\u001b[0m\u001b[0;36m3.0\u001b[0m\u001b[0;34m\u001b[0m\u001b[0;34m\u001b[0m\u001b[0m\n\u001b[1;32m    773\u001b[0m     \"\"\"\n\u001b[0;32m--> 774\u001b[0;31m     y_type, y_true, y_pred, multioutput = _check_reg_targets(\n\u001b[0m\u001b[1;32m    775\u001b[0m         \u001b[0my_true\u001b[0m\u001b[0;34m,\u001b[0m \u001b[0my_pred\u001b[0m\u001b[0;34m,\u001b[0m \u001b[0mmultioutput\u001b[0m\u001b[0;34m\u001b[0m\u001b[0;34m\u001b[0m\u001b[0m\n\u001b[1;32m    776\u001b[0m     )\n",
      "\u001b[0;32m~/opt/miniconda3/lib/python3.9/site-packages/sklearn/metrics/_regression.py\u001b[0m in \u001b[0;36m_check_reg_targets\u001b[0;34m(y_true, y_pred, multioutput, dtype)\u001b[0m\n\u001b[1;32m     87\u001b[0m         \u001b[0mthe\u001b[0m \u001b[0mdtype\u001b[0m \u001b[0margument\u001b[0m \u001b[0mpassed\u001b[0m \u001b[0mto\u001b[0m \u001b[0mcheck_array\u001b[0m\u001b[0;34m.\u001b[0m\u001b[0;34m\u001b[0m\u001b[0;34m\u001b[0m\u001b[0m\n\u001b[1;32m     88\u001b[0m     \"\"\"\n\u001b[0;32m---> 89\u001b[0;31m     \u001b[0mcheck_consistent_length\u001b[0m\u001b[0;34m(\u001b[0m\u001b[0my_true\u001b[0m\u001b[0;34m,\u001b[0m \u001b[0my_pred\u001b[0m\u001b[0;34m)\u001b[0m\u001b[0;34m\u001b[0m\u001b[0;34m\u001b[0m\u001b[0m\n\u001b[0m\u001b[1;32m     90\u001b[0m     \u001b[0my_true\u001b[0m \u001b[0;34m=\u001b[0m \u001b[0mcheck_array\u001b[0m\u001b[0;34m(\u001b[0m\u001b[0my_true\u001b[0m\u001b[0;34m,\u001b[0m \u001b[0mensure_2d\u001b[0m\u001b[0;34m=\u001b[0m\u001b[0;32mFalse\u001b[0m\u001b[0;34m,\u001b[0m \u001b[0mdtype\u001b[0m\u001b[0;34m=\u001b[0m\u001b[0mdtype\u001b[0m\u001b[0;34m)\u001b[0m\u001b[0;34m\u001b[0m\u001b[0;34m\u001b[0m\u001b[0m\n\u001b[1;32m     91\u001b[0m     \u001b[0my_pred\u001b[0m \u001b[0;34m=\u001b[0m \u001b[0mcheck_array\u001b[0m\u001b[0;34m(\u001b[0m\u001b[0my_pred\u001b[0m\u001b[0;34m,\u001b[0m \u001b[0mensure_2d\u001b[0m\u001b[0;34m=\u001b[0m\u001b[0;32mFalse\u001b[0m\u001b[0;34m,\u001b[0m \u001b[0mdtype\u001b[0m\u001b[0;34m=\u001b[0m\u001b[0mdtype\u001b[0m\u001b[0;34m)\u001b[0m\u001b[0;34m\u001b[0m\u001b[0;34m\u001b[0m\u001b[0m\n",
      "\u001b[0;32m~/opt/miniconda3/lib/python3.9/site-packages/sklearn/utils/validation.py\u001b[0m in \u001b[0;36mcheck_consistent_length\u001b[0;34m(*arrays)\u001b[0m\n\u001b[1;32m    329\u001b[0m     \u001b[0muniques\u001b[0m \u001b[0;34m=\u001b[0m \u001b[0mnp\u001b[0m\u001b[0;34m.\u001b[0m\u001b[0munique\u001b[0m\u001b[0;34m(\u001b[0m\u001b[0mlengths\u001b[0m\u001b[0;34m)\u001b[0m\u001b[0;34m\u001b[0m\u001b[0;34m\u001b[0m\u001b[0m\n\u001b[1;32m    330\u001b[0m     \u001b[0;32mif\u001b[0m \u001b[0mlen\u001b[0m\u001b[0;34m(\u001b[0m\u001b[0muniques\u001b[0m\u001b[0;34m)\u001b[0m \u001b[0;34m>\u001b[0m \u001b[0;36m1\u001b[0m\u001b[0;34m:\u001b[0m\u001b[0;34m\u001b[0m\u001b[0;34m\u001b[0m\u001b[0m\n\u001b[0;32m--> 331\u001b[0;31m         raise ValueError(\n\u001b[0m\u001b[1;32m    332\u001b[0m             \u001b[0;34m\"Found input variables with inconsistent numbers of samples: %r\"\u001b[0m\u001b[0;34m\u001b[0m\u001b[0;34m\u001b[0m\u001b[0m\n\u001b[1;32m    333\u001b[0m             \u001b[0;34m%\u001b[0m \u001b[0;34m[\u001b[0m\u001b[0mint\u001b[0m\u001b[0;34m(\u001b[0m\u001b[0ml\u001b[0m\u001b[0;34m)\u001b[0m \u001b[0;32mfor\u001b[0m \u001b[0ml\u001b[0m \u001b[0;32min\u001b[0m \u001b[0mlengths\u001b[0m\u001b[0;34m]\u001b[0m\u001b[0;34m\u001b[0m\u001b[0;34m\u001b[0m\u001b[0m\n",
      "\u001b[0;31mValueError\u001b[0m: Found input variables with inconsistent numbers of samples: [29, 5]"
     ]
    }
   ],
   "source": [
    "# Calculate R2 score.\n",
    "r2_score(y_test, preds)"
   ]
  },
  {
   "cell_type": "code",
   "execution_count": 84,
   "metadata": {},
   "outputs": [
    {
     "ename": "ValueError",
     "evalue": "Found input variables with inconsistent numbers of samples: [29, 5]",
     "output_type": "error",
     "traceback": [
      "\u001b[0;31m---------------------------------------------------------------------------\u001b[0m",
      "\u001b[0;31mValueError\u001b[0m                                Traceback (most recent call last)",
      "\u001b[0;32m/var/folders/85/gfsz06392cx1589spz1jvvtc0000gn/T/ipykernel_8602/3989827037.py\u001b[0m in \u001b[0;36m<module>\u001b[0;34m\u001b[0m\n\u001b[1;32m      1\u001b[0m \u001b[0;31m# Calculate RMSE.\u001b[0m\u001b[0;34m\u001b[0m\u001b[0;34m\u001b[0m\u001b[0;34m\u001b[0m\u001b[0m\n\u001b[0;32m----> 2\u001b[0;31m \u001b[0mmean_squared_error\u001b[0m\u001b[0;34m(\u001b[0m\u001b[0my_test\u001b[0m\u001b[0;34m,\u001b[0m \u001b[0mpreds\u001b[0m\u001b[0;34m)\u001b[0m \u001b[0;34m**\u001b[0m \u001b[0;36m0.5\u001b[0m\u001b[0;34m\u001b[0m\u001b[0;34m\u001b[0m\u001b[0m\n\u001b[0m",
      "\u001b[0;32m~/opt/miniconda3/lib/python3.9/site-packages/sklearn/metrics/_regression.py\u001b[0m in \u001b[0;36mmean_squared_error\u001b[0;34m(y_true, y_pred, sample_weight, multioutput, squared)\u001b[0m\n\u001b[1;32m    421\u001b[0m     \u001b[0;36m0.825\u001b[0m\u001b[0;34m...\u001b[0m\u001b[0;34m\u001b[0m\u001b[0;34m\u001b[0m\u001b[0m\n\u001b[1;32m    422\u001b[0m     \"\"\"\n\u001b[0;32m--> 423\u001b[0;31m     y_type, y_true, y_pred, multioutput = _check_reg_targets(\n\u001b[0m\u001b[1;32m    424\u001b[0m         \u001b[0my_true\u001b[0m\u001b[0;34m,\u001b[0m \u001b[0my_pred\u001b[0m\u001b[0;34m,\u001b[0m \u001b[0mmultioutput\u001b[0m\u001b[0;34m\u001b[0m\u001b[0;34m\u001b[0m\u001b[0m\n\u001b[1;32m    425\u001b[0m     )\n",
      "\u001b[0;32m~/opt/miniconda3/lib/python3.9/site-packages/sklearn/metrics/_regression.py\u001b[0m in \u001b[0;36m_check_reg_targets\u001b[0;34m(y_true, y_pred, multioutput, dtype)\u001b[0m\n\u001b[1;32m     87\u001b[0m         \u001b[0mthe\u001b[0m \u001b[0mdtype\u001b[0m \u001b[0margument\u001b[0m \u001b[0mpassed\u001b[0m \u001b[0mto\u001b[0m \u001b[0mcheck_array\u001b[0m\u001b[0;34m.\u001b[0m\u001b[0;34m\u001b[0m\u001b[0;34m\u001b[0m\u001b[0m\n\u001b[1;32m     88\u001b[0m     \"\"\"\n\u001b[0;32m---> 89\u001b[0;31m     \u001b[0mcheck_consistent_length\u001b[0m\u001b[0;34m(\u001b[0m\u001b[0my_true\u001b[0m\u001b[0;34m,\u001b[0m \u001b[0my_pred\u001b[0m\u001b[0;34m)\u001b[0m\u001b[0;34m\u001b[0m\u001b[0;34m\u001b[0m\u001b[0m\n\u001b[0m\u001b[1;32m     90\u001b[0m     \u001b[0my_true\u001b[0m \u001b[0;34m=\u001b[0m \u001b[0mcheck_array\u001b[0m\u001b[0;34m(\u001b[0m\u001b[0my_true\u001b[0m\u001b[0;34m,\u001b[0m \u001b[0mensure_2d\u001b[0m\u001b[0;34m=\u001b[0m\u001b[0;32mFalse\u001b[0m\u001b[0;34m,\u001b[0m \u001b[0mdtype\u001b[0m\u001b[0;34m=\u001b[0m\u001b[0mdtype\u001b[0m\u001b[0;34m)\u001b[0m\u001b[0;34m\u001b[0m\u001b[0;34m\u001b[0m\u001b[0m\n\u001b[1;32m     91\u001b[0m     \u001b[0my_pred\u001b[0m \u001b[0;34m=\u001b[0m \u001b[0mcheck_array\u001b[0m\u001b[0;34m(\u001b[0m\u001b[0my_pred\u001b[0m\u001b[0;34m,\u001b[0m \u001b[0mensure_2d\u001b[0m\u001b[0;34m=\u001b[0m\u001b[0;32mFalse\u001b[0m\u001b[0;34m,\u001b[0m \u001b[0mdtype\u001b[0m\u001b[0;34m=\u001b[0m\u001b[0mdtype\u001b[0m\u001b[0;34m)\u001b[0m\u001b[0;34m\u001b[0m\u001b[0;34m\u001b[0m\u001b[0m\n",
      "\u001b[0;32m~/opt/miniconda3/lib/python3.9/site-packages/sklearn/utils/validation.py\u001b[0m in \u001b[0;36mcheck_consistent_length\u001b[0;34m(*arrays)\u001b[0m\n\u001b[1;32m    329\u001b[0m     \u001b[0muniques\u001b[0m \u001b[0;34m=\u001b[0m \u001b[0mnp\u001b[0m\u001b[0;34m.\u001b[0m\u001b[0munique\u001b[0m\u001b[0;34m(\u001b[0m\u001b[0mlengths\u001b[0m\u001b[0;34m)\u001b[0m\u001b[0;34m\u001b[0m\u001b[0;34m\u001b[0m\u001b[0m\n\u001b[1;32m    330\u001b[0m     \u001b[0;32mif\u001b[0m \u001b[0mlen\u001b[0m\u001b[0;34m(\u001b[0m\u001b[0muniques\u001b[0m\u001b[0;34m)\u001b[0m \u001b[0;34m>\u001b[0m \u001b[0;36m1\u001b[0m\u001b[0;34m:\u001b[0m\u001b[0;34m\u001b[0m\u001b[0;34m\u001b[0m\u001b[0m\n\u001b[0;32m--> 331\u001b[0;31m         raise ValueError(\n\u001b[0m\u001b[1;32m    332\u001b[0m             \u001b[0;34m\"Found input variables with inconsistent numbers of samples: %r\"\u001b[0m\u001b[0;34m\u001b[0m\u001b[0;34m\u001b[0m\u001b[0m\n\u001b[1;32m    333\u001b[0m             \u001b[0;34m%\u001b[0m \u001b[0;34m[\u001b[0m\u001b[0mint\u001b[0m\u001b[0;34m(\u001b[0m\u001b[0ml\u001b[0m\u001b[0;34m)\u001b[0m \u001b[0;32mfor\u001b[0m \u001b[0ml\u001b[0m \u001b[0;32min\u001b[0m \u001b[0mlengths\u001b[0m\u001b[0;34m]\u001b[0m\u001b[0;34m\u001b[0m\u001b[0;34m\u001b[0m\u001b[0m\n",
      "\u001b[0;31mValueError\u001b[0m: Found input variables with inconsistent numbers of samples: [29, 5]"
     ]
    }
   ],
   "source": [
    "# Calculate RMSE.\n",
    "mean_squared_error(y_test, preds) ** 0.5"
   ]
  },
  {
   "cell_type": "code",
   "execution_count": 85,
   "metadata": {},
   "outputs": [
    {
     "data": {
      "image/png": "[encoded data removed]",
      "text/plain": [
       "<Figure size 1440x720 with 1 Axes>"
      ]
     },
     "metadata": {
      "needs_background": "light"
     },
     "output_type": "display_data"
    }
   ],
   "source": [
    "# Let's plot our predictions! \n",
    "\n",
    "# Set figure size.\n",
    "plt.figure(figsize=(20,10))\n",
    "\n",
    "# Plot training data.\n",
    "plt.plot(y_train.index, y_train.values, color = 'blue')\n",
    "\n",
    "# Plot testing data.\n",
    "plt.plot(y_test.index, y_test.values, color = 'orange')\n",
    "\n",
    "# Plot predicted test values.\n",
    "plt.plot(lm_results.predict(X_test), color = 'green')\n",
    "\n",
    "# Set label.\n",
    "plt.title(label = 'Forecasting Airline Passengers 1958-1961', fontsize=24)\n",
    "\n",
    "# Resize tick marks.\n",
    "plt.xticks(fontsize=20)\n",
    "plt.yticks(fontsize=20);"
   ]
  },
  {
   "cell_type": "markdown",
   "metadata": {},
   "source": [
    "### Learning Objectives \n",
    "_By the end of the lesson, students should be able to:_\n",
    "- Define forecasting.\n",
    "- Define and identify trend and seasonality in time series data.\n",
    "- Define and calculate autocorrelation manually.\n",
    "- Generate and interpret a seasonal decomposition plot.\n",
    "- Generate and interpret an autocorrelation plot.\n",
    "- Generate and interpret a partial autocorrelation plot.\n",
    "- Properly fit, generate predictions from, and evaluate a linear time series model."
   ]
  },
  {
   "cell_type": "code",
   "execution_count": 86,
   "metadata": {},
   "outputs": [],
   "source": [
    "accounts = [[1,2,3], [2,3,4]]"
   ]
  },
  {
   "cell_type": "code",
   "execution_count": 92,
   "metadata": {},
   "outputs": [
    {
     "data": {
      "text/plain": [
       "9"
      ]
     },
     "execution_count": 92,
     "metadata": {},
     "output_type": "execute_result"
    }
   ],
   "source": [
    "max([sum(accounts[x]) for x in range(len(accounts))])"
   ]
  },
  {
   "cell_type": "code",
   "execution_count": null,
   "metadata": {},
   "outputs": [],
   "source": [
    "class Solution(object):\n",
    "    def maximumWealth(self, accounts):\n",
    "        \"\"\"\n",
    "        :type accounts: List[List[int]]\n",
    "        :rtype: int\n",
    "        \"\"\"\n",
    "        return [sum(accounts[x]) for x in range(len(accounts))]\n",
    "\n",
    "         wealth = []\n",
    "        for i in range(len(accounts)):\n",
    "            wealth.append(sum(accounts[i]))\n",
    "        \n",
    "        return max(wealth)"
   ]
  },
  {
   "cell_type": "code",
   "execution_count": 122,
   "metadata": {},
   "outputs": [],
   "source": [
    "word1 = \"a\"\n",
    "word2 = \"aa\""
   ]
  },
  {
   "cell_type": "code",
   "execution_count": 123,
   "metadata": {},
   "outputs": [
    {
     "data": {
      "text/plain": [
       "set()"
      ]
     },
     "execution_count": 123,
     "metadata": {},
     "output_type": "execute_result"
    }
   ],
   "source": [
    "set(word1) - set(word2)"
   ]
  },
  {
   "cell_type": "code",
   "execution_count": 127,
   "metadata": {},
   "outputs": [
    {
     "ename": "NameError",
     "evalue": "name 'counter' is not defined",
     "output_type": "error",
     "traceback": [
      "\u001b[0;31m---------------------------------------------------------------------------\u001b[0m",
      "\u001b[0;31mNameError\u001b[0m                                 Traceback (most recent call last)",
      "\u001b[0;32m/var/folders/85/gfsz06392cx1589spz1jvvtc0000gn/T/ipykernel_8602/28271317.py\u001b[0m in \u001b[0;36m<module>\u001b[0;34m\u001b[0m\n\u001b[0;32m----> 1\u001b[0;31m \u001b[0mcounter\u001b[0m\u001b[0;34m(\u001b[0m\u001b[0mword1\u001b[0m\u001b[0;34m)\u001b[0m\u001b[0;34m\u001b[0m\u001b[0;34m\u001b[0m\u001b[0m\n\u001b[0m",
      "\u001b[0;31mNameError\u001b[0m: name 'counter' is not defined"
     ]
    }
   ],
   "source": [
    "counter(word1)"
   ]
  },
  {
   "cell_type": "code",
   "execution_count": 128,
   "metadata": {},
   "outputs": [],
   "source": [
    "from collections import Counter\n"
   ]
  },
  {
   "cell_type": "code",
   "execution_count": 126,
   "metadata": {},
   "outputs": [
    {
     "data": {
      "text/plain": [
       "(1, 2)"
      ]
     },
     "execution_count": 126,
     "metadata": {},
     "output_type": "execute_result"
    }
   ],
   "source": [
    "l1, l2 = len(word1), len(word2)\n",
    "l1, l2"
   ]
  },
  {
   "cell_type": "code",
   "execution_count": 137,
   "metadata": {},
   "outputs": [
    {
     "data": {
      "text/plain": [
       "dict_keys(['a'])"
      ]
     },
     "execution_count": 137,
     "metadata": {},
     "output_type": "execute_result"
    }
   ],
   "source": [
    "w1 = Counter(word1)\n",
    "\n",
    "w1.keys()"
   ]
  },
  {
   "cell_type": "code",
   "execution_count": 120,
   "metadata": {},
   "outputs": [],
   "source": [
    "def words(word1, word2):\n",
    "    l1, l2 = len(word1), len(word 2)\n",
    "    \n",
    "    if l1 != l2:\n",
    "        return False\n",
    "    \n",
    "    "
   ]
  },
  {
   "cell_type": "code",
   "execution_count": 121,
   "metadata": {},
   "outputs": [
    {
     "data": {
      "text/plain": [
       "True"
      ]
     },
     "execution_count": 121,
     "metadata": {},
     "output_type": "execute_result"
    }
   ],
   "source": [
    "words( \"cabbba\", \"abbccc\" )"
   ]
  },
  {
   "cell_type": "code",
   "execution_count": null,
   "metadata": {},
   "outputs": [],
   "source": []
  }
 ],
 "metadata": {
  "kernelspec": {
   "display_name": "Python 3 (ipykernel)",
   "language": "python",
   "name": "python3"
  },
  "language_info": {
   "codemirror_mode": {
    "name": "ipython",
    "version": 3
   },
   "file_extension": ".py",
   "mimetype": "text/x-python",
   "name": "python",
   "nbconvert_exporter": "python",
   "pygments_lexer": "ipython3",
   "version": "3.9.5"
  }
 },
 "nbformat": 4,
 "nbformat_minor": 4
}
