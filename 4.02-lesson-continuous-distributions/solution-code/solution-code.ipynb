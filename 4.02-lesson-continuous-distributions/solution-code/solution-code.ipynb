{
 "cells": [
  {
   "cell_type": "markdown",
   "metadata": {},
   "source": [
    "<img src=\"https://ga-dash.s3.amazonaws.com/production/assets/logo-9f88ae6c9c3871690e33280fcf557f33.png\" style=\"float: left; margin: 15px;\">\n",
    "\n",
    "## Continuous Probability Distributions"
   ]
  },
  {
   "cell_type": "markdown",
   "metadata": {},
   "source": [
    "## LEARNING OBJECTIVES\n",
    "By the end of this lesson, students should be able to:\n",
    "- Give examples of the following distributions: Continuous Uniform, Exponential, Normal, Beta.\n",
    "- Describe why the Normal distribution is seen everywhere.\n",
    "- State the Central Limit Theorem."
   ]
  },
  {
   "cell_type": "markdown",
   "metadata": {},
   "source": [
    "## Recap\n"
   ]
  },
  {
   "cell_type": "markdown",
   "metadata": {},
   "source": [
    "**Check**: What is a distribution?\n",
    "<details><summary>Answer</summary>\n",
    "\n",
    "- A distribution is the set of all values of a variable and how frequently we observe each value.\n",
    "</details>"
   ]
  },
  {
   "cell_type": "markdown",
   "metadata": {},
   "source": [
    "**Check**: What is the difference between a continuous random variable and discrete random variable?\n",
    "<details><summary>Answer</summary>\n",
    "    \n",
    "- A continuous random variable takes on an uncountably infinite number of values. \n",
    "- A discrete random variable takes on a countable number of values.\n",
    "</details>"
   ]
  },
  {
   "cell_type": "markdown",
   "metadata": {},
   "source": [
    "**(BONUS) Check**: Describe these distributions:\n",
    "- Discrete Uniform\n",
    "- Bernoulli\n",
    "- Binomial\n",
    "- Poisson\n",
    "\n",
    "<details><summary>Answer</summary>\n",
    "\n",
    "- A discrete uniform distribution takes on a range of values that are all equally likely. \n",
    "    -  Example: the value from rolling one die.\n",
    "- A Bernoulli distribution has two outcomes, usually called \"success\" and \"failure.\" The only parameter is the probability of success $p$.\n",
    "    - Example: the number of heads flipped when flipping one coin.\n",
    "- A Binomial distribution counts the number of successes we observe in a fixed number of $n$ independent Bernoulli trials. \n",
    "    - Example: the number of heads flipped when flipping fifty coins.\n",
    "- A Poisson distribution counts the number of successes we observe in a fixed ~amount of time~ **_INTERVAL_**.\n",
    "    - Example: the number of cars that enter a toll road in an hour.\n",
    "    - Example: the number of people in a U.S. household.\n",
    "</details>"
   ]
  },
  {
   "cell_type": "markdown",
   "metadata": {},
   "source": [
    "![](images/box-quote.jpg)"
   ]
  },
  {
   "cell_type": "markdown",
   "metadata": {},
   "source": [
    "Earlier, we spoke about the **discrete uniform** distribution, where each outcome is equally likely.\n",
    "\n",
    "This is the **probability mass function** of a discrete uniform.\n",
    "- Remember that a probability mass function shows us the probability that our random variable takes on a specific value.\n",
    "\n",
    "<img src=\"./images/discrete_uniform_pmf.png\" alt=\"discrete uniform pmf\" width=\"700\"/>\n",
    "\n",
    "This is the **cumulative distribution function** of a discrete uniform.\n",
    "- Remember that a cumulative distribution function shows us the probability that our random variable takes on any value less than or equal to a specific value.\n",
    "\n",
    "<img src=\"./images/discrete_uniform_cdf.png\" alt=\"discrete uniform cdf\" width=\"700\"/>\n",
    "\n",
    "$$\n",
    "\\begin{eqnarray*}\n",
    "\\text{probability mass function}: P(X = x) \\\\\n",
    "\\text{cumulative distribution function}: P(X \\le x)\n",
    "\\end{eqnarray*}\n",
    "$$\n",
    "\n",
    "---\n",
    "\n",
    "# Continuous Distributions!\n",
    "\n",
    "One small notation difference: when dealing with continuous distributions, we use **probability density functions**, not probability mass functions.\n",
    "- This has to do with how probability is defined.\n",
    "\n",
    "## The Continuous Uniform distribution\n",
    "\n",
    "When dealing with an uncountably infinite range of outcomes, we might use a **continuous uniform** instead of a discrete uniform distribution.\n",
    "\n",
    "Parameters of the distribution:\n",
    "\n",
    "- $a$, the minimum value of the distribution.\n",
    "- $b$, the maximum value of the distribution.\n",
    "\n",
    "#### Continuous Uniform pdf\n",
    "\n",
    "The Continuous Uniform pdf is defined as:\n",
    "\n",
    "$$ f(x) = \\frac{1}{b-a} $$\n",
    "\n",
    "One of the most common examples of this is where we want to randomly sample a number between 0 and 1.\n",
    "- This is incredibly valuable if we want to model some complex process through random simulations."
   ]
  },
  {
   "cell_type": "markdown",
   "metadata": {},
   "source": [
    "**Check:**\n",
    "<details><summary> Since we know what a discrete uniform pmf looks like, what do you expect the shape of a continuous uniform pdf to look like?</summary>\n",
    "    \n",
    "- [Head to this site!](http://students.brown.edu/seeing-theory/probability-distributions/index.html#section2)\n",
    "</details>"
   ]
  },
  {
   "cell_type": "markdown",
   "metadata": {},
   "source": [
    "## The Exponential distribution\n",
    "\n",
    "When do we use the Exponential distribution?\n",
    "- We commonly use the Exponential distribution when we are interested in modeling the **amount of time until a success occurs**.\n",
    "\n",
    "Since time is continuous, the exponential distribution is a continuous distribution.\n",
    "\n",
    "Parameters of the distribution:\n",
    "\n",
    "- $\\beta$, the average time to an event."
   ]
  },
  {
   "cell_type": "markdown",
   "metadata": {},
   "source": [
    "<details><summary>Based on historical data, we see an average of 10 buses per hour. From this, how long do you think it will take on average for a new bus to arrive?</summary>\n",
    "\n",
    "- 6 minutes.\n",
    "\n",
    "$$\n",
    "\\begin{eqnarray*}\n",
    "\\frac{\\text{10 buses}}{\\text{1 hour}} = \\frac{\\text{10 buses}}{\\text{60 minutes}} = \\frac{\\text{1 bus}}{\\text{6 minutes}}\n",
    "\\end{eqnarray*}\n",
    "$$\n",
    "</details>"
   ]
  },
  {
   "cell_type": "markdown",
   "metadata": {},
   "source": [
    "#### Exponential pdf\n",
    "\n",
    "Let $X \\sim \\text{Exp}(\\beta)$.\n",
    "\n",
    "The exponential pdf is defined as:\n",
    "\n",
    "$$ f(x) = \\frac{1}{\\beta}  e^{-x/\\beta} $$\n",
    "\n",
    "In this case, $x$ is the time elapsed."
   ]
  },
  {
   "cell_type": "code",
   "execution_count": 80,
   "metadata": {},
   "outputs": [],
   "source": [
    "import numpy as np\n",
    "from scipy import stats\n",
    "import seaborn as sns\n",
    "import matplotlib.pyplot as plt"
   ]
  },
  {
   "cell_type": "code",
   "execution_count": 60,
   "metadata": {},
   "outputs": [],
   "source": [
    "# A short function which plots a random variable's pdf (or cdf!) from\n",
    "# limits lb (lower bound) to ub (upper bound)\n",
    "def plot_distn(rv, lb, ub, kind=\"pdf\"):\n",
    "    xs = np.linspace(lb, ub, 1000)\n",
    "    \n",
    "    if kind == \"pdf\":\n",
    "        ys = rv.pdf(xs)\n",
    "    elif kind == \"cdf\":\n",
    "        ys = rv.cdf(xs)\n",
    "        \n",
    "    plt.figure(figsize=(14, 5))\n",
    "    plt.plot(xs, ys, linewidth=3, color=\"navy\")"
   ]
  },
  {
   "cell_type": "code",
   "execution_count": 61,
   "metadata": {},
   "outputs": [
    {
     "data": {
      "image/png": "[encoded data removed]",
      "text/plain": [
       "<Figure size 1008x360 with 1 Axes>"
      ]
     },
     "metadata": {},
     "output_type": "display_data"
    }
   ],
   "source": [
    "# Thanks to scipy, we can have a sort of random variable object\n",
    "X = stats.expon(scale=6)\n",
    "plot_distn(X, 0, 60)"
   ]
  },
  {
   "cell_type": "code",
   "execution_count": 53,
   "metadata": {},
   "outputs": [
    {
     "data": {
      "text/plain": [
       "6.0"
      ]
     },
     "execution_count": 53,
     "metadata": {},
     "output_type": "execute_result"
    }
   ],
   "source": [
    "# They have lots of interesting methods\n",
    "X.mean()"
   ]
  },
  {
   "cell_type": "markdown",
   "metadata": {},
   "source": [
    "It's generally easier to use the cumulative distribution function to find specific probabilities. (e.g. \"What is the probability that the next bus takes at least 5 but less than 10 minutes to show up?\")"
   ]
  },
  {
   "cell_type": "markdown",
   "metadata": {},
   "source": [
    "#### Exponential cdf\n",
    "\n",
    "Let $X \\sim \\text{Exp}(\\beta)$.\n",
    "\n",
    "The cumulative density function is:\n",
    "\n",
    "$$ F(x) = P(X \\le x) = 1 -  e^{-x/\\beta} $$\n",
    "\n",
    "With the same example, our cumulative distribution function looks like:"
   ]
  },
  {
   "cell_type": "code",
   "execution_count": 62,
   "metadata": {
    "scrolled": true
   },
   "outputs": [
    {
     "data": {
      "image/png": "[encoded data removed]",
      "text/plain": [
       "<Figure size 1008x360 with 1 Axes>"
      ]
     },
     "metadata": {},
     "output_type": "display_data"
    }
   ],
   "source": [
    "plot_distn(X, 0, 60, kind=\"cdf\")"
   ]
  },
  {
   "cell_type": "code",
   "execution_count": 64,
   "metadata": {},
   "outputs": [
    {
     "data": {
      "text/plain": [
       "0.8111243971624382"
      ]
     },
     "execution_count": 64,
     "metadata": {},
     "output_type": "execute_result"
    }
   ],
   "source": [
    "# What is the probability that our next bus shows\n",
    "# up in 10 minutes or less?\n",
    "X.cdf(10)"
   ]
  },
  {
   "cell_type": "code",
   "execution_count": 65,
   "metadata": {},
   "outputs": [
    {
     "data": {
      "text/plain": [
       "0.18887560283756177"
      ]
     },
     "execution_count": 65,
     "metadata": {},
     "output_type": "execute_result"
    }
   ],
   "source": [
    "# What is the probability that our next bus takes\n",
    "# more than 10 minutes to show up?\n",
    "1 - X.cdf(10)"
   ]
  },
  {
   "cell_type": "code",
   "execution_count": 66,
   "metadata": {},
   "outputs": [
    {
     "data": {
      "text/plain": [
       "0.24572260566951643"
      ]
     },
     "execution_count": 66,
     "metadata": {},
     "output_type": "execute_result"
    }
   ],
   "source": [
    "# What is the probability that our next bus shows\n",
    "# up in more than 5 minutes but less than 10 minutes?\n",
    "X.cdf(10) - X.cdf(5)"
   ]
  },
  {
   "cell_type": "code",
   "execution_count": 83,
   "metadata": {},
   "outputs": [
    {
     "data": {
      "image/png": "[encoded data removed]",
      "text/plain": [
       "<Figure size 720x288 with 1 Axes>"
      ]
     },
     "metadata": {},
     "output_type": "display_data"
    }
   ],
   "source": [
    "# (THREAD) Sample 10,000 Exp(10) random variables and plot the most beautiful histogram you can.\n",
    "X = stats.expon(scale=10)\n",
    "xs = X.rvs(100000)\n",
    "plt.figure(figsize=(10, 4))\n",
    "plt.hist(xs, bins=100, color=\"navy\")\n",
    "plt.xlim(0, 80);"
   ]
  },
  {
   "cell_type": "markdown",
   "metadata": {},
   "source": [
    "## The Gamma distribution\n",
    "The exponential distribution is actually a _special case_ of the Gamma distribution. That is, if you have $\\alpha$ exponential distributions with the same $\\beta$, their sum is $\\text{Gamma}(\\alpha, \\beta)$.\n",
    "\n",
    "$$ f(x) = \\frac{1}{\\Gamma(\\alpha)\\beta^\\alpha} x^{\\alpha - 1} e^{-x/\\beta} $$\n",
    "\n",
    "The cdf has no closed form.\n",
    "\n",
    "#### Example:\n",
    "Suppose a lightbulb lasts on average 12 months. Once it dies, you replace it with a lightbulb of the same brand. How long will it take to go through 5 lightbulbs? You might model this with $\\text{Gamma}(5, 12)$."
   ]
  },
  {
   "cell_type": "markdown",
   "metadata": {},
   "source": [
    "## Using Data\n",
    "Why do we study distributions like this? If we can safely **_assume_** data follow a certain distribution, we can use their distributional properties (pdf, cdf, mean, variance, etc). To make real-world statements about them.\n",
    "\n",
    "For example, let's say the following matrix is output from a software that measures employee efficiency when completing a task. Each column represents the time (in minutes) it took to produce one widget. Each employee produced five widgets, one after the other. For simplicity's sake, assume each employee is at the same skill level, and they do not experience fatigue."
   ]
  },
  {
   "cell_type": "code",
   "execution_count": 189,
   "metadata": {},
   "outputs": [],
   "source": [
    "times = np.load(\"../data/efficiency.npy\")"
   ]
  },
  {
   "cell_type": "code",
   "execution_count": 216,
   "metadata": {},
   "outputs": [
    {
     "data": {
      "image/png": "[encoded data removed]",
      "text/plain": [
       "<Figure size 432x288 with 1 Axes>"
      ]
     },
     "metadata": {},
     "output_type": "display_data"
    }
   ],
   "source": [
    "# Q1: What distribution might the time it takes to complete one widget follow?\n",
    "# A: Exponential, but it helps to look at the hist too!\n",
    "plt.hist(times.reshape(-1), bins=20);"
   ]
  },
  {
   "cell_type": "code",
   "execution_count": 193,
   "metadata": {},
   "outputs": [
    {
     "data": {
      "text/plain": [
       "5.404866666666666"
      ]
     },
     "execution_count": 193,
     "metadata": {},
     "output_type": "execute_result"
    }
   ],
   "source": [
    "# Q2: What value for the parameter might we estimate for this?\n",
    "np.mean(times)"
   ]
  },
  {
   "cell_type": "code",
   "execution_count": 196,
   "metadata": {},
   "outputs": [
    {
     "data": {
      "text/plain": [
       "0.1572081741841448"
      ]
     },
     "execution_count": 196,
     "metadata": {},
     "output_type": "execute_result"
    }
   ],
   "source": [
    "# Q3: What's the probability it takes longer than 10 minutes to complete a widget?\n",
    "1 - stats.expon(scale=np.mean(times)).cdf(10)"
   ]
  },
  {
   "cell_type": "code",
   "execution_count": 211,
   "metadata": {},
   "outputs": [
    {
     "data": {
      "text/plain": [
       "0.0824360706706464"
      ]
     },
     "execution_count": 211,
     "metadata": {},
     "output_type": "execute_result"
    }
   ],
   "source": [
    "# Q4: What's the probability it takes longer than 45 minutes to complete 5 widgets?\n",
    "1 - stats.gamma(a=5, scale=np.mean(times)).cdf(45)"
   ]
  },
  {
   "cell_type": "markdown",
   "metadata": {},
   "source": [
    "<a id='normal'></a>\n",
    "\n",
    "## The Normal distribution\n",
    "\n",
    "The Normal distribution is the most well known and most important distribution. **Many** real-world processes can be modeled using a Normal distribution.\n",
    "\n",
    "Parameters of the Normal distribution:\n",
    "\n",
    "- $\\mu$ is the mean.\n",
    "- $\\sigma$ is the standard deviation of the distribution.\n",
    "\n",
    "#### Normal pdf\n",
    "\n",
    "Let $X \\sim N(\\mu, \\sigma)$. The probability density function of the Normal distribution is given by\n",
    "\n",
    "### $$ f(x) = \\frac{1}{\\sqrt{2\\pi\\sigma^2} } \\; e^{ -\\frac{(x-\\mu)^2}{2\\sigma^2} } $$"
   ]
  },
  {
   "cell_type": "markdown",
   "metadata": {},
   "source": [
    "Let's say the average purchase from our website is \\\\$25 with a standard deviation of \\\\$5."
   ]
  },
  {
   "cell_type": "code",
   "execution_count": 87,
   "metadata": {},
   "outputs": [
    {
     "name": "stdout",
     "output_type": "stream",
     "text": [
      "25.0\n",
      "5.0\n"
     ]
    }
   ],
   "source": [
    "Y = stats.norm(25, 5)\n",
    "print(Y.mean())\n",
    "print(Y.std())"
   ]
  },
  {
   "cell_type": "code",
   "execution_count": 91,
   "metadata": {},
   "outputs": [
    {
     "data": {
      "image/png": "[encoded data removed]",
      "text/plain": [
       "<Figure size 1008x360 with 1 Axes>"
      ]
     },
     "metadata": {},
     "output_type": "display_data"
    }
   ],
   "source": [
    "Y = stats.norm(25, 5)\n",
    "plot_distn(Y, 0, 50)"
   ]
  },
  {
   "cell_type": "markdown",
   "metadata": {},
   "source": [
    "#### Normal cdf\n",
    "\n",
    "[The Normal cumulative distribution function has to be approximated.](https://en.wikipedia.org/wiki/Normal_distribution#Definition) If you want, see the Wikipedia page for the details on how it is calculated. \n",
    "\n",
    "We can plot it here, however, using SciPy."
   ]
  },
  {
   "cell_type": "code",
   "execution_count": 93,
   "metadata": {
    "scrolled": false
   },
   "outputs": [
    {
     "data": {
      "image/png": "[encoded data removed]",
      "text/plain": [
       "<Figure size 1008x360 with 1 Axes>"
      ]
     },
     "metadata": {},
     "output_type": "display_data"
    }
   ],
   "source": [
    "# cdfs all follow the same pattern, and so aren't *too* interesting.\n",
    "plot_distn(Y, 0, 50, kind=\"cdf\")"
   ]
  },
  {
   "cell_type": "markdown",
   "metadata": {},
   "source": [
    "## The Standard Normal distribution\n",
    "An important building block in the world of statistics is the **standard normal distribution**. This is the $N(0, 1)$ distribution, and is traditionally abbreviated with a $Z$. Specifically, if $X \\sim N(\\mu, \\sigma)$, then\n",
    "\n",
    "$$ Z = \\frac{X - \\mu}{\\sigma} \\sim N(0, 1) $$"
   ]
  },
  {
   "cell_type": "markdown",
   "metadata": {},
   "source": [
    "### Interview Question\n",
    "\n",
    "Your company maintains a piece of chat software. An engineer mentions that there were ten support calls yesterday. The engineer wants to use a Normal distribution to predict the number of calls they can expect in a given day so they can figure out how many call technicians are needed."
   ]
  },
  {
   "cell_type": "markdown",
   "metadata": {},
   "source": [
    "<details><summary>What are some of the downsides to using a Normal distribution to predict the maximum number of calls in a day?</summary>\n",
    "\n",
    "_(Answers may vary! This is not a complete list of all possible answers!)_\n",
    "- The number of calls you can expect in a day is a discrete variable, but the Normal distribution is continuous.\n",
    "- The number of calls in a day can't be negative, but the Normal distribution will include negative values!\n",
    "- The Normal distribution is symmetric, but if we plotted the number of calls each day, there's a good chance it won't be symmetric.\n",
    "</details>"
   ]
  },
  {
   "cell_type": "markdown",
   "metadata": {},
   "source": [
    "## The Beta Distrubtion\n",
    "Another distribution that we'll see more later in the class is the beta distribtion. This distribution is special because it can only take on values between 0 and 1. This makes it especially useful for modeling probabilities for Bayesian statistics. It's pretty wild, you can check out beta's [wiki page](https://en.wikipedia.org/wiki/Beta_distribution) for more details.\n",
    "\n",
    "If we let $X \\sim \\text{Beta}(\\alpha, \\beta)$, then\n",
    "\n",
    "$$ f(x) = \\frac{\\Gamma(\\alpha + \\beta)}{\\Gamma(\\alpha)\\Gamma(\\beta)} x^{\\alpha - 1}(1 - x)^{\\beta - 1} $$\n",
    "\n",
    "Note that if $\\alpha = \\beta = 1$, then the $\\text{Beta}(1, 1)$ distribution is exactly the same as the $U(0, 1)$ distribution!"
   ]
  },
  {
   "cell_type": "code",
   "execution_count": 99,
   "metadata": {},
   "outputs": [
    {
     "data": {
      "image/png": "[encoded data removed]",
      "text/plain": [
       "<Figure size 1008x360 with 1 Axes>"
      ]
     },
     "metadata": {},
     "output_type": "display_data"
    }
   ],
   "source": [
    "# Let's make a beta random variable and check it out.\n",
    "X = stats.beta(10, 5)\n",
    "plot_distn(X, 0, 1)"
   ]
  },
  {
   "cell_type": "markdown",
   "metadata": {},
   "source": [
    "### (BONUS) Summary Statistics\n",
    "\n",
    "For these \"named\" distributions (distributions that have names), they have been studied well enough that we know some nice properties. \n",
    "\n",
    "For example:\n",
    "- The mean of the Continuous Uniform distribution is exactly $\\frac{b+a}{2}$.\n",
    "- The mean of the Exponential distribution is exactly $\\beta$.\n",
    "- The mean of the Normal distribution is exactly $\\mu$.\n",
    "- The mean of the Binomial distribution is exactly $np$.\n",
    "- The mean of the Poisson distribution is exactly $\\lambda$.\n",
    "\n",
    "The mean (or expected value) of a random variable $X$ is often denoted with an $E$. That is, if $X$ has a mean $\\mu$, then $E[X] = \\mu$. This notation will pop up as you study outside resources. Working with random variables often involves knowledge of **calculus**."
   ]
  },
  {
   "cell_type": "markdown",
   "metadata": {},
   "source": [
    "## Moving from Distributions to Data\n",
    "\n",
    "It's sometimes nice to use pdfs and cdfs. They can help us answer many problems, like we've seen earlier."
   ]
  },
  {
   "cell_type": "markdown",
   "metadata": {},
   "source": [
    "<details><summary>However, in the real world, we might not have access to the pdf or the cdf. Why is that?</summary>\n",
    "    \n",
    "- We have to believe that our population perfectly follows a specific probability distribution. It's probably not often the case that our data does this.\n",
    "- However, there's a really special and important result in statistics that connects data with a common probability distribution that we rely on a lot.\n",
    "</details>"
   ]
  },
  {
   "cell_type": "code",
   "execution_count": 177,
   "metadata": {},
   "outputs": [],
   "source": [
    "data = np.load(\"../data/strange-data.npy\")"
   ]
  },
  {
   "cell_type": "code",
   "execution_count": 178,
   "metadata": {},
   "outputs": [
    {
     "data": {
      "image/png": "[encoded data removed]",
      "text/plain": [
       "<Figure size 432x288 with 1 Axes>"
      ]
     },
     "metadata": {},
     "output_type": "display_data"
    }
   ],
   "source": [
    "plt.hist(data, bins=100);"
   ]
  },
  {
   "cell_type": "code",
   "execution_count": 170,
   "metadata": {},
   "outputs": [
    {
     "data": {
      "image/png": "[encoded data removed]",
      "text/plain": [
       "<Figure size 432x288 with 1 Axes>"
      ]
     },
     "metadata": {},
     "output_type": "display_data"
    }
   ],
   "source": [
    "xbars = [np.mean(np.random.choice(data, size=100)) for _ in range(100000)]\n",
    "plt.hist(xbars, bins=100);"
   ]
  },
  {
   "cell_type": "markdown",
   "metadata": {},
   "source": [
    "### **This is the Central Limit Theorem at play!**"
   ]
  },
  {
   "cell_type": "markdown",
   "metadata": {},
   "source": [
    "## Central Limit Theorem\n",
    "\n",
    "The CLT is one of the most misunderstood theorems in all of statistics. In essence, it states:\n",
    "\n",
    "Suppose you have a random variable $X$ that follows any (reasonable) distribution. Suppose you randomly sample from this distribution and compute its mean and write it down. Now do this many, many more times. **The distribution of these means will follow a normal distribution in the long run.**\n",
    "\n",
    "Stated in pure math, if $X$ is a random variable with mean $\\mu$ and standard deviation $\\sigma$, then if each sample is taken to be of size $n$, and we let the number of these separate samples go to infinity,\n",
    "\n",
    "$$ \\frac{\\bar{X} - \\mu}{\\sigma/\\sqrt{n}} \\longrightarrow N(0, 1) $$\n",
    "\n",
    "**Because we often deal with averages (or sums) of things, the Central Limit Theorem causes the normal distribution to appear all over the place.** This is amazing! Normality is the most common assumption we'll make about the distribution of our data or our errors. We also rely heavily on the CLT when conducting hypothesis tests.\n",
    "\n",
    "### Visualizing the Central Limit Theorem\n",
    "Check out a fantastic resource [here](https://seeing-theory.brown.edu/probability-distributions/index.html#section3).\n",
    "\n",
    "### Common Misunderstanding of the CLT\n",
    "\n",
    "Many beginners will quote the CLT as saying \"as long as we connect enough data, our data will look normal!\" **THIS IS EXTREMELY FALSE AND I NEVER WANNA HEAR IT AGAIN!!!** In fact, this is the definition of a distribution! If we collect more and more data from a source, that distribution will converge to its true distribution."
   ]
  },
  {
   "cell_type": "markdown",
   "metadata": {},
   "source": [
    "## LEARNING OBJECTIVES\n",
    "By the end of this lesson, students should be able to:\n",
    "- Give examples of several continuous distributions: uniform, exponential, gamma, normal, standard normal, and beta.\n",
    "- Understand how and why we can use distributional assumptions in our work.\n",
    "- Describe why the normal distribution is seen everywhere.\n",
    "- State the Central Limit Theorem."
   ]
  },
  {
   "cell_type": "markdown",
   "metadata": {},
   "source": [
    "<details><summary>What is the Continuous Uniform distribution?</summary>\n",
    "\n",
    "- The Continuous Uniform distribution is a distribution that takes on an uncountable number of values with equal probability.\n",
    "- An example of the Continuous Uniform might be to randomly generate a number between 0 and 1.\n",
    "</details>"
   ]
  },
  {
   "cell_type": "markdown",
   "metadata": {},
   "source": [
    "<details><summary>What is the Exponential distribution?</summary>\n",
    "\n",
    "- Just like the Poisson distribution is the Binomial distribution taken to the limit, the Exponential distribution is the Geometric distribution taken to the limit. The Exponential distribution models the amount of time until an event occurs. Examples of the Exponential distribution might be:\n",
    "    - The amount of time until a bus arrives at the stop.\n",
    "    - The amount of time until a light bulb stops working.\n",
    "    - The amount of time until a new visitor comes to my website.\n",
    "</details>"
   ]
  },
  {
   "cell_type": "markdown",
   "metadata": {},
   "source": [
    "<details><summary>What is the Normal distribution?</summary>\n",
    "\n",
    "- The Normal distribution is the most widely-known distribution. It is symmetric, bell-shaped, and is parameterized by its mean and variance/standard deviation. Examples of the Normal distribution might be:\n",
    "    - The intelligence quotient (IQ) of individuals.\n",
    "    - The average values of 1,000 dice rolls.\n",
    "</details>"
   ]
  },
  {
   "cell_type": "markdown",
   "metadata": {},
   "source": [
    "<details><summary>Why is the Normal distribution seen everywhere?</summary>\n",
    "\n",
    "- The Normal distribution naturally models a lot of real-world phenomena. However, the Normal distribution also models the average of **any** random variables, as long as there's enough. We often count or average things, so this will pop up frequently. In addition, some distributions naturally are means/sums of other random variables (Poisson, Binomial, and lots of others we haven't officially discussed) so we can use the Normal distribution in lots of cases!\n",
    "</details>"
   ]
  },
  {
   "cell_type": "markdown",
   "metadata": {},
   "source": [
    "<details><summary>State the Central Limit Theorem.</summary>\n",
    "\n",
    "- The Central Limit Theorem states that, as $N \\rightarrow \\infty$ (where $N$ is the number of independent samples), the sampling distribution of $\\bar{X}$ will approach a Normal distribution with mean $\\mu$ and standard deviation $\\frac{\\sigma}{\\sqrt{n}}$.\n",
    "</details>"
   ]
  },
  {
   "cell_type": "markdown",
   "metadata": {},
   "source": [
    "### Resources\n",
    "- The [Kolmogorov-Smirnov test](https://docs.scipy.org/doc/scipy-0.14.0/reference/generated/scipy.stats.kstest.html) is a way for us to estimate whether two samples come from the same distribution or whether one sample comes from a particular distribution. (This will make more sense after you've covered hypothesis testing in inference.)"
   ]
  }
 ],
 "metadata": {
  "kernelspec": {
   "display_name": "Python 3",
   "language": "python",
   "name": "python3"
  },
  "language_info": {
   "codemirror_mode": {
    "name": "ipython",
    "version": 3
   },
   "file_extension": ".py",
   "mimetype": "text/x-python",
   "name": "python",
   "nbconvert_exporter": "python",
   "pygments_lexer": "ipython3",
   "version": "3.7.6"
  }
 },
 "nbformat": 4,
 "nbformat_minor": 1
}
