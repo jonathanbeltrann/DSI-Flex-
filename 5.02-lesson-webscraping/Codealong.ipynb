{
 "cells": [
  {
   "cell_type": "code",
   "execution_count": 1,
   "metadata": {
    "tags": []
   },
   "outputs": [],
   "source": [
    "import pandas as pd\n",
    "import requests\n",
    "from bs4 import BeautifulSoup "
   ]
  },
  {
   "cell_type": "markdown",
   "metadata": {},
   "source": [
    "# Using the requests library"
   ]
  },
  {
   "cell_type": "code",
   "execution_count": 2,
   "metadata": {
    "tags": []
   },
   "outputs": [],
   "source": [
    "url = 'https://rldaggie.github.io/sample-html/'\n",
    "res = requests.get(url)"
   ]
  },
  {
   "cell_type": "markdown",
   "metadata": {},
   "source": [
    "### Status Codes"
   ]
  },
  {
   "cell_type": "code",
   "execution_count": 3,
   "metadata": {},
   "outputs": [
    {
     "data": {
      "text/plain": [
       "200"
      ]
     },
     "execution_count": 3,
     "metadata": {},
     "output_type": "execute_result"
    }
   ],
   "source": [
    "res.status_code"
   ]
  },
  {
   "cell_type": "code",
   "execution_count": 4,
   "metadata": {},
   "outputs": [
    {
     "data": {
      "text/plain": [
       "b'<!DOCTYPE html>\\n<html>\\n  <head>\\n    <meta charset=\"utf-8\">\\n    <title>The title</title>\\n\\n    <style media=\"screen\">\\n      tbody tr {\\n        color: red;\\n      }\\n    </style>\\n  </head>\\n  <body>\\n    <h1 class=\"foobar\" id=\"title\">This is an h1</h1>\\n\\n    <div>\\n      <h1 class=\"foobar\">This is yet another heading.</h1>\\n\\n      Something inside the div\\n    </div>\\n\\n    <h3>Todo List</h3>\\n    <ol class=\"todo\">\\n      <li class=\"foobar\">Take out trash</li>\\n      <li>Pay billz</li>\\n      <li class=\"foobar\">Feed dog</li>\\n    </ol>\\n\\n    <h3>Completed</h3>\\n    <ol class=\\'done\\'>\\n      <li>Mow lawn</li>\\n      <li class=\"foobar\"><span>Take out compost</span></li>\\n      <li><span>Create scraping lecture</span></li>\\n    </ol>\\n\\n    <p class=\\'foobar\\'>Lorem ipsum dolor sit amet, consectetur adipisicing elit, sed do eiusmod tempor incididunt ut labore et dolore magna aliqua. Ut enim ad minim veniam, quis nostrud exercitation ullamco laboris nisi ut aliquip ex ea commodo consequat. <span>Duis aute irure dolor</span> in reprehenderit in voluptate velit esse cillum dolore eu fugiat nulla pariatur. <em>Excepteur sint occaecat cupidatat non proident, sunt in culpa qui officia deserunt mollit anim id est laborum</em>.</p>\\n\\n    <p>Lorem ipsum dolor sit amet, consectetur adipisicing elit, sed do eiusmod tempor incididunt ut labore et dolore magna aliqua. Ut enim ad minim veniam, quis nostrud exercitation ullamco laboris nisi ut aliquip ex ea commodo consequat. <strong><em>Duis aute irure dolor in reprehenderit in voluptate velit esse cillum dolore eu fugiat nulla pariatur</em></strong>. Excepteur sint occaecat cupidatat non proident, sunt in culpa qui officia deserunt mollit anim id est laborum.</p>\\n\\n    <table id=\"directory\">\\n      <thead>\\n        <tr>\\n          <th>Name</th>\\n          <th>Role</th>\\n        </tr>\\n      </thead>\\n\\n      <tbody>\\n        <tr class=\\'student\\'>\\n          <th><a href=\"mailto:praveen@ga.co\">Praveen\\n\\n\\n\\n          </a></th>\\n          <td>Student</td>\\n        </tr>\\n        <tr class=\\'student\\'>\\n          <th><a href=\"mailto:fred@ga.co\">Fred\\n\\n\\n\\n          </a></th>\\n          <td>Student</td>\\n        </tr>\\n        <tr class=\\'student\\'>\\n          <th><a href=\"mailto:homer@ga.co\">Homer\\n\\n\\n\\n          </a></th>\\n          <td><span class=\\'foobar\\'>Student</span></td>\\n        </tr>\\n        <tr class=\\'student\\'>\\n          <th><a href=\"mailto:kyle@ga.co\">Kyle\\n\\n\\n\\n          </a></th>\\n          <td>Student</td>\\n        </tr>\\n        <tr class=\\'student\\'>\\n          <th><a href=\"mailto:sam@ga.co\">Sam\\n\\n\\n\\n          </a></th>\\n          <td>Student</td>\\n        </tr>\\n        <tr class=\\'student\\'>\\n          <th><a href=\"mailto:javier@ga.co\">Javier\\n\\n\\n\\n          </a></th>\\n          <td>Student</td>\\n        </tr>\\n        <tr class=\\'student\\'>\\n          <th><a href=\"mailto:nengkuan@ga.co\">Nengkuan\\n\\n\\n\\n          </a></th>\\n          <td>Student</td>\\n        </tr>\\n        <tr class=\\'student\\'>\\n          <th><a href=\"mailto:kieth@ga.co\">Kieth\\n\\n\\n\\n          </a></th>\\n          <td>Student</td>\\n        </tr>\\n        <tr class=\\'student\\'>\\n          <th><a href=\"mailto:bola@ga.co\">Bola\\n\\n\\n\\n          </a></th>\\n          <td>Student</td>\\n        </tr>\\n        <tr class=\\'student\\'>\\n          <th><a href=\"mailto:steve@ga.co\">Steve\\n\\n\\n\\n          </a></th>\\n          <td>Student</td>\\n        </tr>\\n        <tr class=\\'student\\'>\\n          <th><a href=\"mailto:nichole@ga.co\">Nichole\\n\\n\\n\\n          </a></th>\\n          <td>Instructor</td>\\n        </tr>\\n        <tr class=\\'student\\'>\\n          <th><a href=\"mailto:riley@ga.co\">Riley\\n\\n\\n\\n          </a></th>\\n          <td>Instructor</td>\\n        </tr>\\n      </tbody>\\n    </table>\\n\\n    <footer>\\n      <p>Copyright 2017. All rights reserved</p>\\n\\n      <ul>\\n        <li><a href=\"#\">Home</a></li>\\n        <li><a href=\"#\">About</a></li>\\n        <li><a href=\"#\">Contact</a></li>\\n      </ul>\\n    </footer>\\n  </body>\\n</html>\\n'"
      ]
     },
     "execution_count": 4,
     "metadata": {},
     "output_type": "execute_result"
    }
   ],
   "source": [
    "res.content"
   ]
  },
  {
   "cell_type": "markdown",
   "metadata": {},
   "source": [
    "### Creating a `BeautifulSoup` object"
   ]
  },
  {
   "cell_type": "code",
   "execution_count": 5,
   "metadata": {
    "tags": []
   },
   "outputs": [],
   "source": [
    "soup = BeautifulSoup(res.content)\n",
    "# soup"
   ]
  },
  {
   "cell_type": "markdown",
   "metadata": {},
   "source": [
    "# `soup.find()`\n",
    "\n",
    "Returns either:\n",
    "\n",
    "1. A soup object of the first match\n",
    "2. `None`"
   ]
  },
  {
   "cell_type": "code",
   "execution_count": 50,
   "metadata": {},
   "outputs": [
    {
     "name": "stdout",
     "output_type": "stream",
     "text": [
      "This is an h1\n"
     ]
    }
   ],
   "source": [
    "h1 = soup.find('h1', {'id':'title'})\n",
    "\n",
    "if h1:\n",
    "    print(h1.text)"
   ]
  },
  {
   "cell_type": "code",
   "execution_count": 51,
   "metadata": {},
   "outputs": [
    {
     "data": {
      "text/plain": [
       "'This is an h1'"
      ]
     },
     "execution_count": 51,
     "metadata": {},
     "output_type": "execute_result"
    }
   ],
   "source": [
    "h1.text"
   ]
  },
  {
   "cell_type": "code",
   "execution_count": 52,
   "metadata": {},
   "outputs": [
    {
     "data": {
      "text/plain": [
       "{'class': ['foobar'], 'id': 'title'}"
      ]
     },
     "execution_count": 52,
     "metadata": {},
     "output_type": "execute_result"
    }
   ],
   "source": [
    "h1.attrs"
   ]
  },
  {
   "cell_type": "code",
   "execution_count": 53,
   "metadata": {},
   "outputs": [
    {
     "name": "stdout",
     "output_type": "stream",
     "text": [
      "This is an h1\n"
     ]
    }
   ],
   "source": [
    "if h1:\n",
    "    print(h1.text)"
   ]
  },
  {
   "cell_type": "code",
   "execution_count": 54,
   "metadata": {},
   "outputs": [
    {
     "name": "stdout",
     "output_type": "stream",
     "text": [
      "This is an h1\n"
     ]
    }
   ],
   "source": [
    "try:\n",
    "    print(h1.text)\n",
    "except:\n",
    "    print('Oops! You spelled something wrong.')"
   ]
  },
  {
   "cell_type": "code",
   "execution_count": 56,
   "metadata": {},
   "outputs": [
    {
     "name": "stdout",
     "output_type": "stream",
     "text": [
      "[10.0]\n",
      "[10.0, 11.11111111111111]\n",
      "[10.0, 11.11111111111111, 12.5]\n",
      "[10.0, 11.11111111111111, 12.5, 14.285714285714286]\n",
      "[10.0, 11.11111111111111, 12.5, 14.285714285714286, 16.666666666666668]\n",
      "[10.0, 11.11111111111111, 12.5, 14.285714285714286, 16.666666666666668, 20.0]\n",
      "[10.0, 11.11111111111111, 12.5, 14.285714285714286, 16.666666666666668, 20.0, 25.0]\n",
      "[10.0, 11.11111111111111, 12.5, 14.285714285714286, 16.666666666666668, 20.0, 25.0, 33.333333333333336]\n",
      "[10.0, 11.11111111111111, 12.5, 14.285714285714286, 16.666666666666668, 20.0, 25.0, 33.333333333333336, 50.0]\n",
      "[10.0, 11.11111111111111, 12.5, 14.285714285714286, 16.666666666666668, 20.0, 25.0, 33.333333333333336, 50.0, 100.0]\n",
      "You cant divide by 0\n",
      "[10.0, 11.11111111111111, 12.5, 14.285714285714286, 16.666666666666668, 20.0, 25.0, 33.333333333333336, 50.0, 100.0, -100.0]\n",
      "[10.0, 11.11111111111111, 12.5, 14.285714285714286, 16.666666666666668, 20.0, 25.0, 33.333333333333336, 50.0, 100.0, -100.0, -50.0]\n",
      "[10.0, 11.11111111111111, 12.5, 14.285714285714286, 16.666666666666668, 20.0, 25.0, 33.333333333333336, 50.0, 100.0, -100.0, -50.0, -33.333333333333336]\n",
      "[10.0, 11.11111111111111, 12.5, 14.285714285714286, 16.666666666666668, 20.0, 25.0, 33.333333333333336, 50.0, 100.0, -100.0, -50.0, -33.333333333333336, -25.0]\n",
      "[10.0, 11.11111111111111, 12.5, 14.285714285714286, 16.666666666666668, 20.0, 25.0, 33.333333333333336, 50.0, 100.0, -100.0, -50.0, -33.333333333333336, -25.0, -20.0]\n",
      "[10.0, 11.11111111111111, 12.5, 14.285714285714286, 16.666666666666668, 20.0, 25.0, 33.333333333333336, 50.0, 100.0, -100.0, -50.0, -33.333333333333336, -25.0, -20.0, -16.666666666666668]\n",
      "[10.0, 11.11111111111111, 12.5, 14.285714285714286, 16.666666666666668, 20.0, 25.0, 33.333333333333336, 50.0, 100.0, -100.0, -50.0, -33.333333333333336, -25.0, -20.0, -16.666666666666668, -14.285714285714286]\n",
      "[10.0, 11.11111111111111, 12.5, 14.285714285714286, 16.666666666666668, 20.0, 25.0, 33.333333333333336, 50.0, 100.0, -100.0, -50.0, -33.333333333333336, -25.0, -20.0, -16.666666666666668, -14.285714285714286, -12.5]\n",
      "[10.0, 11.11111111111111, 12.5, 14.285714285714286, 16.666666666666668, 20.0, 25.0, 33.333333333333336, 50.0, 100.0, -100.0, -50.0, -33.333333333333336, -25.0, -20.0, -16.666666666666668, -14.285714285714286, -12.5, -11.11111111111111]\n"
     ]
    }
   ],
   "source": [
    "list_div = []\n",
    "for num in range(10,-10,-1):\n",
    "    try:\n",
    "        list_div.append(100/num)\n",
    "        print(list_div)\n",
    "    except:\n",
    "        print('You cant divide by 0')"
   ]
  },
  {
   "cell_type": "code",
   "execution_count": 57,
   "metadata": {},
   "outputs": [
    {
     "data": {
      "text/plain": [
       "[10.0,\n",
       " 11.11111111111111,\n",
       " 12.5,\n",
       " 14.285714285714286,\n",
       " 16.666666666666668,\n",
       " 20.0,\n",
       " 25.0,\n",
       " 33.333333333333336,\n",
       " 50.0,\n",
       " 100.0,\n",
       " -100.0,\n",
       " -50.0,\n",
       " -33.333333333333336,\n",
       " -25.0,\n",
       " -20.0,\n",
       " -16.666666666666668,\n",
       " -14.285714285714286,\n",
       " -12.5,\n",
       " -11.11111111111111]"
      ]
     },
     "execution_count": 57,
     "metadata": {},
     "output_type": "execute_result"
    }
   ],
   "source": [
    "list_div"
   ]
  },
  {
   "cell_type": "markdown",
   "metadata": {},
   "source": [
    "# `soup.find_all()`\n",
    "\n",
    "Returns a **_LIST_** of soup objects that match your query"
   ]
  },
  {
   "cell_type": "code",
   "execution_count": 58,
   "metadata": {},
   "outputs": [],
   "source": [
    "h1_tags = soup.find_all('h1')"
   ]
  },
  {
   "cell_type": "code",
   "execution_count": 59,
   "metadata": {},
   "outputs": [
    {
     "data": {
      "text/plain": [
       "['This is an h1', 'This is yet another heading.']"
      ]
     },
     "execution_count": 59,
     "metadata": {},
     "output_type": "execute_result"
    }
   ],
   "source": [
    "[tag.text for tag in h1_tags]"
   ]
  },
  {
   "cell_type": "code",
   "execution_count": null,
   "metadata": {},
   "outputs": [],
   "source": []
  },
  {
   "cell_type": "markdown",
   "metadata": {},
   "source": [
    "# Creating a `pandas` DataFrame from a scrape"
   ]
  },
  {
   "cell_type": "markdown",
   "metadata": {},
   "source": [
    "### Todo List"
   ]
  },
  {
   "cell_type": "code",
   "execution_count": 60,
   "metadata": {},
   "outputs": [],
   "source": [
    "# people = [\n",
    "#     # {'name': 'chuck', 'city': 'Dallas'},\n",
    "#     # {'name': 'Jon', 'city': 'NYC'}\n",
    "# ]"
   ]
  },
  {
   "cell_type": "code",
   "execution_count": 61,
   "metadata": {},
   "outputs": [
    {
     "data": {
      "text/html": [
       "<div>\n",
       "<style scoped>\n",
       "    .dataframe tbody tr th:only-of-type {\n",
       "        vertical-align: middle;\n",
       "    }\n",
       "\n",
       "    .dataframe tbody tr th {\n",
       "        vertical-align: top;\n",
       "    }\n",
       "\n",
       "    .dataframe thead th {\n",
       "        text-align: right;\n",
       "    }\n",
       "</style>\n",
       "<table border=\"1\" class=\"dataframe\">\n",
       "  <thead>\n",
       "    <tr style=\"text-align: right;\">\n",
       "      <th></th>\n",
       "      <th>name</th>\n",
       "      <th>city</th>\n",
       "    </tr>\n",
       "  </thead>\n",
       "  <tbody>\n",
       "    <tr>\n",
       "      <th>0</th>\n",
       "      <td>chuck</td>\n",
       "      <td>Dallas</td>\n",
       "    </tr>\n",
       "    <tr>\n",
       "      <th>1</th>\n",
       "      <td>Jon</td>\n",
       "      <td>NYC</td>\n",
       "    </tr>\n",
       "  </tbody>\n",
       "</table>\n",
       "</div>"
      ],
      "text/plain": [
       "    name    city\n",
       "0  chuck  Dallas\n",
       "1    Jon     NYC"
      ]
     },
     "execution_count": 61,
     "metadata": {},
     "output_type": "execute_result"
    }
   ],
   "source": [
    "pd.DataFrame(people)"
   ]
  },
  {
   "cell_type": "code",
   "execution_count": 69,
   "metadata": {},
   "outputs": [
    {
     "data": {
      "text/plain": [
       "<ol class=\"done\">\n",
       "<li>Mow lawn</li>\n",
       "<li class=\"foobar\"><span>Take out compost</span></li>\n",
       "<li><span>Create scraping lecture</span></li>\n",
       "</ol>"
      ]
     },
     "execution_count": 69,
     "metadata": {},
     "output_type": "execute_result"
    }
   ],
   "source": [
    "ol = soup.find('ol', {'class', 'done'})\n",
    "ol"
   ]
  },
  {
   "cell_type": "code",
   "execution_count": 70,
   "metadata": {},
   "outputs": [
    {
     "data": {
      "text/plain": [
       "['Mow lawn', 'Take out compost', 'Create scraping lecture']"
      ]
     },
     "execution_count": 70,
     "metadata": {},
     "output_type": "execute_result"
    }
   ],
   "source": [
    "[row.text for row in ol.find_all('li')]"
   ]
  },
  {
   "cell_type": "code",
   "execution_count": 75,
   "metadata": {},
   "outputs": [
    {
     "name": "stdout",
     "output_type": "stream",
     "text": [
      "You just completed: Mow lawn\n",
      "You just completed: Take out compost\n",
      "You just completed: Create scraping lecture\n"
     ]
    }
   ],
   "source": [
    "for item in soup.find('ol', {'class','done'}).find_all('li'):\n",
    "    print('You just completed: ' + item.text)"
   ]
  },
  {
   "cell_type": "code",
   "execution_count": 77,
   "metadata": {},
   "outputs": [
    {
     "data": {
      "text/html": [
       "<div>\n",
       "<style scoped>\n",
       "    .dataframe tbody tr th:only-of-type {\n",
       "        vertical-align: middle;\n",
       "    }\n",
       "\n",
       "    .dataframe tbody tr th {\n",
       "        vertical-align: top;\n",
       "    }\n",
       "\n",
       "    .dataframe thead th {\n",
       "        text-align: right;\n",
       "    }\n",
       "</style>\n",
       "<table border=\"1\" class=\"dataframe\">\n",
       "  <thead>\n",
       "    <tr style=\"text-align: right;\">\n",
       "      <th></th>\n",
       "      <th>task</th>\n",
       "    </tr>\n",
       "  </thead>\n",
       "  <tbody>\n",
       "    <tr>\n",
       "      <th>0</th>\n",
       "      <td>Mow lawn</td>\n",
       "    </tr>\n",
       "    <tr>\n",
       "      <th>1</th>\n",
       "      <td>Take out compost</td>\n",
       "    </tr>\n",
       "    <tr>\n",
       "      <th>2</th>\n",
       "      <td>Create scraping lecture</td>\n",
       "    </tr>\n",
       "  </tbody>\n",
       "</table>\n",
       "</div>"
      ],
      "text/plain": [
       "                      task\n",
       "0                 Mow lawn\n",
       "1         Take out compost\n",
       "2  Create scraping lecture"
      ]
     },
     "execution_count": 77,
     "metadata": {},
     "output_type": "execute_result"
    }
   ],
   "source": [
    "todos = []\n",
    "\n",
    "for list_item in ol.find_all('li'):\n",
    "    temp_dict = {}\n",
    "    temp_dict['task'] = list_item.text\n",
    "    todos.append(temp_dict)\n",
    "\n",
    "pd.DataFrame(todos)"
   ]
  },
  {
   "cell_type": "markdown",
   "metadata": {},
   "source": [
    "### GA Directory"
   ]
  },
  {
   "cell_type": "code",
   "execution_count": null,
   "metadata": {},
   "outputs": [],
   "source": [
    "#Steps to scrape\n",
    "#Make sure it's okay to web scrape\n",
    "# get Url\n",
    "# request.get url\n",
    "# Check status - make sure it's 200\n",
    "# convert request to a soup object\n",
    "# inspect on the website and start looking where on the site the info you're looking for is living\n",
    "# take our soup object and subdivide by the relevant tag\n",
    "# Create our empty list\n",
    "# populate temp dictionary with relevant info via for loops\n",
    "# append the dict to the list\n",
    "# convert list into DataFrame\n"
   ]
  },
  {
   "cell_type": "code",
   "execution_count": 7,
   "metadata": {},
   "outputs": [
    {
     "data": {
      "text/html": [
       "<div>\n",
       "<style scoped>\n",
       "    .dataframe tbody tr th:only-of-type {\n",
       "        vertical-align: middle;\n",
       "    }\n",
       "\n",
       "    .dataframe tbody tr th {\n",
       "        vertical-align: top;\n",
       "    }\n",
       "\n",
       "    .dataframe thead th {\n",
       "        text-align: right;\n",
       "    }\n",
       "</style>\n",
       "<table border=\"1\" class=\"dataframe\">\n",
       "  <thead>\n",
       "    <tr style=\"text-align: right;\">\n",
       "      <th></th>\n",
       "      <th>name</th>\n",
       "      <th>role</th>\n",
       "      <th>email</th>\n",
       "    </tr>\n",
       "  </thead>\n",
       "  <tbody>\n",
       "    <tr>\n",
       "      <th>0</th>\n",
       "      <td>Praveen</td>\n",
       "      <td>Student</td>\n",
       "      <td>praveen@ga.co</td>\n",
       "    </tr>\n",
       "    <tr>\n",
       "      <th>1</th>\n",
       "      <td>Fred</td>\n",
       "      <td>Student</td>\n",
       "      <td>fred@ga.co</td>\n",
       "    </tr>\n",
       "    <tr>\n",
       "      <th>2</th>\n",
       "      <td>Homer</td>\n",
       "      <td>Student</td>\n",
       "      <td>homer@ga.co</td>\n",
       "    </tr>\n",
       "    <tr>\n",
       "      <th>3</th>\n",
       "      <td>Kyle</td>\n",
       "      <td>Student</td>\n",
       "      <td>kyle@ga.co</td>\n",
       "    </tr>\n",
       "    <tr>\n",
       "      <th>4</th>\n",
       "      <td>Sam</td>\n",
       "      <td>Student</td>\n",
       "      <td>sam@ga.co</td>\n",
       "    </tr>\n",
       "    <tr>\n",
       "      <th>5</th>\n",
       "      <td>Javier</td>\n",
       "      <td>Student</td>\n",
       "      <td>javier@ga.co</td>\n",
       "    </tr>\n",
       "    <tr>\n",
       "      <th>6</th>\n",
       "      <td>Nengkuan</td>\n",
       "      <td>Student</td>\n",
       "      <td>nengkuan@ga.co</td>\n",
       "    </tr>\n",
       "    <tr>\n",
       "      <th>7</th>\n",
       "      <td>Kieth</td>\n",
       "      <td>Student</td>\n",
       "      <td>kieth@ga.co</td>\n",
       "    </tr>\n",
       "    <tr>\n",
       "      <th>8</th>\n",
       "      <td>Bola</td>\n",
       "      <td>Student</td>\n",
       "      <td>bola@ga.co</td>\n",
       "    </tr>\n",
       "    <tr>\n",
       "      <th>9</th>\n",
       "      <td>Steve</td>\n",
       "      <td>Student</td>\n",
       "      <td>steve@ga.co</td>\n",
       "    </tr>\n",
       "    <tr>\n",
       "      <th>10</th>\n",
       "      <td>Nichole</td>\n",
       "      <td>Instructor</td>\n",
       "      <td>nichole@ga.co</td>\n",
       "    </tr>\n",
       "    <tr>\n",
       "      <th>11</th>\n",
       "      <td>Riley</td>\n",
       "      <td>Instructor</td>\n",
       "      <td>riley@ga.co</td>\n",
       "    </tr>\n",
       "  </tbody>\n",
       "</table>\n",
       "</div>"
      ],
      "text/plain": [
       "        name        role           email\n",
       "0    Praveen     Student   praveen@ga.co\n",
       "1       Fred     Student      fred@ga.co\n",
       "2      Homer     Student     homer@ga.co\n",
       "3       Kyle     Student      kyle@ga.co\n",
       "4        Sam     Student       sam@ga.co\n",
       "5     Javier     Student    javier@ga.co\n",
       "6   Nengkuan     Student  nengkuan@ga.co\n",
       "7      Kieth     Student     kieth@ga.co\n",
       "8       Bola     Student      bola@ga.co\n",
       "9      Steve     Student     steve@ga.co\n",
       "10   Nichole  Instructor   nichole@ga.co\n",
       "11     Riley  Instructor     riley@ga.co"
      ]
     },
     "execution_count": 7,
     "metadata": {},
     "output_type": "execute_result"
    }
   ],
   "source": [
    "table = soup.find('table',{'id': 'directory'})\n",
    "\n",
    "people =[]\n",
    "for item in table.find('tbody').find_all('tr'):\n",
    "    person = {}\n",
    "    person['name'] = item.find('a').text.strip()#Name\n",
    "    person['role'] = item.find('td').text#role\n",
    "    person['email'] = item.find('a').attrs['href'][7:] #email\n",
    "    people.append(person)\n",
    "\n",
    "pd.DataFrame(people)"
   ]
  },
  {
   "cell_type": "code",
   "execution_count": null,
   "metadata": {},
   "outputs": [],
   "source": []
  },
  {
   "cell_type": "markdown",
   "metadata": {},
   "source": [
    "### Basketball Reference"
   ]
  },
  {
   "cell_type": "code",
   "execution_count": 44,
   "metadata": {},
   "outputs": [
    {
     "data": {
      "text/plain": [
       "200"
      ]
     },
     "execution_count": 44,
     "metadata": {},
     "output_type": "execute_result"
    }
   ],
   "source": [
    "url ='https://www.basketball-reference.com/'\n",
    "\n",
    "res = requests.get(url)\n",
    "\n",
    "res.status_code"
   ]
  },
  {
   "cell_type": "code",
   "execution_count": 66,
   "metadata": {},
   "outputs": [
    {
     "ename": "FeatureNotFound",
     "evalue": "Couldn't find a tree builder with the features you requested: lxml. Do you need to install a parser library?",
     "output_type": "error",
     "traceback": [
      "\u001b[0;31m---------------------------------------------------------------------------\u001b[0m",
      "\u001b[0;31mFeatureNotFound\u001b[0m                           Traceback (most recent call last)",
      "\u001b[0;32m/var/folders/85/gfsz06392cx1589spz1jvvtc0000gn/T/ipykernel_30604/2530928670.py\u001b[0m in \u001b[0;36m<module>\u001b[0;34m\u001b[0m\n\u001b[0;32m----> 1\u001b[0;31m \u001b[0msoup\u001b[0m \u001b[0;34m=\u001b[0m \u001b[0mBeautifulSoup\u001b[0m\u001b[0;34m(\u001b[0m\u001b[0mres\u001b[0m\u001b[0;34m.\u001b[0m\u001b[0mcontent\u001b[0m\u001b[0;34m,\u001b[0m \u001b[0;34m'lxml'\u001b[0m\u001b[0;34m)\u001b[0m\u001b[0;34m\u001b[0m\u001b[0;34m\u001b[0m\u001b[0m\n\u001b[0m",
      "\u001b[0;32m~/opt/miniconda3/lib/python3.9/site-packages/bs4/__init__.py\u001b[0m in \u001b[0;36m__init__\u001b[0;34m(self, markup, features, builder, parse_only, from_encoding, exclude_encodings, element_classes, **kwargs)\u001b[0m\n\u001b[1;32m    243\u001b[0m             \u001b[0mbuilder_class\u001b[0m \u001b[0;34m=\u001b[0m \u001b[0mbuilder_registry\u001b[0m\u001b[0;34m.\u001b[0m\u001b[0mlookup\u001b[0m\u001b[0;34m(\u001b[0m\u001b[0;34m*\u001b[0m\u001b[0mfeatures\u001b[0m\u001b[0;34m)\u001b[0m\u001b[0;34m\u001b[0m\u001b[0;34m\u001b[0m\u001b[0m\n\u001b[1;32m    244\u001b[0m             \u001b[0;32mif\u001b[0m \u001b[0mbuilder_class\u001b[0m \u001b[0;32mis\u001b[0m \u001b[0;32mNone\u001b[0m\u001b[0;34m:\u001b[0m\u001b[0;34m\u001b[0m\u001b[0;34m\u001b[0m\u001b[0m\n\u001b[0;32m--> 245\u001b[0;31m                 raise FeatureNotFound(\n\u001b[0m\u001b[1;32m    246\u001b[0m                     \u001b[0;34m\"Couldn't find a tree builder with the features you \"\u001b[0m\u001b[0;34m\u001b[0m\u001b[0;34m\u001b[0m\u001b[0m\n\u001b[1;32m    247\u001b[0m                     \u001b[0;34m\"requested: %s. Do you need to install a parser library?\"\u001b[0m\u001b[0;34m\u001b[0m\u001b[0;34m\u001b[0m\u001b[0m\n",
      "\u001b[0;31mFeatureNotFound\u001b[0m: Couldn't find a tree builder with the features you requested: lxml. Do you need to install a parser library?"
     ]
    }
   ],
   "source": [
    "soup = BeautifulSoup(res.content, 'lxml')"
   ]
  },
  {
   "cell_type": "code",
   "execution_count": 46,
   "metadata": {},
   "outputs": [],
   "source": [
    "# soup"
   ]
  },
  {
   "cell_type": "code",
   "execution_count": 78,
   "metadata": {},
   "outputs": [],
   "source": [
    "teams = []\n",
    "\n",
    "for conf in ['E', 'W']:\n",
    "    table = soup.find('table', {'id': f'confs_standings_{conf}'}).find('tbody')\n",
    "    for row in table.find_all('tr'):\n",
    "        team ={}\n",
    "        team['name'] = row.find('a').attrs['title']#team name\n",
    "        team['wins'] =row.find('td', {'data-stat': 'wins'}).text\n",
    "        team['losses'] = row.find('td', {'data-stat': 'losses'}).text#losses\n",
    "        team['seed'] = row.find('span').text.strip()[1:-1]\n",
    "        team['conf'] = conf #conference\n",
    "        team['slug'] = row.find('a').text \n",
    "        teams.append(team)\n",
    "        \n",
    "df =pd.DataFrame(teams)\n",
    "    "
   ]
  },
  {
   "cell_type": "code",
   "execution_count": 87,
   "metadata": {},
   "outputs": [],
   "source": [
    "from time import sleep"
   ]
  },
  {
   "cell_type": "code",
   "execution_count": 88,
   "metadata": {},
   "outputs": [
    {
     "name": "stdout",
     "output_type": "stream",
     "text": [
      "MIA was scraped Successfully\n",
      "CHI was scraped Successfully\n",
      "BRK was scraped Successfully\n",
      "MIL was scraped Successfully\n",
      "CLE was scraped Successfully\n",
      "PHI was scraped Successfully\n",
      "CHO was scraped Successfully\n",
      "BOS was scraped Successfully\n",
      "TOR was scraped Successfully\n",
      "WAS was scraped Successfully\n",
      "NYK was scraped Successfully\n",
      "ATL was scraped Successfully\n",
      "IND was scraped Successfully\n",
      "DET was scraped Successfully\n",
      "ORL was scraped Successfully\n",
      "PHO was scraped Successfully\n",
      "GSW was scraped Successfully\n",
      "MEM was scraped Successfully\n",
      "UTA was scraped Successfully\n",
      "DAL was scraped Successfully\n",
      "DEN was scraped Successfully\n",
      "MIN was scraped Successfully\n",
      "LAL was scraped Successfully\n",
      "LAC was scraped Successfully\n",
      "POR was scraped Successfully\n",
      "NOP was scraped Successfully\n",
      "SAC was scraped Successfully\n",
      "SAS was scraped Successfully\n",
      "HOU was scraped Successfully\n",
      "OKC was scraped Successfully\n"
     ]
    }
   ],
   "source": [
    "full_nba_roster = []\n",
    "\n",
    "for team in df['slug']:\n",
    "    temp_url = f'https://www.basketball-reference.com/teams/{team}/2022.html'\n",
    "    temp_df = pd.read_html(temp_url)[3].drop(columns=['Unnamed: 22', 'Unnamed: 17'])\n",
    "    temp_df['team_name'] = team\n",
    "    full_nba_roster.append(temp_df)\n",
    "    sleep(3)\n",
    "    print(f'{team} was scraped Successfully')"
   ]
  },
  {
   "cell_type": "code",
   "execution_count": 91,
   "metadata": {},
   "outputs": [],
   "source": [
    "full_roster = pd.concat(full_nba_roster)"
   ]
  },
  {
   "cell_type": "code",
   "execution_count": 92,
   "metadata": {},
   "outputs": [],
   "source": [
    "full_roster.to_csv('full_roster.csv')"
   ]
  },
  {
   "cell_type": "code",
   "execution_count": 86,
   "metadata": {},
   "outputs": [
    {
     "data": {
      "text/html": [
       "<div>\n",
       "<style scoped>\n",
       "    .dataframe tbody tr th:only-of-type {\n",
       "        vertical-align: middle;\n",
       "    }\n",
       "\n",
       "    .dataframe tbody tr th {\n",
       "        vertical-align: top;\n",
       "    }\n",
       "\n",
       "    .dataframe thead th {\n",
       "        text-align: right;\n",
       "    }\n",
       "</style>\n",
       "<table border=\"1\" class=\"dataframe\">\n",
       "  <thead>\n",
       "    <tr style=\"text-align: right;\">\n",
       "      <th></th>\n",
       "      <th>Rk</th>\n",
       "      <th>Unnamed: 1</th>\n",
       "      <th>Age</th>\n",
       "      <th>G</th>\n",
       "      <th>MP</th>\n",
       "      <th>PER</th>\n",
       "      <th>TS%</th>\n",
       "      <th>3PAr</th>\n",
       "      <th>FTr</th>\n",
       "      <th>ORB%</th>\n",
       "      <th>...</th>\n",
       "      <th>TOV%</th>\n",
       "      <th>USG%</th>\n",
       "      <th>OWS</th>\n",
       "      <th>DWS</th>\n",
       "      <th>WS</th>\n",
       "      <th>WS/48</th>\n",
       "      <th>OBPM</th>\n",
       "      <th>DBPM</th>\n",
       "      <th>BPM</th>\n",
       "      <th>VORP</th>\n",
       "    </tr>\n",
       "  </thead>\n",
       "  <tbody>\n",
       "    <tr>\n",
       "      <th>0</th>\n",
       "      <td>1</td>\n",
       "      <td>Kyle Lowry</td>\n",
       "      <td>35</td>\n",
       "      <td>39</td>\n",
       "      <td>1333</td>\n",
       "      <td>14.6</td>\n",
       "      <td>0.555</td>\n",
       "      <td>0.588</td>\n",
       "      <td>0.263</td>\n",
       "      <td>2.0</td>\n",
       "      <td>...</td>\n",
       "      <td>20.2</td>\n",
       "      <td>19.6</td>\n",
       "      <td>1.9</td>\n",
       "      <td>1.5</td>\n",
       "      <td>3.4</td>\n",
       "      <td>0.121</td>\n",
       "      <td>0.8</td>\n",
       "      <td>0.2</td>\n",
       "      <td>1.0</td>\n",
       "      <td>1.0</td>\n",
       "    </tr>\n",
       "    <tr>\n",
       "      <th>1</th>\n",
       "      <td>2</td>\n",
       "      <td>Tyler Herro</td>\n",
       "      <td>22</td>\n",
       "      <td>38</td>\n",
       "      <td>1250</td>\n",
       "      <td>15.6</td>\n",
       "      <td>0.540</td>\n",
       "      <td>0.382</td>\n",
       "      <td>0.179</td>\n",
       "      <td>2.3</td>\n",
       "      <td>...</td>\n",
       "      <td>12.7</td>\n",
       "      <td>29.6</td>\n",
       "      <td>0.6</td>\n",
       "      <td>1.2</td>\n",
       "      <td>1.8</td>\n",
       "      <td>0.069</td>\n",
       "      <td>1.3</td>\n",
       "      <td>-1.4</td>\n",
       "      <td>-0.1</td>\n",
       "      <td>0.6</td>\n",
       "    </tr>\n",
       "    <tr>\n",
       "      <th>2</th>\n",
       "      <td>3</td>\n",
       "      <td>Duncan Robinson</td>\n",
       "      <td>27</td>\n",
       "      <td>44</td>\n",
       "      <td>1222</td>\n",
       "      <td>10.9</td>\n",
       "      <td>0.557</td>\n",
       "      <td>0.838</td>\n",
       "      <td>0.089</td>\n",
       "      <td>1.7</td>\n",
       "      <td>...</td>\n",
       "      <td>7.3</td>\n",
       "      <td>18.3</td>\n",
       "      <td>1.1</td>\n",
       "      <td>1.2</td>\n",
       "      <td>2.3</td>\n",
       "      <td>0.089</td>\n",
       "      <td>-0.3</td>\n",
       "      <td>-0.3</td>\n",
       "      <td>-0.6</td>\n",
       "      <td>0.4</td>\n",
       "    </tr>\n",
       "    <tr>\n",
       "      <th>3</th>\n",
       "      <td>4</td>\n",
       "      <td>P.J. Tucker</td>\n",
       "      <td>36</td>\n",
       "      <td>41</td>\n",
       "      <td>1161</td>\n",
       "      <td>12.5</td>\n",
       "      <td>0.615</td>\n",
       "      <td>0.484</td>\n",
       "      <td>0.155</td>\n",
       "      <td>6.3</td>\n",
       "      <td>...</td>\n",
       "      <td>12.7</td>\n",
       "      <td>11.8</td>\n",
       "      <td>1.9</td>\n",
       "      <td>1.3</td>\n",
       "      <td>3.2</td>\n",
       "      <td>0.133</td>\n",
       "      <td>0.1</td>\n",
       "      <td>1.0</td>\n",
       "      <td>1.1</td>\n",
       "      <td>0.9</td>\n",
       "    </tr>\n",
       "    <tr>\n",
       "      <th>4</th>\n",
       "      <td>5</td>\n",
       "      <td>Jimmy Butler</td>\n",
       "      <td>32</td>\n",
       "      <td>29</td>\n",
       "      <td>971</td>\n",
       "      <td>25.6</td>\n",
       "      <td>0.585</td>\n",
       "      <td>0.124</td>\n",
       "      <td>0.505</td>\n",
       "      <td>5.9</td>\n",
       "      <td>...</td>\n",
       "      <td>9.6</td>\n",
       "      <td>26.7</td>\n",
       "      <td>3.7</td>\n",
       "      <td>1.4</td>\n",
       "      <td>5.2</td>\n",
       "      <td>0.255</td>\n",
       "      <td>5.5</td>\n",
       "      <td>2.3</td>\n",
       "      <td>7.8</td>\n",
       "      <td>2.4</td>\n",
       "    </tr>\n",
       "    <tr>\n",
       "      <th>5</th>\n",
       "      <td>6</td>\n",
       "      <td>Max Strus</td>\n",
       "      <td>25</td>\n",
       "      <td>36</td>\n",
       "      <td>862</td>\n",
       "      <td>14.2</td>\n",
       "      <td>0.618</td>\n",
       "      <td>0.734</td>\n",
       "      <td>0.125</td>\n",
       "      <td>2.0</td>\n",
       "      <td>...</td>\n",
       "      <td>7.2</td>\n",
       "      <td>18.7</td>\n",
       "      <td>1.5</td>\n",
       "      <td>0.8</td>\n",
       "      <td>2.3</td>\n",
       "      <td>0.128</td>\n",
       "      <td>2.0</td>\n",
       "      <td>-0.8</td>\n",
       "      <td>1.2</td>\n",
       "      <td>0.7</td>\n",
       "    </tr>\n",
       "    <tr>\n",
       "      <th>6</th>\n",
       "      <td>7</td>\n",
       "      <td>Gabe Vincent</td>\n",
       "      <td>25</td>\n",
       "      <td>38</td>\n",
       "      <td>857</td>\n",
       "      <td>12.2</td>\n",
       "      <td>0.567</td>\n",
       "      <td>0.602</td>\n",
       "      <td>0.134</td>\n",
       "      <td>2.0</td>\n",
       "      <td>...</td>\n",
       "      <td>16.4</td>\n",
       "      <td>18.6</td>\n",
       "      <td>0.7</td>\n",
       "      <td>0.9</td>\n",
       "      <td>1.6</td>\n",
       "      <td>0.092</td>\n",
       "      <td>-1.1</td>\n",
       "      <td>0.4</td>\n",
       "      <td>-0.8</td>\n",
       "      <td>0.3</td>\n",
       "    </tr>\n",
       "    <tr>\n",
       "      <th>7</th>\n",
       "      <td>8</td>\n",
       "      <td>Caleb Martin</td>\n",
       "      <td>26</td>\n",
       "      <td>37</td>\n",
       "      <td>856</td>\n",
       "      <td>16.0</td>\n",
       "      <td>0.611</td>\n",
       "      <td>0.381</td>\n",
       "      <td>0.224</td>\n",
       "      <td>6.1</td>\n",
       "      <td>...</td>\n",
       "      <td>9.2</td>\n",
       "      <td>16.8</td>\n",
       "      <td>1.4</td>\n",
       "      <td>1.2</td>\n",
       "      <td>2.7</td>\n",
       "      <td>0.149</td>\n",
       "      <td>0.5</td>\n",
       "      <td>0.9</td>\n",
       "      <td>1.4</td>\n",
       "      <td>0.7</td>\n",
       "    </tr>\n",
       "    <tr>\n",
       "      <th>8</th>\n",
       "      <td>9</td>\n",
       "      <td>Bam Adebayo</td>\n",
       "      <td>24</td>\n",
       "      <td>22</td>\n",
       "      <td>723</td>\n",
       "      <td>19.6</td>\n",
       "      <td>0.581</td>\n",
       "      <td>0.003</td>\n",
       "      <td>0.466</td>\n",
       "      <td>8.7</td>\n",
       "      <td>...</td>\n",
       "      <td>15.9</td>\n",
       "      <td>25.4</td>\n",
       "      <td>1.1</td>\n",
       "      <td>1.2</td>\n",
       "      <td>2.3</td>\n",
       "      <td>0.150</td>\n",
       "      <td>0.7</td>\n",
       "      <td>1.5</td>\n",
       "      <td>2.2</td>\n",
       "      <td>0.8</td>\n",
       "    </tr>\n",
       "    <tr>\n",
       "      <th>9</th>\n",
       "      <td>10</td>\n",
       "      <td>Dewayne Dedmon</td>\n",
       "      <td>32</td>\n",
       "      <td>40</td>\n",
       "      <td>672</td>\n",
       "      <td>17.9</td>\n",
       "      <td>0.664</td>\n",
       "      <td>0.118</td>\n",
       "      <td>0.315</td>\n",
       "      <td>12.6</td>\n",
       "      <td>...</td>\n",
       "      <td>16.8</td>\n",
       "      <td>16.1</td>\n",
       "      <td>1.4</td>\n",
       "      <td>1.1</td>\n",
       "      <td>2.6</td>\n",
       "      <td>0.183</td>\n",
       "      <td>-0.4</td>\n",
       "      <td>0.6</td>\n",
       "      <td>0.2</td>\n",
       "      <td>0.4</td>\n",
       "    </tr>\n",
       "    <tr>\n",
       "      <th>10</th>\n",
       "      <td>11</td>\n",
       "      <td>Omer Yurtseven</td>\n",
       "      <td>23</td>\n",
       "      <td>36</td>\n",
       "      <td>545</td>\n",
       "      <td>18.1</td>\n",
       "      <td>0.545</td>\n",
       "      <td>0.037</td>\n",
       "      <td>0.266</td>\n",
       "      <td>13.6</td>\n",
       "      <td>...</td>\n",
       "      <td>13.9</td>\n",
       "      <td>19.8</td>\n",
       "      <td>0.7</td>\n",
       "      <td>1.0</td>\n",
       "      <td>1.7</td>\n",
       "      <td>0.153</td>\n",
       "      <td>-1.2</td>\n",
       "      <td>0.6</td>\n",
       "      <td>-0.5</td>\n",
       "      <td>0.2</td>\n",
       "    </tr>\n",
       "    <tr>\n",
       "      <th>11</th>\n",
       "      <td>12</td>\n",
       "      <td>KZ Okpala</td>\n",
       "      <td>22</td>\n",
       "      <td>21</td>\n",
       "      <td>244</td>\n",
       "      <td>10.7</td>\n",
       "      <td>0.521</td>\n",
       "      <td>0.377</td>\n",
       "      <td>0.159</td>\n",
       "      <td>5.1</td>\n",
       "      <td>...</td>\n",
       "      <td>6.3</td>\n",
       "      <td>14.3</td>\n",
       "      <td>0.2</td>\n",
       "      <td>0.3</td>\n",
       "      <td>0.5</td>\n",
       "      <td>0.100</td>\n",
       "      <td>-2.7</td>\n",
       "      <td>0.1</td>\n",
       "      <td>-2.6</td>\n",
       "      <td>0.0</td>\n",
       "    </tr>\n",
       "    <tr>\n",
       "      <th>12</th>\n",
       "      <td>13</td>\n",
       "      <td>Markieff Morris</td>\n",
       "      <td>32</td>\n",
       "      <td>10</td>\n",
       "      <td>187</td>\n",
       "      <td>10.6</td>\n",
       "      <td>0.533</td>\n",
       "      <td>0.314</td>\n",
       "      <td>0.071</td>\n",
       "      <td>7.8</td>\n",
       "      <td>...</td>\n",
       "      <td>14.3</td>\n",
       "      <td>19.9</td>\n",
       "      <td>0.1</td>\n",
       "      <td>0.1</td>\n",
       "      <td>0.2</td>\n",
       "      <td>0.055</td>\n",
       "      <td>-1.3</td>\n",
       "      <td>-0.4</td>\n",
       "      <td>-1.7</td>\n",
       "      <td>0.0</td>\n",
       "    </tr>\n",
       "    <tr>\n",
       "      <th>13</th>\n",
       "      <td>14</td>\n",
       "      <td>Kyle Guy</td>\n",
       "      <td>24</td>\n",
       "      <td>9</td>\n",
       "      <td>137</td>\n",
       "      <td>14.2</td>\n",
       "      <td>0.618</td>\n",
       "      <td>0.604</td>\n",
       "      <td>0.104</td>\n",
       "      <td>0.8</td>\n",
       "      <td>...</td>\n",
       "      <td>10.7</td>\n",
       "      <td>18.2</td>\n",
       "      <td>0.3</td>\n",
       "      <td>0.1</td>\n",
       "      <td>0.4</td>\n",
       "      <td>0.131</td>\n",
       "      <td>0.1</td>\n",
       "      <td>0.4</td>\n",
       "      <td>0.5</td>\n",
       "      <td>0.1</td>\n",
       "    </tr>\n",
       "    <tr>\n",
       "      <th>14</th>\n",
       "      <td>15</td>\n",
       "      <td>Marcus Garrett</td>\n",
       "      <td>23</td>\n",
       "      <td>12</td>\n",
       "      <td>128</td>\n",
       "      <td>4.8</td>\n",
       "      <td>0.280</td>\n",
       "      <td>0.190</td>\n",
       "      <td>0.238</td>\n",
       "      <td>7.9</td>\n",
       "      <td>...</td>\n",
       "      <td>7.9</td>\n",
       "      <td>8.7</td>\n",
       "      <td>-0.1</td>\n",
       "      <td>0.2</td>\n",
       "      <td>0.1</td>\n",
       "      <td>0.030</td>\n",
       "      <td>-6.0</td>\n",
       "      <td>0.8</td>\n",
       "      <td>-5.2</td>\n",
       "      <td>-0.1</td>\n",
       "    </tr>\n",
       "    <tr>\n",
       "      <th>15</th>\n",
       "      <td>16</td>\n",
       "      <td>Chris Silva</td>\n",
       "      <td>25</td>\n",
       "      <td>7</td>\n",
       "      <td>63</td>\n",
       "      <td>16.2</td>\n",
       "      <td>0.690</td>\n",
       "      <td>0.000</td>\n",
       "      <td>0.769</td>\n",
       "      <td>17.9</td>\n",
       "      <td>...</td>\n",
       "      <td>18.7</td>\n",
       "      <td>15.0</td>\n",
       "      <td>0.2</td>\n",
       "      <td>0.1</td>\n",
       "      <td>0.3</td>\n",
       "      <td>0.203</td>\n",
       "      <td>-2.3</td>\n",
       "      <td>-0.6</td>\n",
       "      <td>-2.8</td>\n",
       "      <td>0.0</td>\n",
       "    </tr>\n",
       "    <tr>\n",
       "      <th>16</th>\n",
       "      <td>17</td>\n",
       "      <td>Udonis Haslem</td>\n",
       "      <td>41</td>\n",
       "      <td>8</td>\n",
       "      <td>52</td>\n",
       "      <td>14.7</td>\n",
       "      <td>0.563</td>\n",
       "      <td>0.100</td>\n",
       "      <td>0.150</td>\n",
       "      <td>8.7</td>\n",
       "      <td>...</td>\n",
       "      <td>8.6</td>\n",
       "      <td>19.9</td>\n",
       "      <td>0.1</td>\n",
       "      <td>0.1</td>\n",
       "      <td>0.2</td>\n",
       "      <td>0.141</td>\n",
       "      <td>-2.5</td>\n",
       "      <td>0.4</td>\n",
       "      <td>-2.2</td>\n",
       "      <td>0.0</td>\n",
       "    </tr>\n",
       "    <tr>\n",
       "      <th>17</th>\n",
       "      <td>18</td>\n",
       "      <td>Haywood Highsmith</td>\n",
       "      <td>25</td>\n",
       "      <td>4</td>\n",
       "      <td>42</td>\n",
       "      <td>11.0</td>\n",
       "      <td>0.750</td>\n",
       "      <td>0.875</td>\n",
       "      <td>0.000</td>\n",
       "      <td>5.4</td>\n",
       "      <td>...</td>\n",
       "      <td>0.0</td>\n",
       "      <td>8.4</td>\n",
       "      <td>0.1</td>\n",
       "      <td>0.0</td>\n",
       "      <td>0.1</td>\n",
       "      <td>0.138</td>\n",
       "      <td>0.2</td>\n",
       "      <td>-0.9</td>\n",
       "      <td>-0.7</td>\n",
       "      <td>0.0</td>\n",
       "    </tr>\n",
       "    <tr>\n",
       "      <th>18</th>\n",
       "      <td>19</td>\n",
       "      <td>Nik Stauskas</td>\n",
       "      <td>28</td>\n",
       "      <td>2</td>\n",
       "      <td>24</td>\n",
       "      <td>13.6</td>\n",
       "      <td>0.564</td>\n",
       "      <td>0.500</td>\n",
       "      <td>0.500</td>\n",
       "      <td>4.7</td>\n",
       "      <td>...</td>\n",
       "      <td>0.0</td>\n",
       "      <td>18.0</td>\n",
       "      <td>0.1</td>\n",
       "      <td>0.0</td>\n",
       "      <td>0.1</td>\n",
       "      <td>0.148</td>\n",
       "      <td>0.3</td>\n",
       "      <td>-1.4</td>\n",
       "      <td>-1.0</td>\n",
       "      <td>0.0</td>\n",
       "    </tr>\n",
       "  </tbody>\n",
       "</table>\n",
       "<p>19 rows × 25 columns</p>\n",
       "</div>"
      ],
      "text/plain": [
       "    Rk         Unnamed: 1  Age   G    MP   PER    TS%   3PAr    FTr  ORB%  \\\n",
       "0    1         Kyle Lowry   35  39  1333  14.6  0.555  0.588  0.263   2.0   \n",
       "1    2        Tyler Herro   22  38  1250  15.6  0.540  0.382  0.179   2.3   \n",
       "2    3    Duncan Robinson   27  44  1222  10.9  0.557  0.838  0.089   1.7   \n",
       "3    4        P.J. Tucker   36  41  1161  12.5  0.615  0.484  0.155   6.3   \n",
       "4    5       Jimmy Butler   32  29   971  25.6  0.585  0.124  0.505   5.9   \n",
       "5    6          Max Strus   25  36   862  14.2  0.618  0.734  0.125   2.0   \n",
       "6    7       Gabe Vincent   25  38   857  12.2  0.567  0.602  0.134   2.0   \n",
       "7    8       Caleb Martin   26  37   856  16.0  0.611  0.381  0.224   6.1   \n",
       "8    9        Bam Adebayo   24  22   723  19.6  0.581  0.003  0.466   8.7   \n",
       "9   10     Dewayne Dedmon   32  40   672  17.9  0.664  0.118  0.315  12.6   \n",
       "10  11     Omer Yurtseven   23  36   545  18.1  0.545  0.037  0.266  13.6   \n",
       "11  12          KZ Okpala   22  21   244  10.7  0.521  0.377  0.159   5.1   \n",
       "12  13    Markieff Morris   32  10   187  10.6  0.533  0.314  0.071   7.8   \n",
       "13  14           Kyle Guy   24   9   137  14.2  0.618  0.604  0.104   0.8   \n",
       "14  15     Marcus Garrett   23  12   128   4.8  0.280  0.190  0.238   7.9   \n",
       "15  16        Chris Silva   25   7    63  16.2  0.690  0.000  0.769  17.9   \n",
       "16  17      Udonis Haslem   41   8    52  14.7  0.563  0.100  0.150   8.7   \n",
       "17  18  Haywood Highsmith   25   4    42  11.0  0.750  0.875  0.000   5.4   \n",
       "18  19       Nik Stauskas   28   2    24  13.6  0.564  0.500  0.500   4.7   \n",
       "\n",
       "    ...  TOV%  USG%  OWS  DWS   WS  WS/48  OBPM  DBPM  BPM  VORP  \n",
       "0   ...  20.2  19.6  1.9  1.5  3.4  0.121   0.8   0.2  1.0   1.0  \n",
       "1   ...  12.7  29.6  0.6  1.2  1.8  0.069   1.3  -1.4 -0.1   0.6  \n",
       "2   ...   7.3  18.3  1.1  1.2  2.3  0.089  -0.3  -0.3 -0.6   0.4  \n",
       "3   ...  12.7  11.8  1.9  1.3  3.2  0.133   0.1   1.0  1.1   0.9  \n",
       "4   ...   9.6  26.7  3.7  1.4  5.2  0.255   5.5   2.3  7.8   2.4  \n",
       "5   ...   7.2  18.7  1.5  0.8  2.3  0.128   2.0  -0.8  1.2   0.7  \n",
       "6   ...  16.4  18.6  0.7  0.9  1.6  0.092  -1.1   0.4 -0.8   0.3  \n",
       "7   ...   9.2  16.8  1.4  1.2  2.7  0.149   0.5   0.9  1.4   0.7  \n",
       "8   ...  15.9  25.4  1.1  1.2  2.3  0.150   0.7   1.5  2.2   0.8  \n",
       "9   ...  16.8  16.1  1.4  1.1  2.6  0.183  -0.4   0.6  0.2   0.4  \n",
       "10  ...  13.9  19.8  0.7  1.0  1.7  0.153  -1.2   0.6 -0.5   0.2  \n",
       "11  ...   6.3  14.3  0.2  0.3  0.5  0.100  -2.7   0.1 -2.6   0.0  \n",
       "12  ...  14.3  19.9  0.1  0.1  0.2  0.055  -1.3  -0.4 -1.7   0.0  \n",
       "13  ...  10.7  18.2  0.3  0.1  0.4  0.131   0.1   0.4  0.5   0.1  \n",
       "14  ...   7.9   8.7 -0.1  0.2  0.1  0.030  -6.0   0.8 -5.2  -0.1  \n",
       "15  ...  18.7  15.0  0.2  0.1  0.3  0.203  -2.3  -0.6 -2.8   0.0  \n",
       "16  ...   8.6  19.9  0.1  0.1  0.2  0.141  -2.5   0.4 -2.2   0.0  \n",
       "17  ...   0.0   8.4  0.1  0.0  0.1  0.138   0.2  -0.9 -0.7   0.0  \n",
       "18  ...   0.0  18.0  0.1  0.0  0.1  0.148   0.3  -1.4 -1.0   0.0  \n",
       "\n",
       "[19 rows x 25 columns]"
      ]
     },
     "execution_count": 86,
     "metadata": {},
     "output_type": "execute_result"
    }
   ],
   "source": [
    "url = 'https://www.basketball-reference.com/teams/MIA/2022.html'\n",
    "pd.read_html(url)[3].drop(columns=['Unnamed: 22', 'Unnamed: 17'])"
   ]
  },
  {
   "cell_type": "code",
   "execution_count": null,
   "metadata": {},
   "outputs": [],
   "source": []
  }
 ],
 "metadata": {
  "kernelspec": {
   "display_name": "Python 3 (ipykernel)",
   "language": "python",
   "name": "python3"
  },
  "language_info": {
   "codemirror_mode": {
    "name": "ipython",
    "version": 3
   },
   "file_extension": ".py",
   "mimetype": "text/x-python",
   "name": "python",
   "nbconvert_exporter": "python",
   "pygments_lexer": "ipython3",
   "version": "3.9.5"
  }
 },
 "nbformat": 4,
 "nbformat_minor": 4
}
